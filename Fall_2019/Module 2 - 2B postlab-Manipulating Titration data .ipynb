{
 "cells": [
  {
   "cell_type": "markdown",
   "metadata": {},
   "source": [
    "# Manipulating Titration Data\n",
    "\n",
    "We will walk through this notebook as a class, and discuss how to get your data formatted to use it in your post-lab calculations!\n",
    "\n",
    "First, let's just take a look a the pH as a function of titrant added, and make sure our data has imported correctly!\n",
    "\n"
   ]
  },
  {
   "cell_type": "code",
   "execution_count": null,
   "metadata": {},
   "outputs": [],
   "source": [
    "import math\n",
    "import matplotlib.pyplot as plt\n",
    "import numpy as np\n",
    "\n",
    "\n",
    "# This is how we'll import our data; it should be saved as a .csv file, in the same folder as this notebook. \n",
    "# Make sure you have volume in the first column and pH in the second column, with no headings on the data!\n",
    "\n",
    "csv = np.genfromtxt ('sample_titration.csv', delimiter=\",\")\n",
    "volume = csv[:,0]\n",
    "pH = csv[:,1]\n",
    "\n",
    "plt.plot(volume, pH, 'ro')\n",
    "\n",
    "# Add labels on the x and y axis, always including units.\n",
    "plt.xlabel('titrant added (mL)')\n",
    "plt.ylabel('pH')\n",
    "\n",
    "\n",
    "#lets just take a look!\n",
    "plt.show()\n",
    "\n",
    "\n",
    "        "
   ]
  },
  {
   "cell_type": "markdown",
   "metadata": {},
   "source": [
    "## Finding equivalence points\n",
    "\n",
    "First, lets take a closer look at the data.\n",
    "\n",
    "1. Based on the graph above, do you think is acid is a monoprotic, diprotic or triprotic acid?\n",
    "\n",
    "\n",
    "2. How many equivalence points should we find?\n",
    "\n",
    "\n",
    "3. Can you see them? Estimate by eye approximately where you think those equivalence points are.\n",
    "\n",
    "\n",
    "\n",
    "\n",
    "It can be hard to see the equivalence points, remember our pH meters can be slow to respond, and the equivalence point is where the pH is changing the fastest! We can manipulate this data to make it a little easier to find the equivalence point. There are two strategies we can use.\n",
    "\n",
    "1. First or second derivitives\n",
    "2. Gran plot\n",
    "\n",
    "Let's start with the derivitive method!"
   ]
  },
  {
   "cell_type": "code",
   "execution_count": null,
   "metadata": {},
   "outputs": [],
   "source": [
    "from numpy import diff\n",
    "# take the derivitive of pH with respect to volume\n",
    "\n",
    "dpHdV = diff(pH)/diff(volume)\n",
    "\n",
    "volume_update = np.delete(volume, (0), axis=0)\n",
    "\n",
    "plt.plot(volume_update, dpHdV, 'ro')\n",
    "\n",
    "# Add labels on the x and y axis, always including units.\n",
    "plt.xlabel('titrant added (mL)')\n",
    "plt.ylabel('d (pH) / d(V) ')\n",
    "\n",
    "\n",
    "#lets just take a look!\n",
    "plt.show()"
   ]
  },
  {
   "cell_type": "markdown",
   "metadata": {},
   "source": [
    "Notice that the sharp peaks are at the equivalence points! Remember, a derivitive is just a measure of how quickly your function is changing, so it is largest where the slope of the line is largest! This makes the equivalnce points a lot easier to see! \n",
    "We can automatically report the volume of the highest peak, using a very simple numpy command; but notice it may return the 1st or the 2nd equivalence point, depending on which is higher, so be sure to keep them straight!"
   ]
  },
  {
   "cell_type": "code",
   "execution_count": null,
   "metadata": {},
   "outputs": [],
   "source": [
    "# finding the index of the highest value in the first derivitive array\n",
    "ind = np.argmax(dpHdV)\n",
    "\n",
    "# finding the volume at the same index\n",
    "endpoint_volume = volume_update[ind]\n",
    "\n",
    "print (\"the endpoint volume is \" + str(endpoint_volume) + \" mL\")"
   ]
  },
  {
   "cell_type": "markdown",
   "metadata": {},
   "source": [
    "Your textbook also discusses 2nd derivitives as an option for finding an endpoint. This can work very nicely, because the endpoints are where the data crosses zero! Take a look:"
   ]
  },
  {
   "cell_type": "code",
   "execution_count": null,
   "metadata": {},
   "outputs": [],
   "source": [
    "d2pHdV = diff(dpHdV)/diff(volume_update)\n",
    "\n",
    "volume_update2 = np.delete(volume_update, (0), axis=0)\n",
    "\n",
    "plt.plot(volume_update2, d2pHdV, 'ro')\n",
    "\n",
    "# Add labels on the x and y axis, always including units.\n",
    "plt.xlabel('titrant added (mL)')\n",
    "plt.ylabel('d(d (pH) / d(V)) / dV ')\n",
    "\n",
    "\n",
    "#lets just take a look!\n",
    "plt.show()"
   ]
  },
  {
   "cell_type": "markdown",
   "metadata": {},
   "source": [
    "This is your second derivitive plot! Now our equivalence point is where the plot crosses zero. Unfortunantly, there is a lot of noise in the data, so optimizing the search for these inflection points is a harder computational problem than I would like to address here, but it can be a good reality check for the data you got from the first derivitive plot!"
   ]
  },
  {
   "cell_type": "markdown",
   "metadata": {},
   "source": [
    "## Gran Plots\n",
    "\n",
    "Our second method for finding endpoints is the Gran plot. This works by highlighting the region near the equivalence point and zeroing in on the slope of the line as it approaches the endpoint. <b> It is helpful to already have an idea where your endpoint is, roughly, before you begin this section. </b>\n",
    "\n",
    "\n",
    "Gran plots can be helpful, because they take advantage of additional points leading up to the endpoint. Since the pH meter is least accurate near the endpoint, including these additional points in your calculation can help reduce some of the error coming from the sluggish kinetics of the pH meter itself.\n",
    "\n",
    "\n"
   ]
  },
  {
   "cell_type": "code",
   "execution_count": null,
   "metadata": {},
   "outputs": [],
   "source": [
    "# trim the data to the points approaching the first equivalence point\n",
    "# we'll take the endpoint we found earlier, and use it to estimate where our 1st equivalence points is:\n",
    "\n",
    "\n",
    "\n",
    "Gran_y = volume * 10**(-pH)\n",
    "\n",
    "plt.plot(volume, Gran_y, 'ro')\n",
    "\n",
    "# Add labels on the x and y axis, always including units.\n",
    "plt.xlabel('titrant added (mL)')\n",
    "plt.ylabel('d(d (pH) / d(V)) / dV ')\n",
    "\n",
    "\n",
    "#lets just take a look!\n",
    "plt.show()"
   ]
  },
  {
   "cell_type": "markdown",
   "metadata": {},
   "source": [
    "The endpoint is where this graph begins to approach zero, in the steepest part of the curve. To fit this to a line, ideally we would use a linear regression on the data just before the endpoint (in this case, ~ 10-17 mL looks about right)\n",
    "\n"
   ]
  },
  {
   "cell_type": "code",
   "execution_count": null,
   "metadata": {},
   "outputs": [],
   "source": [
    "# trim the array to zero in on the region between the first equivalence point, and halfway before the first equivalence points\n",
    "\n",
    "# these can be just a starting point, and you can adjust them based on the plot\n",
    "trim = ind//2\n",
    "start = trim//2\n",
    "\n",
    "Gran_trim = Gran_y[start:trim]\n",
    "volume_trim = volume[start:trim]\n",
    "\n",
    "plt.plot(volume_trim, Gran_trim, 'ro')\n",
    "\n",
    "# Add labels on the x and y axis, always including units.\n",
    "plt.xlabel('titrant added (mL)')\n",
    "plt.ylabel('Vb * 10^(-pH) ')\n",
    "\n",
    "\n",
    "#lets just take a look!\n",
    "plt.show()"
   ]
  },
  {
   "cell_type": "markdown",
   "metadata": {},
   "source": [
    "Now we want the x-intercept of this plot, which will be our first equivalence point!\n",
    "\n",
    "Remember, if $ y= mx +b $ we solve for the x-intercept by plugging in a zero for y, and solve for x. \n",
    "Rearranging, you'll get $$ x_{intercept} = \\frac{-b}{m} $$"
   ]
  },
  {
   "cell_type": "code",
   "execution_count": null,
   "metadata": {},
   "outputs": [],
   "source": [
    "# getting the equation of the line\n",
    "\n",
    "import scipy.stats\n",
    "\n",
    "# the linear regression function in the scipy stats module returns 5 values: slope, intercept, R-squared and then two uncertainty values p and s_m\n",
    "# we'll ignore the last two for the moment, since all we really need right now is the equation of the line\n",
    "m, b, R2, p, s_m = scipy.stats.linregress(volume_trim, Gran_trim)\n",
    "\n",
    "# solve for the x-intercept (where y = 0)\n",
    "\n",
    "x_intercept = (-b/m)\n",
    "\n",
    "print (\"the equivalence point, determined by the Gran plot is \" + str(x_intercept) + \" mL\") "
   ]
  },
  {
   "cell_type": "markdown",
   "metadata": {},
   "source": [
    "## Results and Analysis notes\n",
    "\n",
    "Use both methods to determine an endpoint for your data, and then compare the results you get for the formula weight of your compound! Which one got you closer to the true value? "
   ]
  },
  {
   "cell_type": "code",
   "execution_count": null,
   "metadata": {},
   "outputs": [],
   "source": []
  }
 ],
 "metadata": {
  "kernelspec": {
   "display_name": "Python 3",
   "language": "python",
   "name": "python3"
  },
  "language_info": {
   "codemirror_mode": {
    "name": "ipython",
    "version": 3
   },
   "file_extension": ".py",
   "mimetype": "text/x-python",
   "name": "python",
   "nbconvert_exporter": "python",
   "pygments_lexer": "ipython3",
   "version": "3.7.0"
  }
 },
 "nbformat": 4,
 "nbformat_minor": 2
}
