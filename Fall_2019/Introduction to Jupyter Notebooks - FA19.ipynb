{
 "cells": [
  {
   "cell_type": "markdown",
   "metadata": {},
   "source": [
    "# Welcome to your first Jupyter Notebook!!!\n",
    "\n",
    "We are going to use notebooks like this all semester, so let's take a look around! First, note that you are reading normal text here in this block, not code in Python or any other computer language. \n",
    "\n",
    "Double click on this text! Now you should be able to see the \"markdown\", which is to say, all of the text I have written here, along with a few simple formatting marks. This is similar to the formatting used on most blogging platforms like WordPress, and may be familiar if you've ever used HTML. There are a few very common formatting marks that you will see me use, and while you don't necessarily need to use them, it's good to have some idea what you're looking at here!\n",
    "\n",
    "For example, the # sign you see above denotes a heading. A few more common markdown commands I will use include <b> bold </b> and <i> italics </i>. I will also \n",
    "* sometimes \n",
    "    * include \n",
    "        * lists\n",
    "Note that the text changes color in the markdown box when the software recognizes that we've asked it to format a list (but those colors will not appear not in the final output!)\n",
    "\n",
    "1. It works\n",
    "    1. with numbered lists\n",
    "        1. and you can have\n",
    "            1. different list levels\n",
    "                1. just by adding a tab before your number\n",
    "                    * or your asterix, if you want to go back to bullets\n",
    "    \n",
    "I will also use some more complex markdown called LaTex (or sometimes just Tex) to display mathematical equations:\n",
    "\n",
    "$$ {\\displaystyle {{pH}}={{p}}K_{{{a}}}+\\log _{10}\\left({\\frac {[{{A^-}}]}{[{{HA}}]}}\\right)} $$\n",
    "\n",
    "You DO NOT have to learn how to use Tex for this class, although it works here and in Lab Archives, and can be a very useful tool.  Don't panic when you see it, and if you want to learn to use it, we'll talk more about that later!\n",
    "\n",
    "For now, just press the arrow next to the word \"Run\" on the toolbar at the top of the page, and you should see see the formatted text again!\n",
    "\n"
   ]
  },
  {
   "cell_type": "markdown",
   "metadata": {},
   "source": [
    "### Coding in a Jupyter Notebook\n",
    "\n",
    "Markdown is not really what we're here for though; other than a few prelab questions, most of your writing will be in Lab Archives anyway! The real point of a Jupyter notebook is to be able to use markdown to introduce and explain the  code that you are writing! The block below this is a code block. Note that it has In[#] next to it, unlike the regular markdown blocks. We working in a computer language called Python (version 3), so you should see the words Python 3 up in the top right corner of this page. So let's take a look: click in the block below:"
   ]
  },
  {
   "cell_type": "code",
   "execution_count": 1,
   "metadata": {},
   "outputs": [
    {
     "name": "stdout",
     "output_type": "stream",
     "text": [
      "hello, Chem 220 student!\n"
     ]
    }
   ],
   "source": [
    "# This is a code block. \n",
    "# Here, anything typed behind a # symbol is called a 'comment'.\n",
    "# Essentially, the # tells the computer to ignore these lines, so it will not to try to run these lines as code\n",
    "# Below, see an actual line of code. What do you think this is going to do?\n",
    "\n",
    "print ('hello, Chem 220 student!')\n",
    "\n",
    "# Press Run to see the output of the command"
   ]
  },
  {
   "cell_type": "code",
   "execution_count": 2,
   "metadata": {},
   "outputs": [
    {
     "name": "stdout",
     "output_type": "stream",
     "text": [
      "try again\n"
     ]
    }
   ],
   "source": [
    "# Type your code here\n",
    "\n",
    "print ('try again')"
   ]
  },
  {
   "cell_type": "markdown",
   "metadata": {},
   "source": [
    "That was easy, right? In the code block below, copy the line of code from above (print ('hello, chem 220 student!')) and change the message. You can write whatever you want! "
   ]
  },
  {
   "cell_type": "markdown",
   "metadata": {},
   "source": [
    "Be sure to press RUN and make sure your code prints out your new message! \n",
    "\n",
    "Congrats! You've just written your first computer program for this class! So, let's go ahead and finish up the assignment:\n",
    "\n",
    "1st, click on the notebook title \"Introduction to Jupyter Notebooks\" and add your name to the title (for example, I would write: Gillette Introduction to Jupyter Notebooks). If the words 'unsaved changes' are still next to the title, be sure to hit the save button (the first one on the toolbar, that looks like a floppy disc)\n",
    "\n",
    "Now, if you open your CHEM 220 folder, you should see your new file name as a .ipynb file. Attach that file to the \"Introduction to Jupyter Notebooks\" page in Lab Archives, and press Submit. \n",
    "\n",
    "Congrats! You've finished your first programming assignment!"
   ]
  }
 ],
 "metadata": {
  "kernelspec": {
   "display_name": "Python 3",
   "language": "python",
   "name": "python3"
  },
  "language_info": {
   "codemirror_mode": {
    "name": "ipython",
    "version": 3
   },
   "file_extension": ".py",
   "mimetype": "text/x-python",
   "name": "python",
   "nbconvert_exporter": "python",
   "pygments_lexer": "ipython3",
   "version": "3.7.0"
  }
 },
 "nbformat": 4,
 "nbformat_minor": 2
}
