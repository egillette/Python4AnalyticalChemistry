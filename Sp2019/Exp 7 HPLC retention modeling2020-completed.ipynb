{
 "cells": [
  {
   "attachments": {
    "HPLCDataSetupImage.png": {
     "image/png": "[encoded data removed]"
    }
   },
   "cell_type": "markdown",
   "metadata": {},
   "source": [
    "# Part 1: Working with linear and quadratic regressions in Python\n",
    "\n",
    "In earlier experiments, we've plotted some data and got the equation of a line.  Today we'd like to test multiple equations for fitting our data to find the relationship between phi (fraction of organic solvent) and k' (retention factor)!\n",
    "\n",
    "You will be using an HPLC simulator to determine the retention factor of two compounds, caffeine and diethylformamide, as a function of phi.  This data should be entered in your ELN in a table like the example below (but without the \"mepar\" column), and then saved as a \"comma delimited values\" (.csv) file (but <i>not</i> UTF-8) into the Chem220 folder where this Jupyter notebook lives.\n",
    "\n",
    "![HPLCDataSetupImage.png](attachment:HPLCDataSetupImage.png)\n",
    "\n",
    "Once you have made this file, move on to the code below:"
   ]
  },
  {
   "cell_type": "code",
   "execution_count": 1,
   "metadata": {},
   "outputs": [
    {
     "name": "stdout",
     "output_type": "stream",
     "text": [
      "[[1.00000e-01 2.35917e+01 1.20000e-02 4.06680e+00]\n",
      " [2.00000e-01 7.81760e+00 3.30000e-03 1.89930e+00]\n",
      " [3.00000e-01 2.59050e+00 9.00000e-04 8.87000e-01]\n",
      " [4.00000e-01 8.58400e-01 3.00000e-04 4.14200e-01]\n",
      " [5.00000e-01 2.84500e-01 1.00000e-04 1.93500e-01]\n",
      " [6.00000e-01 9.43000e-02         nan 9.03000e-02]\n",
      " [7.00000e-01 3.12000e-02         nan 4.22000e-02]\n",
      " [8.00000e-01 1.04000e-02         nan 1.97000e-02]]\n",
      "The values for phi are [0.1 0.2 0.3 0.4 0.5 0.6 0.7 0.8]\n",
      "The values for mepar are [2.35917e+01 7.81760e+00 2.59050e+00 8.58400e-01 2.84500e-01 9.43000e-02\n",
      " 3.12000e-02 1.04000e-02]\n",
      "The values for caff are [0.012  0.0033 0.0009 0.0003 0.0001    nan    nan    nan]\n",
      "The values for dieth are [4.0668 1.8993 0.887  0.4142 0.1935 0.0903 0.0422 0.0197]\n"
     ]
    }
   ],
   "source": [
    "# we will often import a number of extra packages into python. These are just a the ones we need today:\n",
    "import math\n",
    "import matplotlib.pyplot as plt\n",
    "import numpy as np\n",
    "import scipy.stats as stats\n",
    "\n",
    "\n",
    "# Next, read in the .csv datafile that you just made.\n",
    "data = np.genfromtxt('HPLCphiData2.csv', dtype=float, delimiter=',', names=None) \n",
    "\n",
    "print(data)\n",
    "# Note the format here; each row is for a different phi value, the first column is the list of phi values, \n",
    "# and the other columns are the retention factors for each compound. \n",
    "\n",
    "# Now show that you know how to slice out phi, mepar, dieth, and caff from the 2-D data array.  \n",
    "# Here is an example.  Add the other slices.\n",
    "phi = data[:,0]\n",
    "mepar = data[:,1]\n",
    "caff = data[:,2]\n",
    "dieth = data[:,3]\n",
    "\n",
    "\n",
    "# Write some classy print statements to show that your array slicing worked correctly.  An example:\n",
    "\n",
    "print (\"The values for phi are \" + str(phi))\n",
    "print (\"The values for mepar are \" + str(mepar))\n",
    "print (\"The values for caff are \" + str(caff))\n",
    "print (\"The values for dieth are \" + str(dieth))\n"
   ]
  },
  {
   "cell_type": "markdown",
   "metadata": {},
   "source": [
    "## Fake zeros or \"nan\"s?\n",
    "Notice that you have some zeros or \"nan\" values in the caffeine array.  These are not valid data points -- they are not actually zero, but were rounded to zero by the output limit of the HPLC simulator program, which is set to four digits after the decimal. Furthermore, these zeros will cause problems in our line fitting later, so we need to remove them from the array.  \n",
    "\n",
    "Adapt one of the functions in the next code block to clean up the zeros (or nans).  Then write a classy print statement to show yourself that it worked."
   ]
  },
  {
   "cell_type": "code",
   "execution_count": 2,
   "metadata": {},
   "outputs": [
    {
     "name": "stdout",
     "output_type": "stream",
     "text": [
      "[0.012  0.0033 0.0009 0.0003 0.0001]\n"
     ]
    }
   ],
   "source": [
    "# Here is an example function that removes \"nan\" values from a numpy array called x.\n",
    "# x = x[np.logical_not(np.isnan(x))]\n",
    "caff = caff[np.logical_not(np.isnan(caff))]\n",
    "print (caff)\n",
    "\n",
    "# Here is an example function that removes zeros from a numpy array called x.\n",
    "# x = np.trim_zeros(x)\n"
   ]
  },
  {
   "cell_type": "markdown",
   "metadata": {},
   "source": [
    "Now that you've removed zeros from the \"caff\" array, you also need to create a special phi array that has only the matching values for each of the retention factors in the caff array.  Use the numpy delet function to make the appropriate phi_caff array in the next code block."
   ]
  },
  {
   "cell_type": "code",
   "execution_count": 3,
   "metadata": {},
   "outputs": [
    {
     "name": "stdout",
     "output_type": "stream",
     "text": [
      "[0.1 0.2 0.3 0.4 0.5]\n"
     ]
    }
   ],
   "source": [
    "# Here is an example delete function that removes all data points from the array \"x\" starting with the seventh \n",
    "# (counting from zero).  Adapt it to create the \"phi_caff\" array that you want from \"phi\". \n",
    "\n",
    "# x_shortened = np.delete(x,np.s_[6:])\n",
    "phi_caff = np.delete(phi,np.s_[5:])\n",
    "\n",
    "# Now write a print statement to make sure it worked correctly.\n",
    "print (phi_caff)"
   ]
  },
  {
   "cell_type": "markdown",
   "metadata": {},
   "source": [
    "## Plotting a standard curve \n",
    "Now it's time to plot our data with phi on the x-axis and the retention factors on the y axis.  Adapt code from previous labs to plot the mepar and dieth datasets on one graph, fit straight lines, and get the equations and R2 values for each line.  When fitting lines using the stats.linregress function, designate the outputs to specific compounds using, for example, \"m_mepar\" instead of \"m\".\n",
    "\n",
    "When finished, copy the graph, equations and R2 values into your ELN.\n"
   ]
  },
  {
   "cell_type": "code",
   "execution_count": 4,
   "metadata": {},
   "outputs": [
    {
     "data": {
      "text/plain": [
       "Text(0, 0.5, 'y axis labels (are there units here too?)')"
      ]
     },
     "execution_count": 4,
     "metadata": {},
     "output_type": "execute_result"
    },
    {
     "data": {
      "image/png": "[encoded data removed]",
      "text/plain": [
       "<Figure size 432x288 with 1 Axes>"
      ]
     },
     "metadata": {
      "needs_background": "light"
     },
     "output_type": "display_data"
    }
   ],
   "source": [
    "# Paste and adapt code here.\n",
    "\n",
    "\n",
    "plt.plot(phi, mepar, 'ro')\n",
    "plt.plot(phi_caff, caff, 'b*')\n",
    "plt.plot(phi, dieth, 'gd')\n",
    "\n",
    "\n",
    "\n",
    "# Add labels on the x and y axis, always including units.\n",
    "plt.xlabel(\"x axis label (units)\")\n",
    "plt.ylabel(\"y axis labels (are there units here too?)\")\n",
    "\n"
   ]
  },
  {
   "cell_type": "markdown",
   "metadata": {},
   "source": [
    "## Linear Fits\n",
    "Now you can copy and adapt the Python code to calculate slope, intercept, R, p and u_m from each dataset.  However, you will want to differentiate the values calculated in each case by giving them names such as \"m_mepar\" instead of \"m\" when you list all the variables to be calculated by each linregress function."
   ]
  },
  {
   "cell_type": "code",
   "execution_count": 5,
   "metadata": {},
   "outputs": [
    {
     "name": "stdout",
     "output_type": "stream",
     "text": [
      "the equation of the mepar line is y = -25.245666666666665x + 15.770375 and its R2 value is 0.5699666014542356\n",
      "the equation of the caff line is y = -0.026799999999999994x + 0.011359999999999999 and its R2 value is 0.7133322739551881\n",
      "the equation of the dieth line is y = -4.788809523809523x + 3.1065892857142856 and its R2 value is 0.6925528608307093\n"
     ]
    }
   ],
   "source": [
    "# Paste and adapt code here.\n",
    "\n",
    "# The linear regression function in the scipy stats module returns 5 values: slope, intercept, \n",
    "#   R (the correlation coefficient, which is usually reported after squaring it to get R2) and \n",
    "#   then two other uncertainty values p and u_m.  You can name these outputs whatever you want.\n",
    "# We'll ignore the last two for the moment, since all we really need right now is the equation of the line\n",
    "m_mepar, b_mepar, R_mepar, p, u_m = stats.linregress(phi, mepar)\n",
    "m_caff, b_caff, R_caff, p, u_m = stats.linregress(phi_caff, caff)\n",
    "m_dieth, b_dieth, R_dieth, p, u_m = stats.linregress(phi, dieth)\n",
    "\n",
    "# Write some code to calculate R_squared:\n",
    "R2_mepar = R_mepar**2\n",
    "R2_caff = R_caff**2\n",
    "R2_dieth = R_dieth**2\n",
    "\n",
    "# Classy output print statements giving the equation of the line and the R2 values:\n",
    "print ('the equation of the mepar line is y = ' + str(m_mepar) + 'x + ' + str(b_mepar) + ' and its R2 value is '+ str(R2_mepar))\n",
    "print ('the equation of the caff line is y = ' + str(m_caff) + 'x + ' + str(b_caff) + ' and its R2 value is '+ str(R2_caff))\n",
    "print ('the equation of the dieth line is y = ' + str(m_dieth) + 'x + ' + str(b_dieth) + ' and its R2 value is '+ str(R2_dieth))\n",
    "\n",
    "\n"
   ]
  },
  {
   "cell_type": "markdown",
   "metadata": {},
   "source": [
    "## Adding the 'best fit line' to your graph\n",
    "\n",
    "Once again, paste and adapt code to plot the data along with the best fit lines.  See if you can get it all on one plot, with the colors of the fit lines matching that of the data."
   ]
  },
  {
   "cell_type": "code",
   "execution_count": 6,
   "metadata": {},
   "outputs": [
    {
     "data": {
      "image/png": "[encoded data removed]",
      "text/plain": [
       "<Figure size 432x288 with 1 Axes>"
      ]
     },
     "metadata": {
      "needs_background": "light"
     },
     "output_type": "display_data"
    }
   ],
   "source": [
    "# Use our predicted model\n",
    "predict_ymepar = (phi*m_mepar)+b_mepar\n",
    "predict_ycaff = (phi_caff*m_caff)+b_caff\n",
    "predict_ydieth = (phi*m_dieth)+b_dieth\n",
    "\n",
    "# Plot the predicted data (note if we don't ask for a specific marker style, we'll just get a line)\n",
    "plt.plot(phi,predict_ymepar, 'r-')\n",
    "plt.plot(phi_caff,predict_ycaff, 'b-')\n",
    "plt.plot(phi,predict_ydieth, 'g-')\n",
    "\n",
    "#add the real data to the plot, just like we did before:\n",
    "plt.plot(phi, mepar, 'ro')\n",
    "plt.plot(phi_caff, caff, 'b*')\n",
    "plt.plot(phi, dieth, 'gd')\n",
    "\n",
    "plt.xlabel(\"Phi\")\n",
    "plt.ylabel(\"Retention Factors\")\n",
    "\n",
    "plt.savefig(\"k'_vs_phi_Linear_fig.png\")"
   ]
  },
  {
   "cell_type": "markdown",
   "metadata": {},
   "source": [
    "Upload your graph into the ELN, adding a caption that explains the colors and symbols, and some narrative that describes what the graph is all about.\n",
    "\n",
    "\n",
    "## Quadratic equation fitting\n",
    "\n",
    "OK, you're done with the linear fitting -- and hopefully you are dissatisfied with how your data is fit by linear functions.  Let's get Python to try quadratic functions instead!  The polynomial regression 'polyfit' function in the numpy module returns the fitting coefficients, from highest order to the lowest, that result in minimized sum-of-squares error of the y-residuals.  In other words, for a 2nd order polynomial fit, the first number output is the coefficient of the $ x^{2} $ term, the second number is the coefficient of the <i>x</i> term, and the last number in the output is the intercept.  \n",
    "\n",
    "Adapt the code below:"
   ]
  },
  {
   "cell_type": "code",
   "execution_count": 7,
   "metadata": {},
   "outputs": [
    {
     "name": "stdout",
     "output_type": "stream",
     "text": [
      "94.8182142857145 -110.58205952380965 29.99310714285718\n",
      "0.13428571428571448 -0.1073714285714287 0.02076000000000003\n",
      "14.628928571428622 -17.954845238095274 5.300928571428582\n"
     ]
    }
   ],
   "source": [
    "# Here is sample code to calculate a 3rd order polynomial fit on x and y data, outputting the four coefficients \n",
    "# in order.  Adapt this code to calculate 2nd order polynomial fits for your data, being careful to differentiate \n",
    "# the output variables in each case.\n",
    "\n",
    "# z3, z2, z1, z0 = np.polyfit(x, y, 3)\n",
    "\n",
    "z2_mepar,z1_mepar,z0_mepar = np.polyfit(phi, mepar, 2)\n",
    "z2_caff,z1_caff,z0_caff = np.polyfit(phi_caff, caff, 2)\n",
    "z2_dieth,z1_dieth,z0_dieth = np.polyfit(phi, dieth, 2)\n",
    "\n",
    "print(z2_mepar,z1_mepar,z0_mepar)\n",
    "print(z2_caff,z1_caff,z0_caff)\n",
    "print(z2_dieth,z1_dieth,z0_dieth)\n"
   ]
  },
  {
   "cell_type": "markdown",
   "metadata": {},
   "source": [
    "## Graphing a polynomial fit\n",
    "Now that you have your polynomial equations, it's time to add them to the graph and see how close they fit the data.  Reuse the code from the linear fit graphing code block, but update the prediction lines (and prediction variable names).\n"
   ]
  },
  {
   "cell_type": "code",
   "execution_count": 8,
   "metadata": {},
   "outputs": [
    {
     "data": {
      "image/png": "[encoded data removed]",
      "text/plain": [
       "<Figure size 432x288 with 1 Axes>"
      ]
     },
     "metadata": {
      "needs_background": "light"
     },
     "output_type": "display_data"
    }
   ],
   "source": [
    "# Use our predicted model\n",
    "predict2_ymepar = ((phi**2)*z2_mepar)+(phi*z1_mepar)+z0_mepar\n",
    "predict2_ycaff = ((phi_caff)**2*z2_caff)+(phi_caff*z1_caff)+z0_caff\n",
    "predict2_ydieth = ((phi)**2*z2_dieth)+(phi*z1_dieth)+z0_dieth\n",
    "\n",
    "# Plot the predicted data (note if we don't ask for a specific marker style, we'll just get a line)\n",
    "plt.plot(phi,predict2_ymepar, 'r-')\n",
    "plt.plot(phi_caff,predict2_ycaff, 'b-')\n",
    "plt.plot(phi,predict2_ydieth, 'g-')\n",
    "\n",
    "#add the real data to the plot, just like we did before:\n",
    "plt.plot(phi, mepar, 'ro')\n",
    "plt.plot(phi_caff, caff, 'b*')\n",
    "plt.plot(phi, dieth, 'gd')\n",
    "\n",
    "plt.xlabel(\"Phi\")\n",
    "plt.ylabel(\"Retention Factors\")\n",
    "\n",
    "\n",
    "plt.savefig(\"k'_vs_phi_Quadratic_fig.png\")"
   ]
  },
  {
   "cell_type": "markdown",
   "metadata": {},
   "source": [
    "<i>Record observations on the quality of the quadratic fit, relative to the linear fit, in your ELN.</i>  Note that retention factors cannot be negative for a model to be functional.  <i>Which of your models (fits) so far are predicting negative retention factors at some values of phi?</i>\n",
    "\n",
    "\n",
    "\n",
    "## Exponential fitting\n",
    "\n",
    "While it is possible to take the same datasets and try fitting exponential functions, it is easier to transform the data by taking the natural logarithm of all the y values.  If data is exponential, graphing lny vs x will linearize the data, and in this case we can use are knowledge of error analysis again.  So, let's try this next!\n",
    "\n",
    "In the code block below, use the natural logarithm function \"np.log\" on the numpy arrays \"mepar\", \"caff\", and \"dieth\".\n"
   ]
  },
  {
   "cell_type": "code",
   "execution_count": 9,
   "metadata": {},
   "outputs": [
    {
     "name": "stdout",
     "output_type": "stream",
     "text": [
      "the equation of the ln_mepar line is y = -11.041690101842862x + 4.264367496477476 and its R2 value is 0.9999996678357108\n",
      "the equation of the ln_caff line is y = -11.972878758362457x + -3.3025095104168734 and its R2 value is 0.998128140417922\n",
      "the equation of the ln_dieth line is y = -7.614196181741921x + 2.1643205234978455 and its R2 value is 0.999999985159802\n"
     ]
    }
   ],
   "source": [
    "# Enter your code here to take natural logarithms of all the y data.\n",
    "\n",
    "ln_mepar = np.log(mepar)\n",
    "ln_caff = np.log(caff)\n",
    "ln_dieth = np.log(dieth)\n",
    "\n",
    "# Now paste and adapt your code to create linear least squares fits to the transformed data.\n",
    "\n",
    "m_ln_mepar, b_ln_mepar, R_ln_mepar, p, u_m = stats.linregress(phi, ln_mepar)\n",
    "m_ln_caff, b_ln_caff, R_ln_caff, p, u_m = stats.linregress(phi_caff, ln_caff)\n",
    "m_ln_dieth, b_ln_dieth, R_ln_dieth, p, u_m = stats.linregress(phi, ln_dieth)\n",
    "\n",
    "# Write some code to calculate R_squared:\n",
    "R2_ln_mepar = R_ln_mepar**2\n",
    "R2_ln_caff = R_ln_caff**2\n",
    "R2_ln_dieth = R_ln_dieth**2\n",
    "\n",
    "# Classy output print statements giving the equation of the line and the R2 values:\n",
    "print ('the equation of the ln_mepar line is y = ' + str(m_ln_mepar) + 'x + ' + str(b_ln_mepar) + ' and its R2 value is '+ str(R2_ln_mepar))\n",
    "print ('the equation of the ln_caff line is y = ' + str(m_ln_caff) + 'x + ' + str(b_ln_caff) + ' and its R2 value is '+ str(R2_ln_caff))\n",
    "print ('the equation of the ln_dieth line is y = ' + str(m_ln_dieth) + 'x + ' + str(b_ln_dieth) + ' and its R2 value is '+ str(R2_ln_dieth))\n",
    "\n"
   ]
  },
  {
   "cell_type": "markdown",
   "metadata": {},
   "source": [
    "Finally, graph the transformed data and the linear equations fit to it.  "
   ]
  },
  {
   "cell_type": "code",
   "execution_count": 10,
   "metadata": {},
   "outputs": [
    {
     "data": {
      "image/png": "[encoded data removed]",
      "text/plain": [
       "<Figure size 432x288 with 1 Axes>"
      ]
     },
     "metadata": {
      "needs_background": "light"
     },
     "output_type": "display_data"
    }
   ],
   "source": [
    "# Use our predicted model\n",
    "predict_ylnmepar = (phi*m_ln_mepar)+b_ln_mepar\n",
    "predict_ylncaff = (phi_caff*m_ln_caff)+b_ln_caff\n",
    "predict_ylndieth = (phi*m_ln_dieth)+b_ln_dieth\n",
    "\n",
    "# Plot the predicted data (note if we don't ask for a specific marker style, we'll just get a line)\n",
    "plt.plot(phi,predict_ylnmepar, 'r-')\n",
    "plt.plot(phi_caff,predict_ylncaff, 'b-')\n",
    "plt.plot(phi,predict_ylndieth, 'g-')\n",
    "\n",
    "#add the real data to the plot, just like we did before:\n",
    "plt.plot(phi, ln_mepar, 'ro')\n",
    "plt.plot(phi_caff, ln_caff, 'b*')\n",
    "plt.plot(phi, ln_dieth, 'gd')\n",
    "\n",
    "plt.xlabel(\"Phi\")\n",
    "plt.ylabel(\"Retention Factors\")\n",
    "\n",
    "plt.savefig(\"k'_vs_phi_Exponential_fig.png\")"
   ]
  },
  {
   "cell_type": "markdown",
   "metadata": {},
   "source": [
    "<i>Record your observations once again on the quality of the exponential fit relative to the others, and upload the summary graph to the ELN.  Which of these models can you use to predict retention factors at other phi values?  In other words what is the relationship between k' and phi?</i>  \n",
    "\n",
    "For your best model (linear, quadratic, or exponential), record in your ELN the fit parameters (slope and intercept or Z2, Z1, Z0) calculated by Python for each compound."
   ]
  },
  {
   "cell_type": "markdown",
   "metadata": {},
   "source": [
    "# Part 2:  Other compounds"
   ]
  },
  {
   "cell_type": "markdown",
   "metadata": {},
   "source": [
    "Now that you know the model, you can easily calculate the fit coefficients of the retention index function for other compounds based on only two data points each.  Since the amount of data is very small, we'll just enter in the twelve numbers by hand.  But don't forget to use the correct model!  Use the code block below:"
   ]
  },
  {
   "cell_type": "code",
   "execution_count": 11,
   "metadata": {},
   "outputs": [
    {
     "name": "stdout",
     "output_type": "stream",
     "text": [
      "the equation of the mepar line is y = -11.037211791526824x + 4.263819960386649\n",
      "the equation of the nbenz line is y = -4.309742733646582x + 1.4273759856868906\n",
      "the equation of the benzalc line is y = -4.005463267184882x + 1.6700401738006108\n",
      "the equation of the phenol line is y = -4.512663216408031x + 2.165783280557917\n",
      "the equation of the acetanil line is y = -6.172885244140616x + 2.5674442615651527\n"
     ]
    }
   ],
   "source": [
    "# Calculate slope and intercept from two datapoints.\n",
    "# Fill in the array values below.  Don't forget to use the correct model!  \n",
    "\n",
    "phi_two = [0.2, 0.8]\n",
    "nbenz = [1.7602, 0.1326]\n",
    "benzalc = [2.3844,0.2156]\n",
    "phenol = [3.5369, 0.2359]\n",
    "acetanil = [3.7919,0.0934]\n",
    "mepar = [7.8176, 0.0104]\n",
    "\n",
    "ln_nbenz = np.log(nbenz)\n",
    "ln_benzalc = np.log(benzalc)\n",
    "ln_phenol = np.log(phenol)\n",
    "ln_acetanil = np.log(acetanil)\n",
    "ln_mepar = np.log(mepar)\n",
    "\n",
    "# Find the linear regression for each compound\n",
    "\n",
    "m_ln_nbenz, b_ln_nbenz, R, p, u_m = stats.linregress(phi_two, ln_nbenz)\n",
    "m_ln_benzalc, b_ln_benzalc, R, p, u_m = stats.linregress(phi_two, ln_benzalc)\n",
    "m_ln_phenol, b_ln_phenol, R, p, u_m = stats.linregress(phi_two, ln_phenol)\n",
    "m_ln_acetanil, b_ln_acetanil, R, p, u_m = stats.linregress(phi_two, ln_acetanil)\n",
    "m_ln_mepar, b_ln_mepar, R, p, u_m = stats.linregress(phi_two, ln_mepar)\n",
    "\n",
    "# Classy output print statements giving the equation of the line (but there are no R2 values):\n",
    "print ('the equation of the mepar line is y = ' + str(m_ln_mepar) + 'x + ' + str(b_ln_mepar))\n",
    "print ('the equation of the nbenz line is y = ' + str(m_ln_nbenz) + 'x + ' + str(b_ln_nbenz))\n",
    "print ('the equation of the benzalc line is y = ' + str(m_ln_benzalc) + 'x + ' + str(b_ln_benzalc))\n",
    "print ('the equation of the phenol line is y = ' + str(m_ln_phenol) + 'x + ' + str(b_ln_phenol))\n",
    "print ('the equation of the acetanil line is y = ' + str(m_ln_acetanil) + 'x + ' + str(b_ln_acetanil))\n"
   ]
  },
  {
   "cell_type": "markdown",
   "metadata": {},
   "source": [
    "As usual, to check our work let's graph the equations along with the data to make sure they match.  Use the colors \"r\", \"y\", \"g\", \"b\", and \"m\" for the five compounds."
   ]
  },
  {
   "cell_type": "code",
   "execution_count": 12,
   "metadata": {},
   "outputs": [
    {
     "data": {
      "image/png": "[encoded data removed]",
      "text/plain": [
       "<Figure size 432x288 with 1 Axes>"
      ]
     },
     "metadata": {
      "needs_background": "light"
     },
     "output_type": "display_data"
    }
   ],
   "source": [
    "# Use our predicted model\n",
    "predict_ymepar = (phi*m_ln_mepar)+b_ln_mepar\n",
    "predict_ynbenz = (phi*m_ln_nbenz)+b_ln_nbenz\n",
    "predict_ybenzalc = (phi*m_ln_benzalc)+b_ln_benzalc\n",
    "predict_yphenol = (phi*m_ln_phenol)+b_ln_phenol\n",
    "predict_yacetanil = (phi*m_ln_acetanil)+b_ln_acetanil\n",
    "\n",
    "\n",
    "# Plot the predicted data (note if we don't ask for a specific marker style, we'll just get a line)\n",
    "plt.plot(phi,predict_ymepar, 'r-')\n",
    "plt.plot(phi,predict_ynbenz, 'b-')\n",
    "plt.plot(phi,predict_ybenzalc, 'g-')\n",
    "plt.plot(phi,predict_yphenol, 'm-')\n",
    "plt.plot(phi,predict_yacetanil, 'y-')\n",
    "\n",
    "#add the real data to the plot, just like we did before:\n",
    "plt.plot(phi_two, ln_mepar, 'ro')\n",
    "plt.plot(phi_two, ln_nbenz, 'b*')\n",
    "plt.plot(phi_two, ln_benzalc, 'gd')\n",
    "plt.plot(phi_two, ln_phenol, 'm*')\n",
    "plt.plot(phi_two, ln_acetanil, 'yd')\n",
    "\n",
    "plt.xlabel(\"Phi\")\n",
    "plt.ylabel(\"Retention Factors\")\n",
    "\n",
    "plt.savefig(\"k'_vs_phi_2pt_fig.png\")"
   ]
  },
  {
   "cell_type": "markdown",
   "metadata": {},
   "source": [
    "Upload this plot to the ELN, along with the fit coefficients (m, b, or z2,z1,z0).  You now have the information you need to predict retention time of seven compounds at any mixing ratio of water and acetonitrile!  "
   ]
  },
  {
   "cell_type": "markdown",
   "metadata": {},
   "source": [
    "## Building the model\n",
    "At this point, we want to construct a large data array that contains all of the modeled retention factors for all seven compounds at all of the mobile phase mixtures (phi).  We will use a while loop to do this!\n",
    "\n",
    "Remember that a while loop uses a counter to cycle through repetitive calculations!"
   ]
  },
  {
   "cell_type": "code",
   "execution_count": 13,
   "metadata": {},
   "outputs": [
    {
     "name": "stdout",
     "output_type": "stream",
     "text": [
      "modlnk:\n",
      "[[1.950155737151091, 1.2694938470821224, -4.499797386253119, 1.4029009053236534, 3.160098781233967, 0.9964017123222324, 1.714516958917114], [1.888426884709685, 1.2294392144102737, -4.619526173836744, 1.3267589435062344, 3.0497266633186983, 0.9533042849857667, 1.6693903267530337], [1.8266980322682786, 1.189384581738425, -4.739254961420368, 1.250616981688815, 2.93935454540343, 0.9102068576493009, 1.6242636945889535], [1.7649691798268727, 1.149329949066576, -4.858983749003993, 1.1744750198713958, 2.828982427488162, 0.8671094303128349, 1.579137062424873], [1.7032403273854664, 1.109275316394727, -4.978712536587618, 1.0983330580539765, 2.7186103095728935, 0.8240120029763691, 1.5340104302607926], [1.64151147494406, 1.0692206837228784, -5.098441324171242, 1.0221910962365572, 2.6082381916576254, 0.7809145756399033, 1.4888837980967122], [1.5797826225026539, 1.0291660510510297, -5.218170111754867, 0.946049134419138, 2.4978660737423573, 0.7378171483034374, 1.443757165932632], [1.5180537700612478, 0.9891114183791807, -5.337898899338492, 0.8699071726017187, 2.3874939558270887, 0.6947197209669715, 1.3986305337685518], [1.4563249176198414, 0.9490567857073318, -5.457627686922116, 0.7937652107842994, 2.27712183791182, 0.6516222936305057, 1.3535039016044714], [1.3945960651784353, 0.9090021530354829, -5.577356474505741, 0.7176232489668801, 2.166749719996552, 0.6085248662940399, 1.308377269440391], [1.3328672127370291, 0.8689475203636341, -5.697085262089366, 0.6414812871494608, 2.056377602081284, 0.565427438957574, 1.2632506372763106], [1.2711383602956228, 0.8288928876917853, -5.81681404967299, 0.5653393253320416, 1.9460054841660153, 0.5223300116211081, 1.2181240051122302], [1.2094095078542166, 0.7888382550199364, -5.936542837256615, 0.4891973635146223, 1.8356333662507471, 0.4792325842846423, 1.17299737294815], [1.1476806554128105, 0.7487836223480875, -6.05627162484024, 0.413055401697203, 1.7252612483354786, 0.4361351569481764, 1.1278707407840696], [1.0859518029714041, 0.7087289896762387, -6.176000412423864, 0.3369134398797837, 1.6148891304202104, 0.39303772961171046, 1.0827441086199892], [1.024222950529998, 0.6686743570043898, -6.295729200007489, 0.26077147806236445, 1.5045170125049419, 0.34994030227524475, 1.037617476455909], [0.9624940980885919, 0.6286197243325409, -6.415457987591114, 0.18462951624494517, 1.3941448945896737, 0.3068428749387788, 0.9924908442918285], [0.9007652456471855, 0.5885650916606922, -6.535186775174738, 0.10848755442752589, 1.2837727766744051, 0.2637454476023131, 0.9473642121277481], [0.8390363932057794, 0.5485104589888432, -6.654915562758363, 0.03234559261010661, 1.173400658759137, 0.22064802026584718, 0.9022375799636679], [0.777307540764373, 0.5084558263169945, -6.774644350341988, -0.04379636920731267, 1.0630285408438684, 0.17755059292938125, 0.8571109477995875], [0.7155786883229669, 0.46840119364514554, -6.894373137925612, -0.11993833102473195, 0.9526564229286003, 0.13445316559291554, 0.8119843156355071], [0.6538498358815608, 0.4283465609732966, -7.014101925509237, -0.19608029284215123, 0.8422843050133317, 0.0913557382564496, 0.7668576834714269], [0.5921209834401544, 0.3882919283014479, -7.133830713092862, -0.2722222546595705, 0.7319121870980636, 0.04825831091998367, 0.7217310513073465], [0.5303921309987483, 0.34823729562959893, -7.253559500676486, -0.3483642164769898, 0.6215400691827955, 0.005160883583517961, 0.6766044191432661], [0.4686632785573419, 0.3081826629577502, -7.373288288260111, -0.42450617829440906, 0.5111679512675269, -0.03793654375294797, 0.6314777869791857], [0.406934426115936, 0.26812803028590126, -7.493017075843735, -0.5006481401118283, 0.40079583335225877, -0.0810339710894139, 0.5863511548151055], [0.34520557367452964, 0.22807339761405232, -7.61274586342736, -0.5767901019292476, 0.2904237154369902, -0.12413139842587961, 0.541224522651025], [0.2834767212331233, 0.1880187649422036, -7.732474651010985, -0.6529320637466669, 0.18005159752172162, -0.16722882576234555, 0.49609789048694464], [0.22174786879171737, 0.14796413227035465, -7.852203438594609, -0.7290740255640862, 0.06967947960645393, -0.21032625309881148, 0.45097125832286444], [0.16001901635031102, 0.10790949959850593, -7.971932226178234, -0.8052159873815055, -0.040692638308814644, -0.2534236804352772, 0.405844626158784], [0.09829016390890466, 0.06785486692665699, -8.09166101376186, -0.8813579491989247, -0.15106475622408322, -0.2965211077717431, 0.3607179939947036], [0.03656131146749875, 0.027800234254808043, -8.211389801345483, -0.957499911016344, -0.2614368741393518, -0.33961853510820905, 0.3155913618306234], [-0.02516754097390761, -0.01225439841704068, -8.331118588929108, -1.0336418728337633, -0.3718089920546195, -0.38271596244467476, 0.270464729666543], [-0.08689639341531397, -0.052309031088889624, -8.450847376512733, -1.1097838346511826, -0.48218110996988806, -0.4258133897811407, 0.2253380975024626], [-0.14862524585672032, -0.09236366376073835, -8.570576164096357, -1.1859257964686019, -0.5925532278851566, -0.4689108171176066, 0.18021146533838217], [-0.21035409829812624, -0.1324182964325873, -8.690304951679982, -1.2620677582860211, -0.7029253458004243, -0.5120082444540723, 0.13508483317430198], [-0.2720829507395326, -0.17247292910443623, -8.810033739263607, -1.3382097201034404, -0.8132974637156929, -0.5551056717905383, 0.08995820101022156], [-0.33381180318093895, -0.21252756177628496, -8.929762526847231, -1.4143516819208597, -0.9236695816309615, -0.598203099127004, 0.044831568846141145], [-0.39554065562234486, -0.2525821944481339, -9.049491314430856, -1.490493643738279, -1.03404169954623, -0.6413005264634701, -0.0002950633179392703], [-0.4572695080637512, -0.2926368271199826, -9.169220102014481, -1.5666356055556983, -1.1444138174614977, -0.6843979537999358, -0.045421695482019686], [-0.5189983605051576, -0.33269145979183157, -9.288948889598105, -1.6427775673731175, -1.2547859353767663, -0.7274953811364016, -0.09054832764609966], [-0.5807272129465635, -0.3727460924636803, -9.40867767718173, -1.7189195291905368, -1.3651580532920349, -0.7705928084728677, -0.13567495981018007], [-0.6424560653879698, -0.41280072513552946, -9.528406464765355, -1.795061491007956, -1.4755301712073035, -0.8136902358093334, -0.1808015919742605], [-0.7041849178293762, -0.4528553578073782, -9.64813525234898, -1.8712034528253754, -1.5859022891225711, -0.8567876631457991, -0.2259282241383409], [-0.7659137702707821, -0.4929099904792269, -9.767864039932604, -1.9473454146427946, -1.6962744070378397, -0.8998850904822653, -0.2710548563024213], [-0.8276426227121885, -0.5329646231510761, -9.88759282751623, -2.023487376460214, -1.8066465249531083, -0.942982517818731, -0.31618148846650174], [-0.8893714751535948, -0.5730192558229248, -10.007321615099855, -2.099629338277633, -1.9170186428683769, -0.9860799451551967, -0.3613081206305817], [-0.9511003275950007, -0.6130738884947735, -10.127050402683478, -2.1757713000950525, -2.0273907607836446, -1.0291773724916629, -0.4064347527946621], [-1.012829180036407, -0.6531285211666222, -10.246779190267103, -2.2519132619124718, -2.137762878698913, -1.0722747998281286, -0.45156138495874254], [-1.0745580324778135, -0.6931831538384714, -10.366507977850729, -2.328055223729891, -2.2481349966141817, -1.1153722271645943, -0.49668801712282296], [-1.1362868849192194, -0.7332377865103201, -10.486236765434352, -2.4041971855473103, -2.3585071145294494, -1.15846965450106, -0.5418146492869034], [-1.1980157373606257, -0.7732924191821688, -10.605965553017977, -2.4803391473647296, -2.468879232444718, -1.2015670818375261, -0.5869412814509838], [-1.259744589802032, -0.813347051854018, -10.725694340601603, -2.556481109182149, -2.5792513503599865, -1.2446645091739919, -0.6320679136150642], [-1.3214734422434384, -0.8534016845258667, -10.845423128185226, -2.632623070999568, -2.689623468275255, -1.2877619365104576, -0.6771945457791442], [-1.3832022946848443, -0.8934563171977155, -10.965151915768852, -2.7087650328169874, -2.799995586190523, -1.3308593638469237, -0.7223211779432246], [-1.4449311471262503, -0.9335109498695646, -11.084880703352477, -2.7849069946344067, -2.9103677041057914, -1.3739567911833894, -0.767447810107305], [-1.506659999567657, -0.9735655825414133, -11.2046094909361, -2.861048956451826, -3.02073982202106, -1.4170542185198551, -0.8125744422713854], [-1.568388852009063, -1.013620215213262, -11.324338278519726, -2.9371909182692453, -3.1311119399363285, -1.4601516458563213, -0.8577010744354658], [-1.6301177044504689, -1.0536748478851108, -11.44406706610335, -3.0133328800866646, -3.241484057851596, -1.503249073192787, -0.9028277065995463], [-1.6918465568918757, -1.09372948055696, -11.563795853686974, -3.089474841904084, -3.351856175766865, -1.5463465005292527, -0.9479543387636267], [-1.7535754093332816, -1.1337841132288087, -11.6835246412706, -3.165616803721503, -3.4622282936821334, -1.5894439278657189, -0.9930809709277066], [-1.8153042617746875, -1.1738387459006574, -11.803253428854225, -3.2417587655389224, -3.572600411597401, -1.6325413552021846, -1.038207603091787], [-1.8770331142160943, -1.2138933785725066, -11.922982216437848, -3.3179007273563417, -3.6829725295126696, -1.6756387825386503, -1.0833342352558675], [-1.9387619666575002, -1.2539480112443553, -12.042711004021474, -3.394042689173761, -3.7933446474279373, -1.7187362098751164, -1.1284608674199479], [-2.000490819098907, -1.294002643916204, -12.162439791605099, -3.4701846509911802, -3.903716765343206, -1.7618336372115821, -1.1735874995840283], [-2.062219671540313, -1.3340572765880532, -12.282168579188722, -3.5463266128085995, -4.0140888832584745, -1.8049310645480479, -1.2187141317481087], [-2.123948523981719, -1.374111909259902, -12.401897366772348, -3.622468574626019, -4.124461001173743, -1.848028491884514, -1.2638407639121887], [-2.1856773764231257, -1.4141665419317506, -12.521626154355973, -3.698610536443438, -4.234833119089012, -1.8911259192209797, -1.308967396076269], [-2.2474062288645316, -1.4542211746035993, -12.641354941939598, -3.7747524982608573, -4.34520523700428, -1.9342233465574454, -1.3540940282403495], [-2.3091350813059375, -1.4942758072754485, -12.761083729523222, -3.8508944600782766, -4.455577354919549, -1.9773207738939116, -1.39922066040443], [-2.3708639337473443, -1.5343304399472972, -12.880812517106847, -3.927036421895696, -4.565949472834817, -2.0204182012303775, -1.4443472925685104]]\n",
      "philist:\n",
      "[0.1, 0.11, 0.12, 0.13, 0.14, 0.15000000000000002, 0.16000000000000003, 0.17000000000000004, 0.18000000000000005, 0.19000000000000006, 0.20000000000000007, 0.21000000000000008, 0.22000000000000008, 0.2300000000000001, 0.2400000000000001, 0.2500000000000001, 0.2600000000000001, 0.27000000000000013, 0.28000000000000014, 0.29000000000000015, 0.30000000000000016, 0.31000000000000016, 0.3200000000000002, 0.3300000000000002, 0.3400000000000002, 0.3500000000000002, 0.3600000000000002, 0.3700000000000002, 0.3800000000000002, 0.39000000000000024, 0.40000000000000024, 0.41000000000000025, 0.42000000000000026, 0.43000000000000027, 0.4400000000000003, 0.4500000000000003, 0.4600000000000003, 0.4700000000000003, 0.4800000000000003, 0.4900000000000003, 0.5000000000000003, 0.5100000000000003, 0.5200000000000004, 0.5300000000000004, 0.5400000000000004, 0.5500000000000004, 0.5600000000000004, 0.5700000000000004, 0.5800000000000004, 0.5900000000000004, 0.6000000000000004, 0.6100000000000004, 0.6200000000000004, 0.6300000000000004, 0.6400000000000005, 0.6500000000000005, 0.6600000000000005, 0.6700000000000005, 0.6800000000000005, 0.6900000000000005, 0.7000000000000005, 0.7100000000000005, 0.7200000000000005, 0.7300000000000005, 0.7400000000000005, 0.7500000000000006, 0.7600000000000006, 0.7700000000000006, 0.7800000000000006, 0.7900000000000006, 0.8000000000000006]\n"
     ]
    }
   ],
   "source": [
    "# According to the lab handout, we want to calculate and store values for lnk for all phi values from 0.10 to 0.80 \n",
    "# with a step size of 0.01.  Let's use row as our counter, make a 2-D array of all the output lnk' values,\n",
    "# and make a matching 1-D array of all the phi values.  In the code below,\n",
    "# make sure the slope and intercept variable names match the ones you've calculated in earlier code blocks, then run\n",
    "# this code.  You should see a row-by-row printout of the array for phi values between 0.1 and 0.2.  \n",
    "\n",
    "modlnk = []\n",
    "philist = []\n",
    "phi = 0.10\n",
    "row = 0\n",
    "    \n",
    "# Now we must calculate lnk for all seven compounds and store them in the array.  \n",
    "\n",
    "while phi < 0.81:\n",
    "    modlnk_acetanil = phi*(m_ln_acetanil)+b_ln_acetanil\n",
    "    modlnk_benzalc = phi*(m_ln_benzalc)+b_ln_benzalc\n",
    "    modlnk_caff = phi*(m_ln_caff)+b_ln_caff\n",
    "    modlnk_dieth = phi*(m_ln_dieth)+b_ln_dieth\n",
    "    modlnk_mepar = phi*(m_ln_mepar)+b_ln_mepar\n",
    "    modlnk_nbenz = phi*(m_ln_nbenz)+b_ln_nbenz\n",
    "    modlnk_phenol = phi*(m_ln_phenol)+b_ln_phenol\n",
    "    newrow = [modlnk_acetanil, modlnk_benzalc, modlnk_caff, modlnk_dieth, modlnk_mepar, modlnk_nbenz, modlnk_phenol]\n",
    "    modlnk.append (newrow)\n",
    "    philist.append (phi)\n",
    "    phi = phi + 0.01\n",
    "    row = row + 1\n",
    "\n",
    "print ('modlnk:')\n",
    "print (modlnk) \n",
    "print ('philist:')\n",
    "print (philist)\n",
    "\n",
    "# If the output looks good, change the while loop limit to do all the calculations between phi = 0.1 and 0.8."
   ]
  },
  {
   "cell_type": "markdown",
   "metadata": {},
   "source": [
    "OK, that's more numbers than we want to deal with by hand, right?  \n",
    "\n",
    "## Sorting each row\n",
    "Our next task is that we need to find the difference between the two closest-together numbers in every row.  This is a complex task, but we can break it down into several small steps to automate it.  Here is the strategy we will use:  first, we will make a new 2-D array with the ln<i>k</i> values within each row sorted from lowest to highest.  Second, we'll calculate the difference between adjacent numbers in the sorted array.  Third, we'll sort the differences array, so that the smallest difference will be listed first in each row.  At that point it will be easy to slice out the first column of the array, which will contain the difference between the two closest-together numbers in each row in our original array.  Problem solved!\n",
    "\n",
    "In order to execute the first step, we will use a ready-made <b>subroutine</b>.  In the code below, first comes the <b>def</b>inition of a subroutine called \"sortRowWise\" which does the sorting in a <b>for loop</b>, and then prints out the resulting sorted 2-D array in a second pair of <b>nested for loops</b>.  The subroutine ends at the line \"return 0\" (as does the indentation).  Below the subroutine is the <b>driver code</b> that sets up an array of test data and then passes it to the subroutine in a <b>call statement</b> with the syntax <i>SubroutineName(variable1,variable2 ...)</i>.  The variables sent to the subroutine can be numbers or arrays of any dimension.\n",
    "\n",
    "### How subroutines work\n",
    "When Python runs this code block, it will ignore any subroutines until they are called.  So Python will skip down to the line beginning with \"m = \" and run the code starting there.  The next line calls the \"sortRowWise\" subroutine and sends it the array \"m\".  Python then finds where this subroutine is defined and runs it, line by line, until it hits \"return 0\".  At this point, Python jumps back to the call statement with the array \"m\" that has been modified by the subroutine, and continues through the program from there.  \n",
    "\n",
    "### How are for loops different from while loops?\n",
    "This is our first use of <b>for</b> loops in this course.  A <b>for</b> loop is similar to a <b>while</b> loop, but only runs for a set number of iterations, defined in the <b>for</b> statement.  Because of this, you don't need a line of code that sets a counter to zero, and you don't need a line of code that advances the counter each time you go through the loop (\"count = count + 1\") -- Python is doing the counting for you, always starting at zero.  A <b>while</b> loop can run a variable number of times until the <b>while</b> statement is satisfied.  <b>While</b> loops are more likely to get stuck in infinite loops, requiring you to stop the kernel!  However, they are necessary in situations where, say, a calculation needs to converge on an answer, and you can't predict how long that will take.  \n",
    "\n",
    "Check out the following code, then run it.  Dr. D has added a lot of comments to help you understand how it works.  Note how the print statement in the subroutine gives you a different look than the print statement in the last line of the program:"
   ]
  },
  {
   "cell_type": "code",
   "execution_count": 14,
   "metadata": {},
   "outputs": [
    {
     "name": "stdout",
     "output_type": "stream",
     "text": [
      "1 7 8 9 \n",
      "0 2 3 7 \n",
      "2 3 5 9 \n",
      "1 2 3 6 \n",
      "[[1, 7, 8, 9], [0, 2, 3, 7], [2, 3, 5, 9], [1, 2, 3, 6]]\n"
     ]
    }
   ],
   "source": [
    "# Here is a Python3 subroutine called \"sortRowWise\" to sort values in each row from smallest to leargest, \n",
    "# in a 2D matrix.  Dr. D took this code from the computer science portal GeeksforGeeks.org. \n",
    "\n",
    "# Defines a subroutine called \"sortRowWise\" which you can run on the array of your choice.  In the subroutine,\n",
    "# it will use the name \"m\" for the array, but you can send it an array with another name in the call statement.  \n",
    "def sortRowWise(m): \n",
    "      \n",
    "    # One by one sort individual rows. \n",
    "    for i in range(len(m)):   # len(m) is the number of lines in the matrix.\n",
    "        m[i].sort()           # Uses a sort function!\n",
    "          \n",
    "    # printing the sorted matrix \n",
    "    for i in range(len(m)): \n",
    "        for j in range(len(m[i])):   # ln(m[i]) is the number of numbers (columns) represented in row m[i]\n",
    "            print(m[i][j], end=\" \")  # i is the row and j is the column\n",
    "        print() \n",
    "          \n",
    "    return 0  #Tells Python the function is over, go back to the call statement line.\n",
    "  \n",
    "\n",
    "# Driver code to test out how it works.\n",
    "# Sample array called \"m\"\n",
    "m = [[9, 8, 7, 1 ],[7, 3, 0, 2],[9, 5, 3, 2 ],[ 6, 3, 1, 2]] \n",
    "  \n",
    "# This line calls the function and sends it the array \"m\".    \n",
    "sortRowWise(m) \n",
    "# This code is contributed by shubhamsingh10  \n",
    "print(m)"
   ]
  },
  {
   "cell_type": "markdown",
   "metadata": {},
   "source": [
    "OMG, it worked on the first try!  Thanks, Shubhamsingh10, you're the best!  \n",
    "\n",
    "Now it's your turn.  Write a call statement the tells the sortRowWise function to operate on your massive matrix of lnk' values.  But before you do that, first copy the matrix into a fresh matrix with a new name -- otherwise the subroutine will overwrite your original matrix."
   ]
  },
  {
   "cell_type": "code",
   "execution_count": 15,
   "metadata": {},
   "outputs": [
    {
     "name": "stdout",
     "output_type": "stream",
     "text": [
      "-4.499797386253119 0.9964017123222324 1.2694938470821224 1.4029009053236534 1.714516958917114 1.950155737151091 3.160098781233967 \n",
      "-4.619526173836744 0.9533042849857667 1.2294392144102737 1.3267589435062344 1.6693903267530337 1.888426884709685 3.0497266633186983 \n",
      "-4.739254961420368 0.9102068576493009 1.189384581738425 1.250616981688815 1.6242636945889535 1.8266980322682786 2.93935454540343 \n",
      "-4.858983749003993 0.8671094303128349 1.149329949066576 1.1744750198713958 1.579137062424873 1.7649691798268727 2.828982427488162 \n",
      "-4.978712536587618 0.8240120029763691 1.0983330580539765 1.109275316394727 1.5340104302607926 1.7032403273854664 2.7186103095728935 \n",
      "-5.098441324171242 0.7809145756399033 1.0221910962365572 1.0692206837228784 1.4888837980967122 1.64151147494406 2.6082381916576254 \n",
      "-5.218170111754867 0.7378171483034374 0.946049134419138 1.0291660510510297 1.443757165932632 1.5797826225026539 2.4978660737423573 \n",
      "-5.337898899338492 0.6947197209669715 0.8699071726017187 0.9891114183791807 1.3986305337685518 1.5180537700612478 2.3874939558270887 \n",
      "-5.457627686922116 0.6516222936305057 0.7937652107842994 0.9490567857073318 1.3535039016044714 1.4563249176198414 2.27712183791182 \n",
      "-5.577356474505741 0.6085248662940399 0.7176232489668801 0.9090021530354829 1.308377269440391 1.3945960651784353 2.166749719996552 \n",
      "-5.697085262089366 0.565427438957574 0.6414812871494608 0.8689475203636341 1.2632506372763106 1.3328672127370291 2.056377602081284 \n",
      "-5.81681404967299 0.5223300116211081 0.5653393253320416 0.8288928876917853 1.2181240051122302 1.2711383602956228 1.9460054841660153 \n",
      "-5.936542837256615 0.4792325842846423 0.4891973635146223 0.7888382550199364 1.17299737294815 1.2094095078542166 1.8356333662507471 \n",
      "-6.05627162484024 0.413055401697203 0.4361351569481764 0.7487836223480875 1.1278707407840696 1.1476806554128105 1.7252612483354786 \n",
      "-6.176000412423864 0.3369134398797837 0.39303772961171046 0.7087289896762387 1.0827441086199892 1.0859518029714041 1.6148891304202104 \n",
      "-6.295729200007489 0.26077147806236445 0.34994030227524475 0.6686743570043898 1.024222950529998 1.037617476455909 1.5045170125049419 \n",
      "-6.415457987591114 0.18462951624494517 0.3068428749387788 0.6286197243325409 0.9624940980885919 0.9924908442918285 1.3941448945896737 \n",
      "-6.535186775174738 0.10848755442752589 0.2637454476023131 0.5885650916606922 0.9007652456471855 0.9473642121277481 1.2837727766744051 \n",
      "-6.654915562758363 0.03234559261010661 0.22064802026584718 0.5485104589888432 0.8390363932057794 0.9022375799636679 1.173400658759137 \n",
      "-6.774644350341988 -0.04379636920731267 0.17755059292938125 0.5084558263169945 0.777307540764373 0.8571109477995875 1.0630285408438684 \n",
      "-6.894373137925612 -0.11993833102473195 0.13445316559291554 0.46840119364514554 0.7155786883229669 0.8119843156355071 0.9526564229286003 \n",
      "-7.014101925509237 -0.19608029284215123 0.0913557382564496 0.4283465609732966 0.6538498358815608 0.7668576834714269 0.8422843050133317 \n",
      "-7.133830713092862 -0.2722222546595705 0.04825831091998367 0.3882919283014479 0.5921209834401544 0.7217310513073465 0.7319121870980636 \n",
      "-7.253559500676486 -0.3483642164769898 0.005160883583517961 0.34823729562959893 0.5303921309987483 0.6215400691827955 0.6766044191432661 \n",
      "-7.373288288260111 -0.42450617829440906 -0.03793654375294797 0.3081826629577502 0.4686632785573419 0.5111679512675269 0.6314777869791857 \n",
      "-7.493017075843735 -0.5006481401118283 -0.0810339710894139 0.26812803028590126 0.40079583335225877 0.406934426115936 0.5863511548151055 \n",
      "-7.61274586342736 -0.5767901019292476 -0.12413139842587961 0.22807339761405232 0.2904237154369902 0.34520557367452964 0.541224522651025 \n",
      "-7.732474651010985 -0.6529320637466669 -0.16722882576234555 0.18005159752172162 0.1880187649422036 0.2834767212331233 0.49609789048694464 \n",
      "-7.852203438594609 -0.7290740255640862 -0.21032625309881148 0.06967947960645393 0.14796413227035465 0.22174786879171737 0.45097125832286444 \n",
      "-7.971932226178234 -0.8052159873815055 -0.2534236804352772 -0.040692638308814644 0.10790949959850593 0.16001901635031102 0.405844626158784 \n",
      "-8.09166101376186 -0.8813579491989247 -0.2965211077717431 -0.15106475622408322 0.06785486692665699 0.09829016390890466 0.3607179939947036 \n",
      "-8.211389801345483 -0.957499911016344 -0.33961853510820905 -0.2614368741393518 0.027800234254808043 0.03656131146749875 0.3155913618306234 \n",
      "-8.331118588929108 -1.0336418728337633 -0.38271596244467476 -0.3718089920546195 -0.02516754097390761 -0.01225439841704068 0.270464729666543 \n",
      "-8.450847376512733 -1.1097838346511826 -0.48218110996988806 -0.4258133897811407 -0.08689639341531397 -0.052309031088889624 0.2253380975024626 \n",
      "-8.570576164096357 -1.1859257964686019 -0.5925532278851566 -0.4689108171176066 -0.14862524585672032 -0.09236366376073835 0.18021146533838217 \n",
      "-8.690304951679982 -1.2620677582860211 -0.7029253458004243 -0.5120082444540723 -0.21035409829812624 -0.1324182964325873 0.13508483317430198 \n",
      "-8.810033739263607 -1.3382097201034404 -0.8132974637156929 -0.5551056717905383 -0.2720829507395326 -0.17247292910443623 0.08995820101022156 \n",
      "-8.929762526847231 -1.4143516819208597 -0.9236695816309615 -0.598203099127004 -0.33381180318093895 -0.21252756177628496 0.044831568846141145 \n",
      "-9.049491314430856 -1.490493643738279 -1.03404169954623 -0.6413005264634701 -0.39554065562234486 -0.2525821944481339 -0.0002950633179392703 \n",
      "-9.169220102014481 -1.5666356055556983 -1.1444138174614977 -0.6843979537999358 -0.4572695080637512 -0.2926368271199826 -0.045421695482019686 \n",
      "-9.288948889598105 -1.6427775673731175 -1.2547859353767663 -0.7274953811364016 -0.5189983605051576 -0.33269145979183157 -0.09054832764609966 \n",
      "-9.40867767718173 -1.7189195291905368 -1.3651580532920349 -0.7705928084728677 -0.5807272129465635 -0.3727460924636803 -0.13567495981018007 \n",
      "-9.528406464765355 -1.795061491007956 -1.4755301712073035 -0.8136902358093334 -0.6424560653879698 -0.41280072513552946 -0.1808015919742605 \n",
      "-9.64813525234898 -1.8712034528253754 -1.5859022891225711 -0.8567876631457991 -0.7041849178293762 -0.4528553578073782 -0.2259282241383409 \n",
      "-9.767864039932604 -1.9473454146427946 -1.6962744070378397 -0.8998850904822653 -0.7659137702707821 -0.4929099904792269 -0.2710548563024213 \n",
      "-9.88759282751623 -2.023487376460214 -1.8066465249531083 -0.942982517818731 -0.8276426227121885 -0.5329646231510761 -0.31618148846650174 \n",
      "-10.007321615099855 -2.099629338277633 -1.9170186428683769 -0.9860799451551967 -0.8893714751535948 -0.5730192558229248 -0.3613081206305817 \n",
      "-10.127050402683478 -2.1757713000950525 -2.0273907607836446 -1.0291773724916629 -0.9511003275950007 -0.6130738884947735 -0.4064347527946621 \n",
      "-10.246779190267103 -2.2519132619124718 -2.137762878698913 -1.0722747998281286 -1.012829180036407 -0.6531285211666222 -0.45156138495874254 \n",
      "-10.366507977850729 -2.328055223729891 -2.2481349966141817 -1.1153722271645943 -1.0745580324778135 -0.6931831538384714 -0.49668801712282296 \n",
      "-10.486236765434352 -2.4041971855473103 -2.3585071145294494 -1.15846965450106 -1.1362868849192194 -0.7332377865103201 -0.5418146492869034 \n",
      "-10.605965553017977 -2.4803391473647296 -2.468879232444718 -1.2015670818375261 -1.1980157373606257 -0.7732924191821688 -0.5869412814509838 \n",
      "-10.725694340601603 -2.5792513503599865 -2.556481109182149 -1.259744589802032 -1.2446645091739919 -0.813347051854018 -0.6320679136150642 \n",
      "-10.845423128185226 -2.689623468275255 -2.632623070999568 -1.3214734422434384 -1.2877619365104576 -0.8534016845258667 -0.6771945457791442 \n",
      "-10.965151915768852 -2.799995586190523 -2.7087650328169874 -1.3832022946848443 -1.3308593638469237 -0.8934563171977155 -0.7223211779432246 \n",
      "-11.084880703352477 -2.9103677041057914 -2.7849069946344067 -1.4449311471262503 -1.3739567911833894 -0.9335109498695646 -0.767447810107305 \n",
      "-11.2046094909361 -3.02073982202106 -2.861048956451826 -1.506659999567657 -1.4170542185198551 -0.9735655825414133 -0.8125744422713854 \n",
      "-11.324338278519726 -3.1311119399363285 -2.9371909182692453 -1.568388852009063 -1.4601516458563213 -1.013620215213262 -0.8577010744354658 \n",
      "-11.44406706610335 -3.241484057851596 -3.0133328800866646 -1.6301177044504689 -1.503249073192787 -1.0536748478851108 -0.9028277065995463 \n",
      "-11.563795853686974 -3.351856175766865 -3.089474841904084 -1.6918465568918757 -1.5463465005292527 -1.09372948055696 -0.9479543387636267 \n",
      "-11.6835246412706 -3.4622282936821334 -3.165616803721503 -1.7535754093332816 -1.5894439278657189 -1.1337841132288087 -0.9930809709277066 \n",
      "-11.803253428854225 -3.572600411597401 -3.2417587655389224 -1.8153042617746875 -1.6325413552021846 -1.1738387459006574 -1.038207603091787 \n",
      "-11.922982216437848 -3.6829725295126696 -3.3179007273563417 -1.8770331142160943 -1.6756387825386503 -1.2138933785725066 -1.0833342352558675 \n",
      "-12.042711004021474 -3.7933446474279373 -3.394042689173761 -1.9387619666575002 -1.7187362098751164 -1.2539480112443553 -1.1284608674199479 \n",
      "-12.162439791605099 -3.903716765343206 -3.4701846509911802 -2.000490819098907 -1.7618336372115821 -1.294002643916204 -1.1735874995840283 \n",
      "-12.282168579188722 -4.0140888832584745 -3.5463266128085995 -2.062219671540313 -1.8049310645480479 -1.3340572765880532 -1.2187141317481087 \n",
      "-12.401897366772348 -4.124461001173743 -3.622468574626019 -2.123948523981719 -1.848028491884514 -1.374111909259902 -1.2638407639121887 \n",
      "-12.521626154355973 -4.234833119089012 -3.698610536443438 -2.1856773764231257 -1.8911259192209797 -1.4141665419317506 -1.308967396076269 \n",
      "-12.641354941939598 -4.34520523700428 -3.7747524982608573 -2.2474062288645316 -1.9342233465574454 -1.4542211746035993 -1.3540940282403495 \n",
      "-12.761083729523222 -4.455577354919549 -3.8508944600782766 -2.3091350813059375 -1.9773207738939116 -1.4942758072754485 -1.39922066040443 \n",
      "-12.880812517106847 -4.565949472834817 -3.927036421895696 -2.3708639337473443 -2.0204182012303775 -1.5343304399472972 -1.4443472925685104 \n",
      "[[-4.499797386253119, 0.9964017123222324, 1.2694938470821224, 1.4029009053236534, 1.714516958917114, 1.950155737151091, 3.160098781233967], [-4.619526173836744, 0.9533042849857667, 1.2294392144102737, 1.3267589435062344, 1.6693903267530337, 1.888426884709685, 3.0497266633186983], [-4.739254961420368, 0.9102068576493009, 1.189384581738425, 1.250616981688815, 1.6242636945889535, 1.8266980322682786, 2.93935454540343], [-4.858983749003993, 0.8671094303128349, 1.149329949066576, 1.1744750198713958, 1.579137062424873, 1.7649691798268727, 2.828982427488162], [-4.978712536587618, 0.8240120029763691, 1.0983330580539765, 1.109275316394727, 1.5340104302607926, 1.7032403273854664, 2.7186103095728935], [-5.098441324171242, 0.7809145756399033, 1.0221910962365572, 1.0692206837228784, 1.4888837980967122, 1.64151147494406, 2.6082381916576254], [-5.218170111754867, 0.7378171483034374, 0.946049134419138, 1.0291660510510297, 1.443757165932632, 1.5797826225026539, 2.4978660737423573], [-5.337898899338492, 0.6947197209669715, 0.8699071726017187, 0.9891114183791807, 1.3986305337685518, 1.5180537700612478, 2.3874939558270887], [-5.457627686922116, 0.6516222936305057, 0.7937652107842994, 0.9490567857073318, 1.3535039016044714, 1.4563249176198414, 2.27712183791182], [-5.577356474505741, 0.6085248662940399, 0.7176232489668801, 0.9090021530354829, 1.308377269440391, 1.3945960651784353, 2.166749719996552], [-5.697085262089366, 0.565427438957574, 0.6414812871494608, 0.8689475203636341, 1.2632506372763106, 1.3328672127370291, 2.056377602081284], [-5.81681404967299, 0.5223300116211081, 0.5653393253320416, 0.8288928876917853, 1.2181240051122302, 1.2711383602956228, 1.9460054841660153], [-5.936542837256615, 0.4792325842846423, 0.4891973635146223, 0.7888382550199364, 1.17299737294815, 1.2094095078542166, 1.8356333662507471], [-6.05627162484024, 0.413055401697203, 0.4361351569481764, 0.7487836223480875, 1.1278707407840696, 1.1476806554128105, 1.7252612483354786], [-6.176000412423864, 0.3369134398797837, 0.39303772961171046, 0.7087289896762387, 1.0827441086199892, 1.0859518029714041, 1.6148891304202104], [-6.295729200007489, 0.26077147806236445, 0.34994030227524475, 0.6686743570043898, 1.024222950529998, 1.037617476455909, 1.5045170125049419], [-6.415457987591114, 0.18462951624494517, 0.3068428749387788, 0.6286197243325409, 0.9624940980885919, 0.9924908442918285, 1.3941448945896737], [-6.535186775174738, 0.10848755442752589, 0.2637454476023131, 0.5885650916606922, 0.9007652456471855, 0.9473642121277481, 1.2837727766744051], [-6.654915562758363, 0.03234559261010661, 0.22064802026584718, 0.5485104589888432, 0.8390363932057794, 0.9022375799636679, 1.173400658759137], [-6.774644350341988, -0.04379636920731267, 0.17755059292938125, 0.5084558263169945, 0.777307540764373, 0.8571109477995875, 1.0630285408438684], [-6.894373137925612, -0.11993833102473195, 0.13445316559291554, 0.46840119364514554, 0.7155786883229669, 0.8119843156355071, 0.9526564229286003], [-7.014101925509237, -0.19608029284215123, 0.0913557382564496, 0.4283465609732966, 0.6538498358815608, 0.7668576834714269, 0.8422843050133317], [-7.133830713092862, -0.2722222546595705, 0.04825831091998367, 0.3882919283014479, 0.5921209834401544, 0.7217310513073465, 0.7319121870980636], [-7.253559500676486, -0.3483642164769898, 0.005160883583517961, 0.34823729562959893, 0.5303921309987483, 0.6215400691827955, 0.6766044191432661], [-7.373288288260111, -0.42450617829440906, -0.03793654375294797, 0.3081826629577502, 0.4686632785573419, 0.5111679512675269, 0.6314777869791857], [-7.493017075843735, -0.5006481401118283, -0.0810339710894139, 0.26812803028590126, 0.40079583335225877, 0.406934426115936, 0.5863511548151055], [-7.61274586342736, -0.5767901019292476, -0.12413139842587961, 0.22807339761405232, 0.2904237154369902, 0.34520557367452964, 0.541224522651025], [-7.732474651010985, -0.6529320637466669, -0.16722882576234555, 0.18005159752172162, 0.1880187649422036, 0.2834767212331233, 0.49609789048694464], [-7.852203438594609, -0.7290740255640862, -0.21032625309881148, 0.06967947960645393, 0.14796413227035465, 0.22174786879171737, 0.45097125832286444], [-7.971932226178234, -0.8052159873815055, -0.2534236804352772, -0.040692638308814644, 0.10790949959850593, 0.16001901635031102, 0.405844626158784], [-8.09166101376186, -0.8813579491989247, -0.2965211077717431, -0.15106475622408322, 0.06785486692665699, 0.09829016390890466, 0.3607179939947036], [-8.211389801345483, -0.957499911016344, -0.33961853510820905, -0.2614368741393518, 0.027800234254808043, 0.03656131146749875, 0.3155913618306234], [-8.331118588929108, -1.0336418728337633, -0.38271596244467476, -0.3718089920546195, -0.02516754097390761, -0.01225439841704068, 0.270464729666543], [-8.450847376512733, -1.1097838346511826, -0.48218110996988806, -0.4258133897811407, -0.08689639341531397, -0.052309031088889624, 0.2253380975024626], [-8.570576164096357, -1.1859257964686019, -0.5925532278851566, -0.4689108171176066, -0.14862524585672032, -0.09236366376073835, 0.18021146533838217], [-8.690304951679982, -1.2620677582860211, -0.7029253458004243, -0.5120082444540723, -0.21035409829812624, -0.1324182964325873, 0.13508483317430198], [-8.810033739263607, -1.3382097201034404, -0.8132974637156929, -0.5551056717905383, -0.2720829507395326, -0.17247292910443623, 0.08995820101022156], [-8.929762526847231, -1.4143516819208597, -0.9236695816309615, -0.598203099127004, -0.33381180318093895, -0.21252756177628496, 0.044831568846141145], [-9.049491314430856, -1.490493643738279, -1.03404169954623, -0.6413005264634701, -0.39554065562234486, -0.2525821944481339, -0.0002950633179392703], [-9.169220102014481, -1.5666356055556983, -1.1444138174614977, -0.6843979537999358, -0.4572695080637512, -0.2926368271199826, -0.045421695482019686], [-9.288948889598105, -1.6427775673731175, -1.2547859353767663, -0.7274953811364016, -0.5189983605051576, -0.33269145979183157, -0.09054832764609966], [-9.40867767718173, -1.7189195291905368, -1.3651580532920349, -0.7705928084728677, -0.5807272129465635, -0.3727460924636803, -0.13567495981018007], [-9.528406464765355, -1.795061491007956, -1.4755301712073035, -0.8136902358093334, -0.6424560653879698, -0.41280072513552946, -0.1808015919742605], [-9.64813525234898, -1.8712034528253754, -1.5859022891225711, -0.8567876631457991, -0.7041849178293762, -0.4528553578073782, -0.2259282241383409], [-9.767864039932604, -1.9473454146427946, -1.6962744070378397, -0.8998850904822653, -0.7659137702707821, -0.4929099904792269, -0.2710548563024213], [-9.88759282751623, -2.023487376460214, -1.8066465249531083, -0.942982517818731, -0.8276426227121885, -0.5329646231510761, -0.31618148846650174], [-10.007321615099855, -2.099629338277633, -1.9170186428683769, -0.9860799451551967, -0.8893714751535948, -0.5730192558229248, -0.3613081206305817], [-10.127050402683478, -2.1757713000950525, -2.0273907607836446, -1.0291773724916629, -0.9511003275950007, -0.6130738884947735, -0.4064347527946621], [-10.246779190267103, -2.2519132619124718, -2.137762878698913, -1.0722747998281286, -1.012829180036407, -0.6531285211666222, -0.45156138495874254], [-10.366507977850729, -2.328055223729891, -2.2481349966141817, -1.1153722271645943, -1.0745580324778135, -0.6931831538384714, -0.49668801712282296], [-10.486236765434352, -2.4041971855473103, -2.3585071145294494, -1.15846965450106, -1.1362868849192194, -0.7332377865103201, -0.5418146492869034], [-10.605965553017977, -2.4803391473647296, -2.468879232444718, -1.2015670818375261, -1.1980157373606257, -0.7732924191821688, -0.5869412814509838], [-10.725694340601603, -2.5792513503599865, -2.556481109182149, -1.259744589802032, -1.2446645091739919, -0.813347051854018, -0.6320679136150642], [-10.845423128185226, -2.689623468275255, -2.632623070999568, -1.3214734422434384, -1.2877619365104576, -0.8534016845258667, -0.6771945457791442], [-10.965151915768852, -2.799995586190523, -2.7087650328169874, -1.3832022946848443, -1.3308593638469237, -0.8934563171977155, -0.7223211779432246], [-11.084880703352477, -2.9103677041057914, -2.7849069946344067, -1.4449311471262503, -1.3739567911833894, -0.9335109498695646, -0.767447810107305], [-11.2046094909361, -3.02073982202106, -2.861048956451826, -1.506659999567657, -1.4170542185198551, -0.9735655825414133, -0.8125744422713854], [-11.324338278519726, -3.1311119399363285, -2.9371909182692453, -1.568388852009063, -1.4601516458563213, -1.013620215213262, -0.8577010744354658], [-11.44406706610335, -3.241484057851596, -3.0133328800866646, -1.6301177044504689, -1.503249073192787, -1.0536748478851108, -0.9028277065995463], [-11.563795853686974, -3.351856175766865, -3.089474841904084, -1.6918465568918757, -1.5463465005292527, -1.09372948055696, -0.9479543387636267], [-11.6835246412706, -3.4622282936821334, -3.165616803721503, -1.7535754093332816, -1.5894439278657189, -1.1337841132288087, -0.9930809709277066], [-11.803253428854225, -3.572600411597401, -3.2417587655389224, -1.8153042617746875, -1.6325413552021846, -1.1738387459006574, -1.038207603091787], [-11.922982216437848, -3.6829725295126696, -3.3179007273563417, -1.8770331142160943, -1.6756387825386503, -1.2138933785725066, -1.0833342352558675], [-12.042711004021474, -3.7933446474279373, -3.394042689173761, -1.9387619666575002, -1.7187362098751164, -1.2539480112443553, -1.1284608674199479], [-12.162439791605099, -3.903716765343206, -3.4701846509911802, -2.000490819098907, -1.7618336372115821, -1.294002643916204, -1.1735874995840283], [-12.282168579188722, -4.0140888832584745, -3.5463266128085995, -2.062219671540313, -1.8049310645480479, -1.3340572765880532, -1.2187141317481087], [-12.401897366772348, -4.124461001173743, -3.622468574626019, -2.123948523981719, -1.848028491884514, -1.374111909259902, -1.2638407639121887], [-12.521626154355973, -4.234833119089012, -3.698610536443438, -2.1856773764231257, -1.8911259192209797, -1.4141665419317506, -1.308967396076269], [-12.641354941939598, -4.34520523700428, -3.7747524982608573, -2.2474062288645316, -1.9342233465574454, -1.4542211746035993, -1.3540940282403495], [-12.761083729523222, -4.455577354919549, -3.8508944600782766, -2.3091350813059375, -1.9773207738939116, -1.4942758072754485, -1.39922066040443], [-12.880812517106847, -4.565949472834817, -3.927036421895696, -2.3708639337473443, -2.0204182012303775, -1.5343304399472972, -1.4443472925685104]]\n"
     ]
    }
   ],
   "source": [
    "def sortRowWise(m): \n",
    "      \n",
    "    # One by one sort individual rows. \n",
    "    for i in range(len(m)):  \n",
    "        m[i].sort()  \n",
    "          \n",
    "    # printing the sorted matrix \n",
    "    for i in range(len(m)): \n",
    "        for j in range(len(m[i])): \n",
    "            print(m[i][j], end=\" \") \n",
    "        print() \n",
    "          \n",
    "    return 0\n",
    "  \n",
    "\n",
    "# Add your own three lines of driver code.  \n",
    "# Line 1:  rename your modlnk array \"modlnksort\" so it won't get overwritten by the subroutine\n",
    "\n",
    "\n",
    "# Line 2:  call the function and send it the \"modlnksort\" array\n",
    "\n",
    "\n",
    "# Line 3:  Re-print the results, to make sure the subroutine has passed the correct data back.  \n",
    "# Once you run the code, check the first few numbers of the array in each of the two printouts -- they should match!\n",
    "\n",
    "modlnksort = modlnk\n",
    "sortRowWise(modlnksort)\n",
    "print(modlnksort)"
   ]
  },
  {
   "cell_type": "markdown",
   "metadata": {},
   "source": [
    "Look over your data.  Each row should now be ordered from lowest (most negative) to highest (most positive).  At this point, you should feel really happy that you're not trying to do this on Excel.\n",
    "\n",
    "## Calculating the difference between adjacent numbers in each row\n",
    "Now that you feel really happy that the numbers in each row are in order, we can use Python to calculate the differences between each number and its row-neighbors, and store these results in a new array.  Here goes, with a subroutine written by Dr. D!  Take a look at how it works, stepping through each row (i), and then nested within that <b>for</b> loop is another <b>for</b> loop going down each row through (j) columns to calculate the differences.\n",
    "\n",
    "Notice that this subroutine works with two arrays, an input array (first) and an output array (second).  This is another way to solve the problem of overwriting data, but in this case it is necessary because the input and output arrays have different dimensions.\n",
    "\n",
    "Once you've looked over the subroutine code, write your own driver code again."
   ]
  },
  {
   "cell_type": "code",
   "execution_count": 16,
   "metadata": {},
   "outputs": [
    {
     "name": "stdout",
     "output_type": "stream",
     "text": [
      "5.496199098575351 0.27309213475989 0.13340705824153098 0.3116160535934607 0.23563877823397683 1.209943044082876 \n",
      "5.57283045882251 0.276134929424507 0.09731972909596065 0.3426313832467993 0.21903655795665133 1.1612997786090133 \n",
      "5.649461819069669 0.2791777240891241 0.06123239995039009 0.3736467129001384 0.20243433767932517 1.1126565131351516 \n",
      "5.726093179316829 0.2822205187537411 0.025145070804819758 0.40466204255347726 0.18583211740199967 1.0640132476612894 \n",
      "5.802724539563987 0.2743210550776074 0.010942258340750577 0.42473511386606555 0.16922989712467373 1.0153699821874271 \n",
      "5.879355899811145 0.24127652059665394 0.047029587486321134 0.41966311437383386 0.1526276768473478 0.9667267167135654 \n",
      "5.955987260058305 0.2082319861157006 0.08311691663189169 0.4145911148816024 0.13602545657002185 0.9180834512397034 \n",
      "6.032618620305463 0.17518745163474714 0.11920424577746203 0.40951911538937114 0.11942323629269591 0.8694401857658409 \n",
      "6.1092499805526215 0.14214291715379368 0.15529157492303236 0.40444711589713966 0.10282101601536997 0.8207969202919787 \n",
      "6.1858813407997815 0.10909838267284022 0.1913789040686028 0.3993751164049081 0.08621879573804425 0.7721536548181167 \n",
      "6.26251270104694 0.07605384819188687 0.22746623321417325 0.3943031169126765 0.06961657546071853 0.7235103893442547 \n",
      "6.339144061294098 0.04300931371093342 0.2635535623597437 0.3892311174204449 0.05301435518339259 0.6748671238703925 \n",
      "6.415775421541258 0.009964779229979959 0.29964089150531414 0.38415911792821356 0.03641213490606665 0.6262238583965305 \n",
      "6.469327026537442 0.02307975525097339 0.3126484653999111 0.3790871184359821 0.019809914628740932 0.5775805929226681 \n",
      "6.512913852303647 0.056124289731926735 0.3156912600645282 0.3740151189437505 0.0032076943514149914 0.5289373274488063 \n",
      "6.556500678069854 0.0891688242128803 0.31873405472914507 0.3555485935256082 0.01339452592591095 0.4668995360490329 \n",
      "6.600087503836059 0.12221335869383365 0.32177684939376205 0.333874373756051 0.02999674620323667 0.4016540502978452 \n",
      "6.6436743296022645 0.15525789317478722 0.32481964405837904 0.31220015398649337 0.04659896648056261 0.336408564546657 \n",
      "6.6872611553684695 0.18830242765574057 0.32786243872299603 0.2905259342169362 0.06320118675788855 0.2711630787954691 \n",
      "6.730847981134675 0.22134696213669391 0.33090523338761324 0.26885171444737854 0.07980340703521449 0.20591759304428092 \n",
      "6.77443480690088 0.2543914966176475 0.33394802805223 0.24717749467782135 0.09640562731254021 0.1406721072930932 \n",
      "6.818021632667087 0.28743603109860083 0.336990822716847 0.22550327490826416 0.11300784758986615 0.07542662154190483 \n",
      "6.861608458433292 0.3204805655795542 0.3400336173814642 0.20382905513870653 0.1296100678671921 0.01018113579071711 \n",
      "6.905195284199497 0.35352510006050775 0.34307641204608097 0.18215483536914934 0.0911479381840472 0.055064349960470604 \n",
      "6.948782109965702 0.3865696345414611 0.3461192067106982 0.1604806155995917 0.04250467271018499 0.12030983571165876 \n",
      "6.992368935731907 0.41961416902241444 0.34916200137531517 0.1326678030663575 0.006138592763677231 0.17941672869916947 \n",
      "7.035955761498112 0.452658703503368 0.35220479603993193 0.06235031782293787 0.05478185823753945 0.1960189489764954 \n",
      "7.079542587264319 0.48570323798432136 0.34728042328406716 0.00796716742048198 0.09545795629091969 0.21262116925382135 \n",
      "7.123129413030522 0.5187477724652747 0.2800057327052654 0.07828465266390072 0.07378373652136272 0.22922338953114707 \n",
      "7.166716238796729 0.5517923069462283 0.21273104212646254 0.14860213790732058 0.052109516751805085 0.245825609808473 \n",
      "7.210303064562934 0.5848368414271816 0.1454563515476599 0.2189196231507402 0.030435296982247673 0.26242783008579895 \n",
      "7.253889890329139 0.617881375908135 0.07818166096885726 0.28923710839415984 0.008761077212690704 0.27903005036312467 \n",
      "7.297476716095344 0.6509259103890885 0.010906970390055282 0.34664145108071187 0.01291314255686693 0.2827191280835837 \n",
      "7.341063541861551 0.6276027246812945 0.05636772018874736 0.33891699636582673 0.03458736232642434 0.2776471285913522 \n",
      "7.384650367627755 0.5933725685834452 0.12364241076755 0.3202855712608863 0.05626158209598198 0.2725751290991205 \n",
      "7.4282371933939615 0.5591424124855968 0.19091710134635198 0.3016541461559461 0.07793580186553895 0.26750312960688927 \n",
      "7.471824019160167 0.5249122563877475 0.2581917919251546 0.2830227210510057 0.09961002163509636 0.2624311301146578 \n",
      "7.515410844926372 0.4906821002898982 0.3254664825039575 0.26439129594606503 0.12128424140465399 0.2573591306224261 \n",
      "7.558997670692577 0.45645194419204893 0.3927411730827599 0.24575987084112527 0.14295846117421096 0.25228713113019463 \n",
      "7.602584496458784 0.4222217880942005 0.4600158636615619 0.22712844573618463 0.1646326809437686 0.24721513163796294 \n",
      "7.646171322224987 0.3879916319963512 0.5272905542403648 0.20849702063124398 0.186306900713326 0.2421431321457319 \n",
      "7.689758147991194 0.35376147589850193 0.5945652448191672 0.18986559552630422 0.2079811204828832 0.23707113265350022 \n",
      "7.733344973757399 0.31953131980065264 0.66183993539797 0.17123417042136357 0.2296553402524404 0.23199913316126897 \n",
      "7.776931799523606 0.28530116370280423 0.729114625976772 0.15260274531642293 0.251329560021998 0.22692713366903727 \n",
      "7.820518625289809 0.25107100760495493 0.7963893165555744 0.13397132021148317 0.2730037797915552 0.22185513417680558 \n",
      "7.864105451056016 0.21684085150710564 0.8636640071343773 0.11533989510654252 0.2946779995611124 0.21678313468457433 \n",
      "7.907692276822221 0.18261069540925634 0.9309386977131802 0.09670847000160188 0.31635221933067004 0.21171113519234308 \n",
      "7.951279102588426 0.14838053931140793 0.9982133882919817 0.07807704489666212 0.3380264391002272 0.2066391357001114 \n",
      "7.994865928354631 0.11415038321355864 1.0654880788707846 0.05944561979172147 0.35970065886978486 0.2015671362078797 \n",
      "8.038452754120838 0.07992022711570934 1.1327627694495874 0.040814194686780825 0.38137487863934205 0.19649513671564844 \n",
      "8.082039579887041 0.045690071017860934 1.2000374600283894 0.022182769581840622 0.40304909840889924 0.19142313722341675 \n",
      "8.125626405653248 0.011459914920011638 1.2673121506071918 0.00355134447690042 0.4247233181784569 0.18635113773118506 \n",
      "8.146442990241617 0.022770241177837658 1.2967365193801168 0.015080080628040227 0.43131745731997384 0.1812791382389538 \n",
      "8.15579965990997 0.057000397275686954 1.3111496287561297 0.03371150573298087 0.43436025198459083 0.17620713874672256 \n",
      "8.165156329578329 0.09123055337353536 1.325562738132143 0.05234293083792063 0.43740304664920826 0.17113513925449086 \n",
      "8.174512999246685 0.12546070947138466 1.3399758475081565 0.07097435594286083 0.4404458413138248 0.16606313976225962 \n",
      "8.18386966891504 0.15969086556923395 1.354388956884169 0.08960578104780192 0.4434886359784418 0.16099114027002792 \n",
      "8.193226338583397 0.19392102166708325 1.3688020662601823 0.10823720615274168 0.4465314306430592 0.15591914077779623 \n",
      "8.202583008251754 0.22815117776493166 1.3832151756361957 0.12686863125768189 0.4495742253076762 0.15084714128556453 \n",
      "8.21193967792011 0.26238133386278095 1.3976282850122081 0.14550005636262298 0.45261701997229276 0.14577514179333328 \n",
      "8.221296347588467 0.29661148996063025 1.4120413943882215 0.16413148146756273 0.4556598146369102 0.14070314230110204 \n",
      "8.230653017256824 0.33084164605847866 1.4264545037642349 0.18276290657250294 0.4587026093015272 0.13563114280887034 \n",
      "8.240009686925179 0.36507180215632795 1.4408676131402474 0.20139433167744403 0.4617454039661437 0.1305591433166391 \n",
      "8.249366356593537 0.39930195825417636 1.4552807225162607 0.22002575678238379 0.46478819863076115 0.1254871438244074 \n",
      "8.258723026261894 0.43353211435202565 1.4696938318922732 0.23865718188732488 0.46783099329537814 0.1204151443321757 \n",
      "8.268079695930247 0.46776227044987495 1.4841069412682866 0.2572886069922651 0.4708737879599947 0.11534314483994446 \n",
      "8.277436365598604 0.5019924265477242 1.4985200506443 0.27592003209720484 0.4739165826246121 0.1102711453477132 \n",
      "8.28679303526696 0.5362225826455735 1.5129331600203124 0.2945514572021459 0.4769593772892291 0.10519914585548151 \n",
      "8.296149704935317 0.5704527387434228 1.5273462693963258 0.31318288230708613 0.4800021719538461 0.10012714636324982 \n",
      "8.305506374603674 0.6046828948412721 1.5417593787723392 0.3318143074120259 0.4830449666184631 0.09505514687101857 \n",
      "8.31486304427203 0.6389130509391214 1.5561724881483516 0.35044573251696676 0.4860877612830803 0.08998314737878688 \n",
      "diff = \n",
      "[[5.496199098575351, 0.27309213475989, 0.13340705824153098, 0.3116160535934607, 0.23563877823397683, 1.209943044082876], [5.57283045882251, 0.276134929424507, 0.09731972909596065, 0.3426313832467993, 0.21903655795665133, 1.1612997786090133], [5.649461819069669, 0.2791777240891241, 0.06123239995039009, 0.3736467129001384, 0.20243433767932517, 1.1126565131351516], [5.726093179316829, 0.2822205187537411, 0.025145070804819758, 0.40466204255347726, 0.18583211740199967, 1.0640132476612894], [5.802724539563987, 0.2743210550776074, 0.010942258340750577, 0.42473511386606555, 0.16922989712467373, 1.0153699821874271], [5.879355899811145, 0.24127652059665394, 0.047029587486321134, 0.41966311437383386, 0.1526276768473478, 0.9667267167135654], [5.955987260058305, 0.2082319861157006, 0.08311691663189169, 0.4145911148816024, 0.13602545657002185, 0.9180834512397034], [6.032618620305463, 0.17518745163474714, 0.11920424577746203, 0.40951911538937114, 0.11942323629269591, 0.8694401857658409], [6.1092499805526215, 0.14214291715379368, 0.15529157492303236, 0.40444711589713966, 0.10282101601536997, 0.8207969202919787], [6.1858813407997815, 0.10909838267284022, 0.1913789040686028, 0.3993751164049081, 0.08621879573804425, 0.7721536548181167], [6.26251270104694, 0.07605384819188687, 0.22746623321417325, 0.3943031169126765, 0.06961657546071853, 0.7235103893442547], [6.339144061294098, 0.04300931371093342, 0.2635535623597437, 0.3892311174204449, 0.05301435518339259, 0.6748671238703925], [6.415775421541258, 0.009964779229979959, 0.29964089150531414, 0.38415911792821356, 0.03641213490606665, 0.6262238583965305], [6.469327026537442, 0.02307975525097339, 0.3126484653999111, 0.3790871184359821, 0.019809914628740932, 0.5775805929226681], [6.512913852303647, 0.056124289731926735, 0.3156912600645282, 0.3740151189437505, 0.0032076943514149914, 0.5289373274488063], [6.556500678069854, 0.0891688242128803, 0.31873405472914507, 0.3555485935256082, 0.01339452592591095, 0.4668995360490329], [6.600087503836059, 0.12221335869383365, 0.32177684939376205, 0.333874373756051, 0.02999674620323667, 0.4016540502978452], [6.6436743296022645, 0.15525789317478722, 0.32481964405837904, 0.31220015398649337, 0.04659896648056261, 0.336408564546657], [6.6872611553684695, 0.18830242765574057, 0.32786243872299603, 0.2905259342169362, 0.06320118675788855, 0.2711630787954691], [6.730847981134675, 0.22134696213669391, 0.33090523338761324, 0.26885171444737854, 0.07980340703521449, 0.20591759304428092], [6.77443480690088, 0.2543914966176475, 0.33394802805223, 0.24717749467782135, 0.09640562731254021, 0.1406721072930932], [6.818021632667087, 0.28743603109860083, 0.336990822716847, 0.22550327490826416, 0.11300784758986615, 0.07542662154190483], [6.861608458433292, 0.3204805655795542, 0.3400336173814642, 0.20382905513870653, 0.1296100678671921, 0.01018113579071711], [6.905195284199497, 0.35352510006050775, 0.34307641204608097, 0.18215483536914934, 0.0911479381840472, 0.055064349960470604], [6.948782109965702, 0.3865696345414611, 0.3461192067106982, 0.1604806155995917, 0.04250467271018499, 0.12030983571165876], [6.992368935731907, 0.41961416902241444, 0.34916200137531517, 0.1326678030663575, 0.006138592763677231, 0.17941672869916947], [7.035955761498112, 0.452658703503368, 0.35220479603993193, 0.06235031782293787, 0.05478185823753945, 0.1960189489764954], [7.079542587264319, 0.48570323798432136, 0.34728042328406716, 0.00796716742048198, 0.09545795629091969, 0.21262116925382135], [7.123129413030522, 0.5187477724652747, 0.2800057327052654, 0.07828465266390072, 0.07378373652136272, 0.22922338953114707], [7.166716238796729, 0.5517923069462283, 0.21273104212646254, 0.14860213790732058, 0.052109516751805085, 0.245825609808473], [7.210303064562934, 0.5848368414271816, 0.1454563515476599, 0.2189196231507402, 0.030435296982247673, 0.26242783008579895], [7.253889890329139, 0.617881375908135, 0.07818166096885726, 0.28923710839415984, 0.008761077212690704, 0.27903005036312467], [7.297476716095344, 0.6509259103890885, 0.010906970390055282, 0.34664145108071187, 0.01291314255686693, 0.2827191280835837], [7.341063541861551, 0.6276027246812945, 0.05636772018874736, 0.33891699636582673, 0.03458736232642434, 0.2776471285913522], [7.384650367627755, 0.5933725685834452, 0.12364241076755, 0.3202855712608863, 0.05626158209598198, 0.2725751290991205], [7.4282371933939615, 0.5591424124855968, 0.19091710134635198, 0.3016541461559461, 0.07793580186553895, 0.26750312960688927], [7.471824019160167, 0.5249122563877475, 0.2581917919251546, 0.2830227210510057, 0.09961002163509636, 0.2624311301146578], [7.515410844926372, 0.4906821002898982, 0.3254664825039575, 0.26439129594606503, 0.12128424140465399, 0.2573591306224261], [7.558997670692577, 0.45645194419204893, 0.3927411730827599, 0.24575987084112527, 0.14295846117421096, 0.25228713113019463], [7.602584496458784, 0.4222217880942005, 0.4600158636615619, 0.22712844573618463, 0.1646326809437686, 0.24721513163796294], [7.646171322224987, 0.3879916319963512, 0.5272905542403648, 0.20849702063124398, 0.186306900713326, 0.2421431321457319], [7.689758147991194, 0.35376147589850193, 0.5945652448191672, 0.18986559552630422, 0.2079811204828832, 0.23707113265350022], [7.733344973757399, 0.31953131980065264, 0.66183993539797, 0.17123417042136357, 0.2296553402524404, 0.23199913316126897], [7.776931799523606, 0.28530116370280423, 0.729114625976772, 0.15260274531642293, 0.251329560021998, 0.22692713366903727], [7.820518625289809, 0.25107100760495493, 0.7963893165555744, 0.13397132021148317, 0.2730037797915552, 0.22185513417680558], [7.864105451056016, 0.21684085150710564, 0.8636640071343773, 0.11533989510654252, 0.2946779995611124, 0.21678313468457433], [7.907692276822221, 0.18261069540925634, 0.9309386977131802, 0.09670847000160188, 0.31635221933067004, 0.21171113519234308], [7.951279102588426, 0.14838053931140793, 0.9982133882919817, 0.07807704489666212, 0.3380264391002272, 0.2066391357001114], [7.994865928354631, 0.11415038321355864, 1.0654880788707846, 0.05944561979172147, 0.35970065886978486, 0.2015671362078797], [8.038452754120838, 0.07992022711570934, 1.1327627694495874, 0.040814194686780825, 0.38137487863934205, 0.19649513671564844], [8.082039579887041, 0.045690071017860934, 1.2000374600283894, 0.022182769581840622, 0.40304909840889924, 0.19142313722341675], [8.125626405653248, 0.011459914920011638, 1.2673121506071918, 0.00355134447690042, 0.4247233181784569, 0.18635113773118506], [8.146442990241617, 0.022770241177837658, 1.2967365193801168, 0.015080080628040227, 0.43131745731997384, 0.1812791382389538], [8.15579965990997, 0.057000397275686954, 1.3111496287561297, 0.03371150573298087, 0.43436025198459083, 0.17620713874672256], [8.165156329578329, 0.09123055337353536, 1.325562738132143, 0.05234293083792063, 0.43740304664920826, 0.17113513925449086], [8.174512999246685, 0.12546070947138466, 1.3399758475081565, 0.07097435594286083, 0.4404458413138248, 0.16606313976225962], [8.18386966891504, 0.15969086556923395, 1.354388956884169, 0.08960578104780192, 0.4434886359784418, 0.16099114027002792], [8.193226338583397, 0.19392102166708325, 1.3688020662601823, 0.10823720615274168, 0.4465314306430592, 0.15591914077779623], [8.202583008251754, 0.22815117776493166, 1.3832151756361957, 0.12686863125768189, 0.4495742253076762, 0.15084714128556453], [8.21193967792011, 0.26238133386278095, 1.3976282850122081, 0.14550005636262298, 0.45261701997229276, 0.14577514179333328], [8.221296347588467, 0.29661148996063025, 1.4120413943882215, 0.16413148146756273, 0.4556598146369102, 0.14070314230110204], [8.230653017256824, 0.33084164605847866, 1.4264545037642349, 0.18276290657250294, 0.4587026093015272, 0.13563114280887034], [8.240009686925179, 0.36507180215632795, 1.4408676131402474, 0.20139433167744403, 0.4617454039661437, 0.1305591433166391], [8.249366356593537, 0.39930195825417636, 1.4552807225162607, 0.22002575678238379, 0.46478819863076115, 0.1254871438244074], [8.258723026261894, 0.43353211435202565, 1.4696938318922732, 0.23865718188732488, 0.46783099329537814, 0.1204151443321757], [8.268079695930247, 0.46776227044987495, 1.4841069412682866, 0.2572886069922651, 0.4708737879599947, 0.11534314483994446], [8.277436365598604, 0.5019924265477242, 1.4985200506443, 0.27592003209720484, 0.4739165826246121, 0.1102711453477132], [8.28679303526696, 0.5362225826455735, 1.5129331600203124, 0.2945514572021459, 0.4769593772892291, 0.10519914585548151], [8.296149704935317, 0.5704527387434228, 1.5273462693963258, 0.31318288230708613, 0.4800021719538461, 0.10012714636324982], [8.305506374603674, 0.6046828948412721, 1.5417593787723392, 0.3318143074120259, 0.4830449666184631, 0.09505514687101857], [8.31486304427203, 0.6389130509391214, 1.5561724881483516, 0.35044573251696676, 0.4860877612830803, 0.08998314737878688]]\n"
     ]
    }
   ],
   "source": [
    "# Subroutine to calculate the difference between all adjacent numbers in each row of a 2-D array\n",
    "\n",
    "def RowDiffs(m, diff):    #This subroutine must be called with an input array \"m\" and an empty output array \"diff\"\n",
    "\n",
    "    # Take the differences of all adjacent numbers in each individual row. \n",
    "    for i in range(len(m)):          # For loop to step through rows\n",
    "        diffrow = []                 # Set up empty array to hold the differences between numbers in this row\n",
    "        for j in range(len(m[i])-1): # For loop to go down the row.  If a row holds 7 numbers, there will be 6 differences\n",
    "            difftemp = (m[i][j+1] - m[i][j])   # Calculate the difference between 2 adjacent numbers\n",
    "            # print(difftemp)\n",
    "            diffrow.append(difftemp) # Append the difference into the row array\n",
    "        # print(diffrow)\n",
    "        diff.append(diffrow)         # Append the difference row to a 2-D array\n",
    "    \n",
    "    # printing the sorted matrix.     \n",
    "    for i in range(len(diff)): \n",
    "        for j in range(len(diff[i])): \n",
    "            print(diff[i][j], end=\" \") \n",
    "        print() \n",
    "    return 0\n",
    "\n",
    "# This code is contributed by ddehaan.  Learning so much about coding!  :-)  \n",
    "\n",
    "# Add your own three lines of driver code.  \n",
    "# Line 1:  declare an empty array called \"diff\"\n",
    "\n",
    "# Line 2:  call the RowDiffs subroutine, passing two arrays (input array \"modlnksort\" first, empty output array \n",
    "# \"diff\" second) \n",
    "\n",
    "# Line 3:  print out the output array, so that you can check the data transfer from the subroutine went correctly.\n",
    "diff=[]\n",
    "RowDiffs(modlnksort, diff)\n",
    "print('diff = ')\n",
    "print(diff)"
   ]
  },
  {
   "cell_type": "markdown",
   "metadata": {},
   "source": [
    "The \"diff\" array now contains all the differences between the adjacent peak retention factors at a given acetonitrile / water mixture.  We are interested in the two closest peaks under each conditions, so we need to extract the smallest numbers in each row.  Use the <b>sortRowWise</b> subroutine to put the numbers in order, in a new array called \"diffsort\"."
   ]
  },
  {
   "cell_type": "code",
   "execution_count": 17,
   "metadata": {},
   "outputs": [
    {
     "name": "stdout",
     "output_type": "stream",
     "text": [
      "0.13340705824153098 0.23563877823397683 0.27309213475989 0.3116160535934607 1.209943044082876 5.496199098575351 \n",
      "0.09731972909596065 0.21903655795665133 0.276134929424507 0.3426313832467993 1.1612997786090133 5.57283045882251 \n",
      "0.06123239995039009 0.20243433767932517 0.2791777240891241 0.3736467129001384 1.1126565131351516 5.649461819069669 \n",
      "0.025145070804819758 0.18583211740199967 0.2822205187537411 0.40466204255347726 1.0640132476612894 5.726093179316829 \n",
      "0.010942258340750577 0.16922989712467373 0.2743210550776074 0.42473511386606555 1.0153699821874271 5.802724539563987 \n",
      "0.047029587486321134 0.1526276768473478 0.24127652059665394 0.41966311437383386 0.9667267167135654 5.879355899811145 \n",
      "0.08311691663189169 0.13602545657002185 0.2082319861157006 0.4145911148816024 0.9180834512397034 5.955987260058305 \n",
      "0.11920424577746203 0.11942323629269591 0.17518745163474714 0.40951911538937114 0.8694401857658409 6.032618620305463 \n",
      "0.10282101601536997 0.14214291715379368 0.15529157492303236 0.40444711589713966 0.8207969202919787 6.1092499805526215 \n",
      "0.08621879573804425 0.10909838267284022 0.1913789040686028 0.3993751164049081 0.7721536548181167 6.1858813407997815 \n",
      "0.06961657546071853 0.07605384819188687 0.22746623321417325 0.3943031169126765 0.7235103893442547 6.26251270104694 \n",
      "0.04300931371093342 0.05301435518339259 0.2635535623597437 0.3892311174204449 0.6748671238703925 6.339144061294098 \n",
      "0.009964779229979959 0.03641213490606665 0.29964089150531414 0.38415911792821356 0.6262238583965305 6.415775421541258 \n",
      "0.019809914628740932 0.02307975525097339 0.3126484653999111 0.3790871184359821 0.5775805929226681 6.469327026537442 \n",
      "0.0032076943514149914 0.056124289731926735 0.3156912600645282 0.3740151189437505 0.5289373274488063 6.512913852303647 \n",
      "0.01339452592591095 0.0891688242128803 0.31873405472914507 0.3555485935256082 0.4668995360490329 6.556500678069854 \n",
      "0.02999674620323667 0.12221335869383365 0.32177684939376205 0.333874373756051 0.4016540502978452 6.600087503836059 \n",
      "0.04659896648056261 0.15525789317478722 0.31220015398649337 0.32481964405837904 0.336408564546657 6.6436743296022645 \n",
      "0.06320118675788855 0.18830242765574057 0.2711630787954691 0.2905259342169362 0.32786243872299603 6.6872611553684695 \n",
      "0.07980340703521449 0.20591759304428092 0.22134696213669391 0.26885171444737854 0.33090523338761324 6.730847981134675 \n",
      "0.09640562731254021 0.1406721072930932 0.24717749467782135 0.2543914966176475 0.33394802805223 6.77443480690088 \n",
      "0.07542662154190483 0.11300784758986615 0.22550327490826416 0.28743603109860083 0.336990822716847 6.818021632667087 \n",
      "0.01018113579071711 0.1296100678671921 0.20382905513870653 0.3204805655795542 0.3400336173814642 6.861608458433292 \n",
      "0.055064349960470604 0.0911479381840472 0.18215483536914934 0.34307641204608097 0.35352510006050775 6.905195284199497 \n",
      "0.04250467271018499 0.12030983571165876 0.1604806155995917 0.3461192067106982 0.3865696345414611 6.948782109965702 \n",
      "0.006138592763677231 0.1326678030663575 0.17941672869916947 0.34916200137531517 0.41961416902241444 6.992368935731907 \n",
      "0.05478185823753945 0.06235031782293787 0.1960189489764954 0.35220479603993193 0.452658703503368 7.035955761498112 \n",
      "0.00796716742048198 0.09545795629091969 0.21262116925382135 0.34728042328406716 0.48570323798432136 7.079542587264319 \n",
      "0.07378373652136272 0.07828465266390072 0.22922338953114707 0.2800057327052654 0.5187477724652747 7.123129413030522 \n",
      "0.052109516751805085 0.14860213790732058 0.21273104212646254 0.245825609808473 0.5517923069462283 7.166716238796729 \n",
      "0.030435296982247673 0.1454563515476599 0.2189196231507402 0.26242783008579895 0.5848368414271816 7.210303064562934 \n",
      "0.008761077212690704 0.07818166096885726 0.27903005036312467 0.28923710839415984 0.617881375908135 7.253889890329139 \n",
      "0.010906970390055282 0.01291314255686693 0.2827191280835837 0.34664145108071187 0.6509259103890885 7.297476716095344 \n",
      "0.03458736232642434 0.05636772018874736 0.2776471285913522 0.33891699636582673 0.6276027246812945 7.341063541861551 \n",
      "0.05626158209598198 0.12364241076755 0.2725751290991205 0.3202855712608863 0.5933725685834452 7.384650367627755 \n",
      "0.07793580186553895 0.19091710134635198 0.26750312960688927 0.3016541461559461 0.5591424124855968 7.4282371933939615 \n",
      "0.09961002163509636 0.2581917919251546 0.2624311301146578 0.2830227210510057 0.5249122563877475 7.471824019160167 \n",
      "0.12128424140465399 0.2573591306224261 0.26439129594606503 0.3254664825039575 0.4906821002898982 7.515410844926372 \n",
      "0.14295846117421096 0.24575987084112527 0.25228713113019463 0.3927411730827599 0.45645194419204893 7.558997670692577 \n",
      "0.1646326809437686 0.22712844573618463 0.24721513163796294 0.4222217880942005 0.4600158636615619 7.602584496458784 \n",
      "0.186306900713326 0.20849702063124398 0.2421431321457319 0.3879916319963512 0.5272905542403648 7.646171322224987 \n",
      "0.18986559552630422 0.2079811204828832 0.23707113265350022 0.35376147589850193 0.5945652448191672 7.689758147991194 \n",
      "0.17123417042136357 0.2296553402524404 0.23199913316126897 0.31953131980065264 0.66183993539797 7.733344973757399 \n",
      "0.15260274531642293 0.22692713366903727 0.251329560021998 0.28530116370280423 0.729114625976772 7.776931799523606 \n",
      "0.13397132021148317 0.22185513417680558 0.25107100760495493 0.2730037797915552 0.7963893165555744 7.820518625289809 \n",
      "0.11533989510654252 0.21678313468457433 0.21684085150710564 0.2946779995611124 0.8636640071343773 7.864105451056016 \n",
      "0.09670847000160188 0.18261069540925634 0.21171113519234308 0.31635221933067004 0.9309386977131802 7.907692276822221 \n",
      "0.07807704489666212 0.14838053931140793 0.2066391357001114 0.3380264391002272 0.9982133882919817 7.951279102588426 \n",
      "0.05944561979172147 0.11415038321355864 0.2015671362078797 0.35970065886978486 1.0654880788707846 7.994865928354631 \n",
      "0.040814194686780825 0.07992022711570934 0.19649513671564844 0.38137487863934205 1.1327627694495874 8.038452754120838 \n",
      "0.022182769581840622 0.045690071017860934 0.19142313722341675 0.40304909840889924 1.2000374600283894 8.082039579887041 \n",
      "0.00355134447690042 0.011459914920011638 0.18635113773118506 0.4247233181784569 1.2673121506071918 8.125626405653248 \n",
      "0.015080080628040227 0.022770241177837658 0.1812791382389538 0.43131745731997384 1.2967365193801168 8.146442990241617 \n",
      "0.03371150573298087 0.057000397275686954 0.17620713874672256 0.43436025198459083 1.3111496287561297 8.15579965990997 \n",
      "0.05234293083792063 0.09123055337353536 0.17113513925449086 0.43740304664920826 1.325562738132143 8.165156329578329 \n",
      "0.07097435594286083 0.12546070947138466 0.16606313976225962 0.4404458413138248 1.3399758475081565 8.174512999246685 \n",
      "0.08960578104780192 0.15969086556923395 0.16099114027002792 0.4434886359784418 1.354388956884169 8.18386966891504 \n",
      "0.10823720615274168 0.15591914077779623 0.19392102166708325 0.4465314306430592 1.3688020662601823 8.193226338583397 \n",
      "0.12686863125768189 0.15084714128556453 0.22815117776493166 0.4495742253076762 1.3832151756361957 8.202583008251754 \n",
      "0.14550005636262298 0.14577514179333328 0.26238133386278095 0.45261701997229276 1.3976282850122081 8.21193967792011 \n",
      "0.14070314230110204 0.16413148146756273 0.29661148996063025 0.4556598146369102 1.4120413943882215 8.221296347588467 \n",
      "0.13563114280887034 0.18276290657250294 0.33084164605847866 0.4587026093015272 1.4264545037642349 8.230653017256824 \n",
      "0.1305591433166391 0.20139433167744403 0.36507180215632795 0.4617454039661437 1.4408676131402474 8.240009686925179 \n",
      "0.1254871438244074 0.22002575678238379 0.39930195825417636 0.46478819863076115 1.4552807225162607 8.249366356593537 \n",
      "0.1204151443321757 0.23865718188732488 0.43353211435202565 0.46783099329537814 1.4696938318922732 8.258723026261894 \n",
      "0.11534314483994446 0.2572886069922651 0.46776227044987495 0.4708737879599947 1.4841069412682866 8.268079695930247 \n",
      "0.1102711453477132 0.27592003209720484 0.4739165826246121 0.5019924265477242 1.4985200506443 8.277436365598604 \n",
      "0.10519914585548151 0.2945514572021459 0.4769593772892291 0.5362225826455735 1.5129331600203124 8.28679303526696 \n",
      "0.10012714636324982 0.31318288230708613 0.4800021719538461 0.5704527387434228 1.5273462693963258 8.296149704935317 \n",
      "0.09505514687101857 0.3318143074120259 0.4830449666184631 0.6046828948412721 1.5417593787723392 8.305506374603674 \n",
      "0.08998314737878688 0.35044573251696676 0.4860877612830803 0.6389130509391214 1.5561724881483516 8.31486304427203 \n",
      "[[0.13340705824153098, 0.23563877823397683, 0.27309213475989, 0.3116160535934607, 1.209943044082876, 5.496199098575351], [0.09731972909596065, 0.21903655795665133, 0.276134929424507, 0.3426313832467993, 1.1612997786090133, 5.57283045882251], [0.06123239995039009, 0.20243433767932517, 0.2791777240891241, 0.3736467129001384, 1.1126565131351516, 5.649461819069669], [0.025145070804819758, 0.18583211740199967, 0.2822205187537411, 0.40466204255347726, 1.0640132476612894, 5.726093179316829], [0.010942258340750577, 0.16922989712467373, 0.2743210550776074, 0.42473511386606555, 1.0153699821874271, 5.802724539563987], [0.047029587486321134, 0.1526276768473478, 0.24127652059665394, 0.41966311437383386, 0.9667267167135654, 5.879355899811145], [0.08311691663189169, 0.13602545657002185, 0.2082319861157006, 0.4145911148816024, 0.9180834512397034, 5.955987260058305], [0.11920424577746203, 0.11942323629269591, 0.17518745163474714, 0.40951911538937114, 0.8694401857658409, 6.032618620305463], [0.10282101601536997, 0.14214291715379368, 0.15529157492303236, 0.40444711589713966, 0.8207969202919787, 6.1092499805526215], [0.08621879573804425, 0.10909838267284022, 0.1913789040686028, 0.3993751164049081, 0.7721536548181167, 6.1858813407997815], [0.06961657546071853, 0.07605384819188687, 0.22746623321417325, 0.3943031169126765, 0.7235103893442547, 6.26251270104694], [0.04300931371093342, 0.05301435518339259, 0.2635535623597437, 0.3892311174204449, 0.6748671238703925, 6.339144061294098], [0.009964779229979959, 0.03641213490606665, 0.29964089150531414, 0.38415911792821356, 0.6262238583965305, 6.415775421541258], [0.019809914628740932, 0.02307975525097339, 0.3126484653999111, 0.3790871184359821, 0.5775805929226681, 6.469327026537442], [0.0032076943514149914, 0.056124289731926735, 0.3156912600645282, 0.3740151189437505, 0.5289373274488063, 6.512913852303647], [0.01339452592591095, 0.0891688242128803, 0.31873405472914507, 0.3555485935256082, 0.4668995360490329, 6.556500678069854], [0.02999674620323667, 0.12221335869383365, 0.32177684939376205, 0.333874373756051, 0.4016540502978452, 6.600087503836059], [0.04659896648056261, 0.15525789317478722, 0.31220015398649337, 0.32481964405837904, 0.336408564546657, 6.6436743296022645], [0.06320118675788855, 0.18830242765574057, 0.2711630787954691, 0.2905259342169362, 0.32786243872299603, 6.6872611553684695], [0.07980340703521449, 0.20591759304428092, 0.22134696213669391, 0.26885171444737854, 0.33090523338761324, 6.730847981134675], [0.09640562731254021, 0.1406721072930932, 0.24717749467782135, 0.2543914966176475, 0.33394802805223, 6.77443480690088], [0.07542662154190483, 0.11300784758986615, 0.22550327490826416, 0.28743603109860083, 0.336990822716847, 6.818021632667087], [0.01018113579071711, 0.1296100678671921, 0.20382905513870653, 0.3204805655795542, 0.3400336173814642, 6.861608458433292], [0.055064349960470604, 0.0911479381840472, 0.18215483536914934, 0.34307641204608097, 0.35352510006050775, 6.905195284199497], [0.04250467271018499, 0.12030983571165876, 0.1604806155995917, 0.3461192067106982, 0.3865696345414611, 6.948782109965702], [0.006138592763677231, 0.1326678030663575, 0.17941672869916947, 0.34916200137531517, 0.41961416902241444, 6.992368935731907], [0.05478185823753945, 0.06235031782293787, 0.1960189489764954, 0.35220479603993193, 0.452658703503368, 7.035955761498112], [0.00796716742048198, 0.09545795629091969, 0.21262116925382135, 0.34728042328406716, 0.48570323798432136, 7.079542587264319], [0.07378373652136272, 0.07828465266390072, 0.22922338953114707, 0.2800057327052654, 0.5187477724652747, 7.123129413030522], [0.052109516751805085, 0.14860213790732058, 0.21273104212646254, 0.245825609808473, 0.5517923069462283, 7.166716238796729], [0.030435296982247673, 0.1454563515476599, 0.2189196231507402, 0.26242783008579895, 0.5848368414271816, 7.210303064562934], [0.008761077212690704, 0.07818166096885726, 0.27903005036312467, 0.28923710839415984, 0.617881375908135, 7.253889890329139], [0.010906970390055282, 0.01291314255686693, 0.2827191280835837, 0.34664145108071187, 0.6509259103890885, 7.297476716095344], [0.03458736232642434, 0.05636772018874736, 0.2776471285913522, 0.33891699636582673, 0.6276027246812945, 7.341063541861551], [0.05626158209598198, 0.12364241076755, 0.2725751290991205, 0.3202855712608863, 0.5933725685834452, 7.384650367627755], [0.07793580186553895, 0.19091710134635198, 0.26750312960688927, 0.3016541461559461, 0.5591424124855968, 7.4282371933939615], [0.09961002163509636, 0.2581917919251546, 0.2624311301146578, 0.2830227210510057, 0.5249122563877475, 7.471824019160167], [0.12128424140465399, 0.2573591306224261, 0.26439129594606503, 0.3254664825039575, 0.4906821002898982, 7.515410844926372], [0.14295846117421096, 0.24575987084112527, 0.25228713113019463, 0.3927411730827599, 0.45645194419204893, 7.558997670692577], [0.1646326809437686, 0.22712844573618463, 0.24721513163796294, 0.4222217880942005, 0.4600158636615619, 7.602584496458784], [0.186306900713326, 0.20849702063124398, 0.2421431321457319, 0.3879916319963512, 0.5272905542403648, 7.646171322224987], [0.18986559552630422, 0.2079811204828832, 0.23707113265350022, 0.35376147589850193, 0.5945652448191672, 7.689758147991194], [0.17123417042136357, 0.2296553402524404, 0.23199913316126897, 0.31953131980065264, 0.66183993539797, 7.733344973757399], [0.15260274531642293, 0.22692713366903727, 0.251329560021998, 0.28530116370280423, 0.729114625976772, 7.776931799523606], [0.13397132021148317, 0.22185513417680558, 0.25107100760495493, 0.2730037797915552, 0.7963893165555744, 7.820518625289809], [0.11533989510654252, 0.21678313468457433, 0.21684085150710564, 0.2946779995611124, 0.8636640071343773, 7.864105451056016], [0.09670847000160188, 0.18261069540925634, 0.21171113519234308, 0.31635221933067004, 0.9309386977131802, 7.907692276822221], [0.07807704489666212, 0.14838053931140793, 0.2066391357001114, 0.3380264391002272, 0.9982133882919817, 7.951279102588426], [0.05944561979172147, 0.11415038321355864, 0.2015671362078797, 0.35970065886978486, 1.0654880788707846, 7.994865928354631], [0.040814194686780825, 0.07992022711570934, 0.19649513671564844, 0.38137487863934205, 1.1327627694495874, 8.038452754120838], [0.022182769581840622, 0.045690071017860934, 0.19142313722341675, 0.40304909840889924, 1.2000374600283894, 8.082039579887041], [0.00355134447690042, 0.011459914920011638, 0.18635113773118506, 0.4247233181784569, 1.2673121506071918, 8.125626405653248], [0.015080080628040227, 0.022770241177837658, 0.1812791382389538, 0.43131745731997384, 1.2967365193801168, 8.146442990241617], [0.03371150573298087, 0.057000397275686954, 0.17620713874672256, 0.43436025198459083, 1.3111496287561297, 8.15579965990997], [0.05234293083792063, 0.09123055337353536, 0.17113513925449086, 0.43740304664920826, 1.325562738132143, 8.165156329578329], [0.07097435594286083, 0.12546070947138466, 0.16606313976225962, 0.4404458413138248, 1.3399758475081565, 8.174512999246685], [0.08960578104780192, 0.15969086556923395, 0.16099114027002792, 0.4434886359784418, 1.354388956884169, 8.18386966891504], [0.10823720615274168, 0.15591914077779623, 0.19392102166708325, 0.4465314306430592, 1.3688020662601823, 8.193226338583397], [0.12686863125768189, 0.15084714128556453, 0.22815117776493166, 0.4495742253076762, 1.3832151756361957, 8.202583008251754], [0.14550005636262298, 0.14577514179333328, 0.26238133386278095, 0.45261701997229276, 1.3976282850122081, 8.21193967792011], [0.14070314230110204, 0.16413148146756273, 0.29661148996063025, 0.4556598146369102, 1.4120413943882215, 8.221296347588467], [0.13563114280887034, 0.18276290657250294, 0.33084164605847866, 0.4587026093015272, 1.4264545037642349, 8.230653017256824], [0.1305591433166391, 0.20139433167744403, 0.36507180215632795, 0.4617454039661437, 1.4408676131402474, 8.240009686925179], [0.1254871438244074, 0.22002575678238379, 0.39930195825417636, 0.46478819863076115, 1.4552807225162607, 8.249366356593537], [0.1204151443321757, 0.23865718188732488, 0.43353211435202565, 0.46783099329537814, 1.4696938318922732, 8.258723026261894], [0.11534314483994446, 0.2572886069922651, 0.46776227044987495, 0.4708737879599947, 1.4841069412682866, 8.268079695930247], [0.1102711453477132, 0.27592003209720484, 0.4739165826246121, 0.5019924265477242, 1.4985200506443, 8.277436365598604], [0.10519914585548151, 0.2945514572021459, 0.4769593772892291, 0.5362225826455735, 1.5129331600203124, 8.28679303526696], [0.10012714636324982, 0.31318288230708613, 0.4800021719538461, 0.5704527387434228, 1.5273462693963258, 8.296149704935317], [0.09505514687101857, 0.3318143074120259, 0.4830449666184631, 0.6046828948412721, 1.5417593787723392, 8.305506374603674], [0.08998314737878688, 0.35044573251696676, 0.4860877612830803, 0.6389130509391214, 1.5561724881483516, 8.31486304427203]]\n"
     ]
    }
   ],
   "source": [
    "def sortRowWise(m): \n",
    "      \n",
    "    # One by one sort individual rows. \n",
    "    for i in range(len(m)):  \n",
    "        m[i].sort()  \n",
    "          \n",
    "    # printing the sorted matrix \n",
    "    for i in range(len(m)): \n",
    "        for j in range(len(m[i])): \n",
    "            print(m[i][j], end=\" \") \n",
    "        print() \n",
    "          \n",
    "    return 0\n",
    "  \n",
    "\n",
    "# Add your own three lines of driver code.  \n",
    "# Line 1:  rename your modlnk array \"modlnksort\" so it won't get overwritten by the subroutine\n",
    "\n",
    "\n",
    "# Line 2:  call the function and send it the \"modlnksort\" array\n",
    "\n",
    "\n",
    "# Line 3:  Re-print the results, to make sure the subroutine has passed the correct data back.  \n",
    "# Once you run the code, check the first few numbers of the array in each of the two printouts -- they should match!\n",
    "\n",
    "diffsort = diff\n",
    "sortRowWise(diffsort)\n",
    "print(diffsort)"
   ]
  },
  {
   "cell_type": "markdown",
   "metadata": {},
   "source": [
    "Did you print out \"diffsort\" to make sure your subroutine call worked correctly?  Good!  \n",
    "\n",
    "Our last step is to slice out the first column of data from the array, because the first column now has the differences in ln(retentionIndex) between the two closest peaks at each condition.  You now know how to do this -- but you can also borrow and adapt code from the first code block in this Jupyter notebook to help you!  Note that you may have to convert your array to a Numpy array (\"newarray = np.array(oldarray)\") for slicing to work properly.\n",
    "\n",
    "As always, check that your code is working properly by examining the output of a print statement."
   ]
  },
  {
   "cell_type": "code",
   "execution_count": 18,
   "metadata": {},
   "outputs": [
    {
     "name": "stdout",
     "output_type": "stream",
     "text": [
      "The closest peak delta lnk values at each phi are [0.13340706 0.09731973 0.0612324  0.02514507 0.01094226 0.04702959\n",
      " 0.08311692 0.11920425 0.10282102 0.0862188  0.06961658 0.04300931\n",
      " 0.00996478 0.01980991 0.00320769 0.01339453 0.02999675 0.04659897\n",
      " 0.06320119 0.07980341 0.09640563 0.07542662 0.01018114 0.05506435\n",
      " 0.04250467 0.00613859 0.05478186 0.00796717 0.07378374 0.05210952\n",
      " 0.0304353  0.00876108 0.01090697 0.03458736 0.05626158 0.0779358\n",
      " 0.09961002 0.12128424 0.14295846 0.16463268 0.1863069  0.1898656\n",
      " 0.17123417 0.15260275 0.13397132 0.1153399  0.09670847 0.07807704\n",
      " 0.05944562 0.04081419 0.02218277 0.00355134 0.01508008 0.03371151\n",
      " 0.05234293 0.07097436 0.08960578 0.10823721 0.12686863 0.14550006\n",
      " 0.14070314 0.13563114 0.13055914 0.12548714 0.12041514 0.11534314\n",
      " 0.11027115 0.10519915 0.10012715 0.09505515 0.08998315]\n"
     ]
    }
   ],
   "source": [
    "npdiffsort = np.array(diffsort)\n",
    "mindiff = npdiffsort[:,0]\n",
    "\n",
    "\n",
    "# Write some classy print statements to show that your array slicing worked correctly.  An example:\n",
    "\n",
    "print (\"The closest peak delta lnk values at each phi are \" + str(mindiff))\n"
   ]
  },
  {
   "cell_type": "markdown",
   "metadata": {},
   "source": [
    "At this point, you have two 1-D arrays:  \"philist\" from several code blocks back, which contains the list of all the phi values from 0.1 to 0.8 in steps of 0.01; and the array that you just sliced out in the previous code block, which should be the corresponding closest-peak \"delta ln<i>k</i>\" values.  These arrays should be the same length!  \n",
    "\n",
    "Your last Python task is to graph these two arrays against each other to make a window plot -- the phi values should be on the x-axis.  Use the code block below to graph the data as a red line, and be sure to include axis labels as usual.  "
   ]
  },
  {
   "cell_type": "code",
   "execution_count": 19,
   "metadata": {},
   "outputs": [
    {
     "data": {
      "image/png": "[encoded data removed]",
      "text/plain": [
       "<Figure size 432x288 with 1 Axes>"
      ]
     },
     "metadata": {
      "needs_background": "light"
     },
     "output_type": "display_data"
    }
   ],
   "source": [
    "# Make window plot\n",
    "plt.plot(philist, mindiff, 'r-')\n",
    "\n",
    "plt.xlabel(\"Phi\")\n",
    "plt.ylabel(\"Minimum difference in lnk, 2 closest peaks\")\n",
    "\n",
    "plt.savefig(\"WindowPlot_fig.png\")"
   ]
  },
  {
   "cell_type": "markdown",
   "metadata": {},
   "source": [
    "## Extra credit option\n",
    "In order to interpret your graph without having to eyeball Phi values off of it, it would be convenient to make a long table that shows the paired \"philist\" and minimum difference values so that you could exactly locate the peaks.  Remember how the print statements in the subroutine for loop came out so neatly?  For extra credit, write (or adapt) a for loop that will print out the paired values, one pair per line.  Include labels at the top of the output."
   ]
  },
  {
   "cell_type": "code",
   "execution_count": 20,
   "metadata": {},
   "outputs": [
    {
     "name": "stdout",
     "output_type": "stream",
     "text": [
      "Phi value       Minimum delta lnk\n",
      "0.1 0.13340705824153098\n",
      "0.11 0.09731972909596065\n",
      "0.12 0.06123239995039009\n",
      "0.13 0.025145070804819758\n",
      "0.14 0.010942258340750577\n",
      "0.15000000000000002 0.047029587486321134\n",
      "0.16000000000000003 0.08311691663189169\n",
      "0.17000000000000004 0.11920424577746203\n",
      "0.18000000000000005 0.10282101601536997\n",
      "0.19000000000000006 0.08621879573804425\n",
      "0.20000000000000007 0.06961657546071853\n",
      "0.21000000000000008 0.04300931371093342\n",
      "0.22000000000000008 0.009964779229979959\n",
      "0.2300000000000001 0.019809914628740932\n",
      "0.2400000000000001 0.0032076943514149914\n",
      "0.2500000000000001 0.01339452592591095\n",
      "0.2600000000000001 0.02999674620323667\n",
      "0.27000000000000013 0.04659896648056261\n",
      "0.28000000000000014 0.06320118675788855\n",
      "0.29000000000000015 0.07980340703521449\n",
      "0.30000000000000016 0.09640562731254021\n",
      "0.31000000000000016 0.07542662154190483\n",
      "0.3200000000000002 0.01018113579071711\n",
      "0.3300000000000002 0.055064349960470604\n",
      "0.3400000000000002 0.04250467271018499\n",
      "0.3500000000000002 0.006138592763677231\n",
      "0.3600000000000002 0.05478185823753945\n",
      "0.3700000000000002 0.00796716742048198\n",
      "0.3800000000000002 0.07378373652136272\n",
      "0.39000000000000024 0.052109516751805085\n",
      "0.40000000000000024 0.030435296982247673\n",
      "0.41000000000000025 0.008761077212690704\n",
      "0.42000000000000026 0.010906970390055282\n",
      "0.43000000000000027 0.03458736232642434\n",
      "0.4400000000000003 0.05626158209598198\n",
      "0.4500000000000003 0.07793580186553895\n",
      "0.4600000000000003 0.09961002163509636\n",
      "0.4700000000000003 0.12128424140465399\n",
      "0.4800000000000003 0.14295846117421096\n",
      "0.4900000000000003 0.1646326809437686\n",
      "0.5000000000000003 0.186306900713326\n",
      "0.5100000000000003 0.18986559552630422\n",
      "0.5200000000000004 0.17123417042136357\n",
      "0.5300000000000004 0.15260274531642293\n",
      "0.5400000000000004 0.13397132021148317\n",
      "0.5500000000000004 0.11533989510654252\n",
      "0.5600000000000004 0.09670847000160188\n",
      "0.5700000000000004 0.07807704489666212\n",
      "0.5800000000000004 0.05944561979172147\n",
      "0.5900000000000004 0.040814194686780825\n",
      "0.6000000000000004 0.022182769581840622\n",
      "0.6100000000000004 0.00355134447690042\n",
      "0.6200000000000004 0.015080080628040227\n",
      "0.6300000000000004 0.03371150573298087\n",
      "0.6400000000000005 0.05234293083792063\n",
      "0.6500000000000005 0.07097435594286083\n",
      "0.6600000000000005 0.08960578104780192\n",
      "0.6700000000000005 0.10823720615274168\n",
      "0.6800000000000005 0.12686863125768189\n",
      "0.6900000000000005 0.14550005636262298\n",
      "0.7000000000000005 0.14070314230110204\n",
      "0.7100000000000005 0.13563114280887034\n",
      "0.7200000000000005 0.1305591433166391\n",
      "0.7300000000000005 0.1254871438244074\n",
      "0.7400000000000005 0.1204151443321757\n",
      "0.7500000000000006 0.11534314483994446\n",
      "0.7600000000000006 0.1102711453477132\n",
      "0.7700000000000006 0.10519914585548151\n",
      "0.7800000000000006 0.10012714636324982\n",
      "0.7900000000000006 0.09505514687101857\n",
      "0.8000000000000006 0.08998314737878688\n"
     ]
    }
   ],
   "source": [
    "print('Phi value       Minimum delta lnk')\n",
    "# printing the sorted matrix \n",
    "for i in range(len(philist)): \n",
    "    print(philist[i], mindiff[i]) \n",
    "\n",
    "          "
   ]
  },
  {
   "cell_type": "markdown",
   "metadata": {},
   "source": [
    "Wow, you made it!\n",
    "\n",
    "\n",
    "## Submission Instructions\n",
    "In your ELN, upload each of the graphs you made in this notebook into the Expt 7 R&A section, and explain what each graph is telling you.   \n",
    "Save this notebook with your name in the title and upload it, too!  There are a few questions to answer in the ELN, and you will use the HPLC simulator one more time to test the predictions of the chromatography model you just made in this Jupyter notebook."
   ]
  },
  {
   "cell_type": "code",
   "execution_count": null,
   "metadata": {},
   "outputs": [],
   "source": []
  }
 ],
 "metadata": {
  "kernelspec": {
   "display_name": "Python 3",
   "language": "python",
   "name": "python3"
  },
  "language_info": {
   "codemirror_mode": {
    "name": "ipython",
    "version": 3
   },
   "file_extension": ".py",
   "mimetype": "text/x-python",
   "name": "python",
   "nbconvert_exporter": "python",
   "pygments_lexer": "ipython3",
   "version": "3.7.4"
  }
 },
 "nbformat": 4,
 "nbformat_minor": 2
}
