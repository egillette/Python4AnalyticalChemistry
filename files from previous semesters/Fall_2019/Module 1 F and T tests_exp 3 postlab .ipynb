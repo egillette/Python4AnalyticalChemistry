{
 "cells": [
  {
   "cell_type": "markdown",
   "metadata": {},
   "source": [
    "# F and T tests in Python\n",
    "\n",
    "To compare your various indicator data, we need to process the data a little bit (to get averages and standard deviations, at least) and then you need to set up the F test and T-tests to then make a decision. In computer programming, decisions are often made with an \"if - then\" format. In this case, we might say \"if Fcalc is less than Ftable then we must run the t-test for unequal variances\". Make a plan for how to approach the question: are these two indicators providing the same results?\n",
    "\n",
    "\n",
    "\n",
    "Once you've structured your plan, let's get started! "
   ]
  },
  {
   "cell_type": "code",
   "execution_count": 10,
   "metadata": {},
   "outputs": [
    {
     "name": "stdout",
     "output_type": "stream",
     "text": [
      "the average HCl concentration calculated using bromothymol blue is 0.10857142857142861 +/- 0.010703804397102397 M\n",
      "the average HCl concentration calculated using methyl red is 0.17604166666666665 +/- 0.24542551978938315 M\n",
      "the average HCl concentration calculated using Bromocresol Green is 0.09876666666666667 +/- 0.002933238634835034 M\n",
      "the average HCl concentration calculated using Phenolphthalein is 0.36000000000000004 +/- 0.09946356116689167 M\n"
     ]
    }
   ],
   "source": [
    "# Just like we imported some extra math functions before, we're going to import some \n",
    "# extra statistical functions here\n",
    "import math\n",
    "import numpy as np\n",
    "import scipy.stats as stats\n",
    "\n",
    "# we need the average and standard deviation for each of our data sets. Covert them into csv files and save them in the same folder as this notebook\n",
    "data = np.genfromtxt('SP19_exp3.csv', dtype=float, delimiter=',', names=True) \n",
    "\n",
    "#using the names = True in our import command has told python that all of our columns have names in the first row \n",
    "# and we can use those names to call the data!\n",
    "\n",
    "\n",
    "\n",
    "average_BB = stats.tmean(data['BB'])\n",
    "s_BB = stats.tstd(data['BB'])\n",
    "\n",
    "print (\"the average HCl concentration calculated using bromothymol blue is \" + str(average_BB) + \" +/- \" + str(s_BB) + \" M\")\n",
    "\n",
    "average_MR =  np.nanmean(data['MR'])\n",
    "s_MR = np.nanstd(data['MR'])\n",
    "\n",
    "print (\"the average HCl concentration calculated using methyl red is \" + str(average_MR) + \" +/- \" + str(s_MR) + \" M\")\n",
    "\n",
    "average_BG =  np.nanmean(data['BG'])\n",
    "s_BG = np.nanstd(data['BG'])\n",
    "\n",
    "print (\"the average HCl concentration calculated using Bromocresol Green is \" + str(average_BG) + \" +/- \" + str(s_BG) + \" M\")\n",
    "\n",
    "average_Ph =  np.nanmean(data['Ph'])\n",
    "s_Ph = np.nanstd(data['Ph'])\n",
    "\n",
    "print (\"the average HCl concentration calculated using Phenolphthalein is \" + str(average_Ph) + \" +/- \" + str(s_Ph) + \" M\")\n",
    "\n",
    "# we're just missing one last indicator! Fill in your own code to print out the average and standard deviation for thymolphthalein.\n",
    "\n",
    "\n",
    "\n",
    "\n"
   ]
  },
  {
   "cell_type": "markdown",
   "metadata": {},
   "source": [
    "We might also want 95 % confidence interval. We calculated this back in the very first Experiment 1 post-lab notebook:"
   ]
  },
  {
   "cell_type": "code",
   "execution_count": 22,
   "metadata": {},
   "outputs": [
    {
     "name": "stdout",
     "output_type": "stream",
     "text": [
      "[HCl] calculated using bromothymol blue is 0.10857142857142861 +/- 0.0050661305169051336 M, at the 95% confidence interval\n"
     ]
    }
   ],
   "source": [
    "# Since our data arrays are all different sizes, we have to make sure we remove any blank rows from our calculation of the size:\n",
    "n = data.size - np.isnan(data['BB']).sum()\n",
    "\n",
    "#the first input is confidence %, the second is degrees of freedom (n-1)\n",
    "t = stats.t.ppf(0.95, n-1)\n",
    "\n",
    "CI_BB = s_BB*t/math.sqrt(n)\n",
    "\n",
    "print (\"[HCl] calculated using bromothymol blue is \" + str(average_BB) + \" +/- \" + str(CI_BB) + \" M, at the 95% confidence interval\")"
   ]
  },
  {
   "cell_type": "markdown",
   "metadata": {},
   "source": [
    "### F-test\n",
    "We want to know whether we can use all of the indicators interchangably. Are they all giving us essentially the same answer, or are some of the indicators producing results which are significantly different from the others? We will eventually want to know whether the means are the same, but there are many different ways to compare the means. First, we need to know if the standard deviations are similar, to help us decide which t-test to do!\n",
    "\n",
    "The F-test is a simple test:\n",
    "\n",
    "$$ F_{calculated} = (s_{1}^{2}/s_{2}^{2}) $$\n",
    "\n",
    "Note that $ s_{1} $ must be the larger standard deviation, so you should always have an F value greater than 1!\n"
   ]
  },
  {
   "cell_type": "code",
   "execution_count": 3,
   "metadata": {},
   "outputs": [
    {
     "ename": "SyntaxError",
     "evalue": "invalid syntax (<ipython-input-3-966c18ed0d90>, line 11)",
     "output_type": "error",
     "traceback": [
      "\u001b[1;36m  File \u001b[1;32m\"<ipython-input-3-966c18ed0d90>\"\u001b[1;36m, line \u001b[1;32m11\u001b[0m\n\u001b[1;33m    F_calc =\u001b[0m\n\u001b[1;37m             ^\u001b[0m\n\u001b[1;31mSyntaxError\u001b[0m\u001b[1;31m:\u001b[0m invalid syntax\n"
     ]
    }
   ],
   "source": [
    "# Just like t values, we can tell python to look up critical F values for us as well!\n",
    "# Now, we can get an F critical value. What are each of those values in that equation? Double check that \n",
    "# they are right for our equation, and add comments to explain!\n",
    "\n",
    "F_crit = stats.f.ppf(q=1-0.05, dfn=4, dfd=5)\n",
    "\n",
    "# Pick the first two indicators you'd like to compare!\n",
    "# Think about what the equation for F calculated is, and then calculate your F_calc value here\n",
    "\n",
    "\n",
    "F_calc = "
   ]
  },
  {
   "cell_type": "markdown",
   "metadata": {},
   "source": [
    "## Using the F-test to choose a t-test\n",
    "Then we need to acutally use our data to make a decision! This is where we use if-then statements to make a decision about how to proceed!\n",
    "\n",
    "We have two possible methods for calculating our t value.\n",
    "1. If the variance of the two data sets is the same, then we can use:\n",
    "\n",
    "$$ {\\displaystyle t_{calc}={\\frac {{\\bar {x}}_{1}-{\\bar {x}}_{2}}{s_{pooled}\\cdot {\\sqrt {{\\frac {1}{n_{1}}}+{\\frac {1}{n_{2}}}}}}}} $$\n",
    "\n",
    "where $$ s_{pooled} = {\\displaystyle s_{p}={\\sqrt {\\frac {\\left(n_{1}-1\\right)s_{{1}}^{2}+\\left(n_{2}-1\\right)s_{{2}}^{2}}{n_{1}+n_{2}-2}}}.} $$\n",
    "\n",
    "\n",
    "In this case, degrees of freedom is $ d.o.f = n_{1} + n_{2} -2 $\n",
    "\n",
    "2. If the variance of the two data sets is different, then we must use:\n",
    "$$ {\\displaystyle t={\\frac {{\\bar {x}}_{1}-{\\bar {x}}_{2}}{{\\sqrt {{\\frac {s_{1}^{2}}{n_{1}}}+{\\frac {s_{2}^{2}}{n_{2}}}}}}}} $$\n",
    "\n",
    "and the degrees of freedom equation is a little more complicated:\n",
    "\n",
    "$$ {\\displaystyle \\mathrm {d.o.f.} ={\\frac {\\left({\\frac {s_{1}^{2}}{n_{1}}}+{\\frac {s_{2}^{2}}{n_{2}}}\\right)^{2}}{{\\frac {\\left(s_{1}^{2}/n_{1}\\right)^{2}}{n_{1}-1}}+{\\frac {\\left(s_{2}^{2}/n_{2}\\right)^{2}}{n_{2}-1}}}}.} $$\n"
   ]
  },
  {
   "cell_type": "code",
   "execution_count": 14,
   "metadata": {},
   "outputs": [
    {
     "ename": "SyntaxError",
     "evalue": "invalid syntax (<ipython-input-14-9b05ef0afd4f>, line 4)",
     "output_type": "error",
     "traceback": [
      "\u001b[1;36m  File \u001b[1;32m\"<ipython-input-14-9b05ef0afd4f>\"\u001b[1;36m, line \u001b[1;32m4\u001b[0m\n\u001b[1;33m    t_calc =\u001b[0m\n\u001b[1;37m             ^\u001b[0m\n\u001b[1;31mSyntaxError\u001b[0m\u001b[1;31m:\u001b[0m invalid syntax\n"
     ]
    }
   ],
   "source": [
    "# Here, add equations for the correct t test and the correct degrees of freedom calculations\n",
    "# Note that there must be a colon at the end of the if statement!\n",
    "\n",
    "if F_calc < F_crit:\n",
    "    t_calc = \n",
    "    dof = \n",
    "    print (\"Standard deviations are not significantly different\")\n",
    "    \n",
    "#\n",
    "if F_calc > F_crit:\n",
    "    t_calc = \n",
    "    dof = \n",
    "    print (\"Standard deviations are significantly different\")\n",
    "\n",
    "\n"
   ]
  },
  {
   "cell_type": "markdown",
   "metadata": {},
   "source": [
    "## Using the t-test to make a decision\n",
    "Now we have another decision to make, using that t_calc. If t_calc is greater thant t_critical, the means are not the same, and therefore the two indicators are NOT producing the same answer. We would not want to combine those data sets, or use those two indicators interchangably.\n",
    "\n",
    "\n",
    "To make this decisions, again, we'll use scipy to pull the right critical value. Then write your own if else statement to print out a statement about whether the two data sets have similar means or different means"
   ]
  },
  {
   "cell_type": "code",
   "execution_count": 8,
   "metadata": {},
   "outputs": [
    {
     "ename": "NameError",
     "evalue": "name 'dof' is not defined",
     "output_type": "error",
     "traceback": [
      "\u001b[1;31m---------------------------------------------------------------------------\u001b[0m",
      "\u001b[1;31mNameError\u001b[0m                                 Traceback (most recent call last)",
      "\u001b[1;32m<ipython-input-8-2d4c93e06f4b>\u001b[0m in \u001b[0;36m<module>\u001b[1;34m()\u001b[0m\n\u001b[0;32m      1\u001b[0m \u001b[1;31m# Again, add comments to explain what the inputs for this function are!\u001b[0m\u001b[1;33m\u001b[0m\u001b[1;33m\u001b[0m\u001b[0m\n\u001b[0;32m      2\u001b[0m \u001b[1;33m\u001b[0m\u001b[0m\n\u001b[1;32m----> 3\u001b[1;33m \u001b[0mt_crit\u001b[0m \u001b[1;33m=\u001b[0m \u001b[0mstats\u001b[0m\u001b[1;33m.\u001b[0m\u001b[0mt\u001b[0m\u001b[1;33m.\u001b[0m\u001b[0mppf\u001b[0m\u001b[1;33m(\u001b[0m\u001b[1;36m1.0\u001b[0m \u001b[1;33m-\u001b[0m \u001b[1;36m0.05\u001b[0m\u001b[1;33m,\u001b[0m \u001b[0mdof\u001b[0m\u001b[1;33m)\u001b[0m\u001b[1;33m\u001b[0m\u001b[0m\n\u001b[0m\u001b[0;32m      4\u001b[0m \u001b[1;33m\u001b[0m\u001b[0m\n\u001b[0;32m      5\u001b[0m \u001b[1;31m# add your if-else statement to make your final decision!\u001b[0m\u001b[1;33m\u001b[0m\u001b[1;33m\u001b[0m\u001b[0m\n",
      "\u001b[1;31mNameError\u001b[0m: name 'dof' is not defined"
     ]
    }
   ],
   "source": [
    "# Again, add comments to explain what the inputs for this function are!\n",
    "\n",
    "t_crit = stats.t.ppf(1.0 - 0.05, dof)\n",
    "\n",
    "# add your if-then statements to make your final decision!\n",
    "\n",
    "if t_calc < t_crit:\n",
    "    print(\"\")\n",
    "    \n",
    "if t_calc > t_crit:\n",
    "    print(\"\")"
   ]
  },
  {
   "cell_type": "markdown",
   "metadata": {},
   "source": [
    "Repeat this process for as many indicators as you'd like to compare! "
   ]
  },
  {
   "cell_type": "code",
   "execution_count": null,
   "metadata": {},
   "outputs": [],
   "source": []
  }
 ],
 "metadata": {
  "kernelspec": {
   "display_name": "Python 3",
   "language": "python",
   "name": "python3"
  },
  "language_info": {
   "codemirror_mode": {
    "name": "ipython",
    "version": 3
   },
   "file_extension": ".py",
   "mimetype": "text/x-python",
   "name": "python",
   "nbconvert_exporter": "python",
   "pygments_lexer": "ipython3",
   "version": "3.7.0"
  }
 },
 "nbformat": 4,
 "nbformat_minor": 2
}
