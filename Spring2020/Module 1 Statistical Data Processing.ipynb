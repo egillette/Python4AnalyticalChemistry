{
 "cells": [
  {
   "cell_type": "markdown",
   "metadata": {},
   "source": [
    "# Experiment 1 Data Processing\n",
    "\n",
    "In Expt. 1 we're going to use Python to calculate some basic descriptive statisics, which will help you determine whether you and your classmates were working with different NaCl standards.  (In a future lab, you'll learn to use Python to graph an external calibration curve, solve for unknown concentrations, and analyze the error involved in this process.)\n",
    "\n",
    "At first, some of this Python code is going to look like greek to you!  However, look it over carefully, and try to follow the logic, but don't get too bogged down in the details.  As you learn to code in Python during the semester, you will eventually clearly understand everything you are seeing here!  For now, let's just take a look at what Python can do!\n",
    "\n",
    "## Average, Standard Deviation and Confidence Interval:"
   ]
  },
  {
   "cell_type": "code",
   "execution_count": 5,
   "metadata": {},
   "outputs": [],
   "source": [
    "# A data array is a single variable that holds a list of numbers (or other types of data).  \n",
    "# Let's start by pooling the unknown density data from your bench into one data array we'll call \"NaCl_unk\".\n",
    "# Go ahead and replace the 1's and 2's below with real density data measured for your unknown:\n",
    "NaCl_unk=[1,2,1,2,1]\n",
    "\n",
    "# Now, find the average and the standard deviation for NaCl_unk by running the code in this code block.\n",
    "# (Feel free to copy and paste these code blocks to wherever you need them,\n",
    "# but be careful to update anything you might need to change!) \n",
    "\n",
    "# Import and then use statistical function package \"scipy.stats\"\n",
    "import scipy.stats as stats\n",
    "average_NaCl = stats.tmean(NaCl_unk)\n",
    "s_NaCl = stats.tstd(NaCl_unk)\n",
    "\n",
    "# Output results\n",
    "print (\"the average density is \" + str(average_NaCl) + \" +/- \" + str(s_NaCl) + \" g/mL3\")"
   ]
  },
  {
   "cell_type": "markdown",
   "metadata": {},
   "source": [
    "<b> Whoa, thats a lot of digits! </b> That can't possibly be the right number of significant digits, right? Remember that the computer only knows how to do what you tell it to do.  So if you don't tell it to round to a certain number of digits, it will just give you everything it has stored.  (Apparently, it calculated your standard deviation to 16 digits after the decimal.)  So let's figure out how to round those numbers to something a little more reasonable.\n",
    "\n",
    "### The New Rules For Sig. Figs:\n",
    "\n",
    "1. Round your measured value to the first significant digit of the uncertainty attached to it (standard deviation, confidence interval, tolerance, etc.)\n",
    "2. Uncertainty values should have only <b> one </b> sig. fig, unless they start with a 1, in which case you may keep one additional digit.\n",
    "\n",
    "So what place should we round your average density off to?\n",
    "\n"
   ]
  },
  {
   "cell_type": "code",
   "execution_count": 4,
   "metadata": {},
   "outputs": [],
   "source": [
    "# Rounding numbers\n",
    "# Try out different values of i until you get an output that looks right!\n",
    "i = 5\n",
    "s_NaCl_out = round(s_NaCl,i)\n",
    "average_NaCl_out = round(average_NaCl,i)\n",
    "\n",
    "print (\"the average density is \" + str(average_NaCl_out) + \" +/- \" + str(s_NaCl_out) + \" g/mL3\")"
   ]
  },
  {
   "cell_type": "markdown",
   "metadata": {},
   "source": [
    "Be sure to report the correct average and standard deviation to the correct number of sig figs in your lab notebook!"
   ]
  },
  {
   "cell_type": "markdown",
   "metadata": {},
   "source": [
    "### How to calculate a confidence interval\n",
    "\n",
    "The equation for confidence interval is  $ CI= {\\frac {ts}{\\sqrt {n}}} $.  We can get n from the length of the array (using the <b>len()</b> function), and you already calculated s! So now we just need t. Luckily, Python has those t-tables built in, so we just have to tell it which one we need! See the code below, and then alter it to give you the correct sig figs:"
   ]
  },
  {
   "cell_type": "code",
   "execution_count": 6,
   "metadata": {},
   "outputs": [],
   "source": [
    "import math\n",
    "\n",
    "# To look up t-critical using the stats.t.ppf function, the first input is confidence %, currently set to 95%; \n",
    "# the second input (after the comma) is degrees of freedom (n-1)\n",
    "t = stats.t.ppf(0.95, len(NaCl_unk)-1)\n",
    "\n",
    "# Calculate the confidence interval\n",
    "CI_NaCl = s_NaCl*t/math.sqrt(len(NaCl_unk))\n",
    "\n",
    "# Output results\n",
    "print (\"the average density is \" + str(average_NaCl) + \" +/- \" + str(CI_NaCl) + \"g/mL3\")"
   ]
  },
  {
   "cell_type": "markdown",
   "metadata": {},
   "source": [
    "This code was written for a 95% confidence interval. Try it out for 90% and 75% confidence intervals, too! Record all three values in your lab notebook, and be sure to explain the trend!"
   ]
  },
  {
   "cell_type": "markdown",
   "metadata": {},
   "source": [
    "##  The Grubbs test or how to discard outliers\n",
    "Now you have the average, standard deviation, and confidence interval of your data. Do you think there might be any outliers? Are there any values which seem really far away from your mean, and which you think might be the result of a systematic error (the empty flask was still wet) or a mistake, rather than just random variation?\n",
    "\n",
    "We can't just go throwing out data points because we don't like them. But we can try the statistical test to see how likely it is that the data point we're suspicious about came from our (randomly varying) data set, rather than an error.  This test is a called a <b> Grubb's test </b>, and it should be familiar to you from General Chemistry Lab.\n",
    "\n",
    "First, we must calculate a G value for our data, using our average ($ {\\bar  {x}} $ ), our standard deviation (s) and our most likely ourlier ( $ x_{i} $ ). We will plug those values into the following equation: $ G={\\frac {\\left\\vert x_{i}-{\\bar  {x}}\\right\\vert }{s}} $\n",
    "\n",
    "We then must compare our G value to a 'G critical' value, which we must look up in a table. Our null hypothesis is that our calculated G value will be less than the 'G critical' value, and that our value is NOT an outlier. Only if our calculated G value is greater than a G critical value, can we discard that value as an outlier.\n",
    "\n",
    "<b> Before you continue, answer the following questions </b>\n",
    "1. Look at your water density data and pick the most likely outlier. Explain why you think it is the most likely outlier.\n",
    "\n",
    "\n",
    "2. Calculate G for your suspected outlier. \n",
    "\n",
    "\n",
    "3. Look up G critical, and compare it to your calculated G. Is this value an outlier that should be rejected, or not?"
   ]
  },
  {
   "cell_type": "markdown",
   "metadata": {},
   "source": [
    "### Programming the Grubbs test with Python\n",
    "\n",
    "We can write programs which make decisions for us, if we can correctly communicate the criteria of the decision. This turns out to be great for statical tests like the Grubbs test. But, to do this, we typically have to structure the descision in the form of an \"if-then statement\". For example, \"if G calculated is greater than G critical, then the data point is an outlier, and can be discarded.\"  Use the following code as a starting point to re-do the Grubbs test.  Do you get the same result as when you did it by hand?"
   ]
  },
  {
   "cell_type": "code",
   "execution_count": 13,
   "metadata": {},
   "outputs": [
    {
     "name": "stdout",
     "output_type": "stream",
     "text": [
      "3 is an outlier and should be removed from the data.\n"
     ]
    }
   ],
   "source": [
    "# Python doesn't happen to have an easy look-up for the Grubb's critical values, \n",
    "# so just enter the one you looked up as G_crit:\n",
    "G_crit = \n",
    "# Note: This G_crit value is for ? observations.\n",
    "\n",
    "# enter your suspect value here\n",
    "suspect = \n",
    "\n",
    "G_calc = abs(suspect - average_NaCl)/s_NaCl\n",
    "\n",
    "if G_calc < G_crit:\n",
    "    print (str(suspect) + \" is not an outlier.\")\n",
    "if G_calc > G_crit:\n",
    "    print (str(suspect) + \" is an outlier and should be removed from the data.\")\n"
   ]
  },
  {
   "cell_type": "markdown",
   "metadata": {},
   "source": [
    "Again, be sure to include this result in your ELN, with an explanation of what you've done here! If you need to remove an outlier, do so now, and be sure to recalculate your average, standard deviation and confidence interval without it, by modifying the inputs in the 1st Python code block on this page, then re-running each subsequent code block!\n",
    "\n",
    "\n",
    "# Determining the unknown concentration\n",
    "Now we've done some desciriptive statistics on the density of your unknown, but we don't yet have any idea what the unknown concentraion is. But we have all of those lovely standard solutions, with known concentrations, and we know their densities!\n",
    "\n",
    "## Making a graph:\n",
    "In the following code block, put your own data into the concentration and density arrays, including the correct number of sig. figs. for both density and concentration, then run the code:"
   ]
  },
  {
   "cell_type": "code",
   "execution_count": 3,
   "metadata": {
    "scrolled": true
   },
   "outputs": [
    {
     "data": {
      "text/plain": [
       "Text(0, 0.5, 'other numbers (unit mcunitface)')"
      ]
     },
     "execution_count": 3,
     "metadata": {},
     "output_type": "execute_result"
    },
    {
     "data": {
      "image/png": "[encoded data removed]",
      "text/plain": [
       "<Figure size 432x288 with 1 Axes>"
      ]
     },
     "metadata": {
      "needs_background": "light"
     },
     "output_type": "display_data"
    }
   ],
   "source": [
    "import matplotlib.pyplot as plt\n",
    "\n",
    "\n",
    "# sample data, replace with your own data please!\n",
    "\n",
    "concentration = [0, 1, 2, 3, 4]\n",
    "density = [1.1,1.9,2.8,4.3,5]\n",
    "\n",
    "\n",
    "\n",
    "# put together a graph using the plot command\n",
    "# in 'plot', first comes the x axis, then the y, then 'ro' plots our points as red circles. \n",
    "fig, plot1 = plt.subplots()\n",
    "plot1.plot(concentration, density, 'ro')\n",
    "\n",
    "# Add labels on the x and y axis, always including units.\n",
    "plot1.set_xlabel(\"some numbers (unity units)\")\n",
    "plot1.set_ylabel(\"other numbers (unit mcunitface)\")\n",
    "\n",
    "\n",
    "#This command shows the figure in the script here. Later we will discuss how to export this plot as an image file,\n",
    "#which can be imported into your ELN.  For now, though, lets just take a look!\n",
    "#plot1.show()\n",
    "#hit run on this block of code!\n"
   ]
  },
  {
   "cell_type": "markdown",
   "metadata": {},
   "source": [
    "Now you should see a figure above with red dots making the data points, along with some very unhelpful axis labels. \n",
    "\n",
    "1. In the code block, update the axis labels to something that is actually properly descriptive for your data\n",
    "\n",
    "2. In the plt.plot command, change 'ro' to 'bs'.\n",
    "\n",
    "3. Hit RUN again to rerun this code now that you have updated it.\n",
    "\n",
    "You should now have a plot of your real data, with useful axis labels letting you know that density is on the y axis, and concentration is on the x axis. Hopefully, your data looks fairly linear! If the graph looks very bad, check that the data was entered into the two arrays correctly (and in matching order).\n",
    "\n",
    "The next thing you need to do is to export that plot so you can put it in your lab notebook! You have a few choices; you can take a screenshot and paste the image into Lab Archives, or you use Python's built in export tool. Copy the following line of code into the block above, and re-run the block\n",
    "\n",
    "fig.savefig(\"myfirstpythonfigure.png\")\n",
    "\n",
    "\n",
    "A figure called \"myfirstpythonfigure\" should now be in the same folder you saved this Jupyter notebook in! You can upload it to your lab notebook as an attachment, as usual."
   ]
  },
  {
   "cell_type": "markdown",
   "metadata": {},
   "source": [
    "## Finding the equation of the line:\n",
    "\n",
    "Now we'll do something called a linear regression (we'll get into more detail on this later in the course) to figure out the slope and intercept of a straight line that seems to fit your data:"
   ]
  },
  {
   "cell_type": "code",
   "execution_count": 60,
   "metadata": {},
   "outputs": [
    {
     "name": "stdout",
     "output_type": "stream",
     "text": [
      "the equation of the line is y = 1.02x + 0.98 and its R-squared value is 0.9931506043228762\n"
     ]
    }
   ],
   "source": [
    "\n",
    "# the linear regression function in the scipy stats module returns 5 values: slope, intercept, R-squared and then two uncertainty values p and s_m\n",
    "# we'll ignore the last two for the moment, since all we really need right now is the equation of the line\n",
    "\n",
    "m, b, R2, p, s_m = stats.linregress(concentration, density)\n",
    "\n",
    "print ('The equation of the line is y = ' + str(m) + 'x + ' + str(b) + ' and its R-squared value is '+ str(R2))"
   ]
  },
  {
   "cell_type": "markdown",
   "metadata": {},
   "source": [
    "Using the equation just output by the code block above, calculate your unknown concentration by hand first. Then complete the code below to calculate the unknown concentration. Make sure your hand-written calculation and your python code are producing the same result!"
   ]
  },
  {
   "cell_type": "code",
   "execution_count": 61,
   "metadata": {},
   "outputs": [
    {
     "name": "stdout",
     "output_type": "stream",
     "text": [
      "the concentration of the unknown is 0.41176470588235287 M\n"
     ]
    }
   ],
   "source": [
    "#Add the i.d. of your unknown here:\n",
    "\n",
    " \n",
    "\n",
    "# now using m, b and unknown_density, we solve for unknown_concentration (\"x\")\n",
    "unknown_concentration = (average_NaCl - b)/m\n",
    "\n",
    "print ('the concentration of the unknown is ' + str(unknown_concentration) + ' M')\n",
    "\n",
    "#do your values match? If not, check your math!"
   ]
  },
  {
   "cell_type": "markdown",
   "metadata": {},
   "source": [
    "Later on in this course, you'll learn how to determine the uncertainty in this result.  For now, record this value in your ELN to the number of sig figs determined by your standard deviation and confidence intervals earlier. Don't forget to add a conclusion to your ELN page!\n",
    "\n",
    "Now you have a fully operational python program for calculaing averages, standard deviations and confidence intervals, and for using an external calibration curve to determine the concentration of an unknown.\n",
    "\n",
    "You can reuse any of this code in later labs, whenever you need to repeat any of these functions! This is the real beauty of a programming language like Python; keep copies of all of your completed Jupyter notebooks, and copy-paste the code anytime you want to reuse something!\n"
   ]
  },
  {
   "cell_type": "code",
   "execution_count": null,
   "metadata": {},
   "outputs": [],
   "source": []
  }
 ],
 "metadata": {
  "kernelspec": {
   "display_name": "Python 3",
   "language": "python",
   "name": "python3"
  },
  "language_info": {
   "codemirror_mode": {
    "name": "ipython",
    "version": 3
   },
   "file_extension": ".py",
   "mimetype": "text/x-python",
   "name": "python",
   "nbconvert_exporter": "python",
   "pygments_lexer": "ipython3",
   "version": "3.8.3"
  }
 },
 "nbformat": 4,
 "nbformat_minor": 2
}
