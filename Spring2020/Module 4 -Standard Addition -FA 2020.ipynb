{
 "cells": [
  {
   "cell_type": "markdown",
   "metadata": {},
   "source": [
    "# Standard Addition \n",
    "Here is a framework for thinking about standard addition. Use the experimental data from Module 4 (in Blackboard and now your ELN) in this exercise.\n",
    "\n",
    "First, we'll call in the math, stats, numpy, and plotting packages we'll need, as usual.  Then, you can define all of the variables you'll need, including all of your x and y data as lists.  The code below is provided assuming that you've already done the dilution calculations to determine what concentration of Cu was added at each step of the standard additions experiments."
   ]
  },
  {
   "cell_type": "code",
   "execution_count": 3,
   "metadata": {},
   "outputs": [],
   "source": [
    "import math\n",
    "import matplotlib.pyplot as plt\n",
    "import numpy as np\n",
    "import scipy.stats as stats\n",
    "\n",
    "\n",
    "# Enter all of the data you need for a standard addition curve into the following 3 numpy arrays. \n",
    "# Use the values recorded from module 4!\n",
    "\n",
    "# Concentrations of Cu (in ppm) at each step\n",
    "concentration = np.array([])\n",
    "\n",
    "# peak current data (in microamperes) for tap water experiment\n",
    "current_tap = np.array([])   \n",
    "\n",
    "# peak current data (in microamperes) for deionized water experiment\n",
    "current_di = np.array([])   "
   ]
  },
  {
   "cell_type": "markdown",
   "metadata": {},
   "source": [
    "## Tap water\n",
    "Now you can copy your plotting, linear least squares line fitting, $s_y$ calculating, and $s_x$ calculating code into the following blocks:"
   ]
  },
  {
   "cell_type": "code",
   "execution_count": null,
   "metadata": {},
   "outputs": [],
   "source": [
    "# plot the data ... be sure to update the x and y variable names in your code!\n"
   ]
  },
  {
   "cell_type": "markdown",
   "metadata": {},
   "source": [
    "Get the equation of the line, the same way we did in PythonLab 2 last week. (be sure to update the x and y variables with your own variable names!)"
   ]
  },
  {
   "cell_type": "code",
   "execution_count": null,
   "metadata": {},
   "outputs": [],
   "source": [
    "# Get the equation of the line with the stats.linregress function.  We will use all the outputs except p.\n"
   ]
  },
  {
   "cell_type": "markdown",
   "metadata": {},
   "source": [
    "To solve for the unknown in the standard addition solution, we need to solve for the x-intercept. The absolute value of the x intercept gives us the unknown concentration in the 10.2 mL sample mixture (which of course has been slightly diluted from the original water sample by the small volumes of KCl and $HNO_{3}$ that we added). Note that the x-intercept is just the point on a line where y = 0. Write out how you would solve for x in that situation before you try to write your code."
   ]
  },
  {
   "cell_type": "code",
   "execution_count": null,
   "metadata": {},
   "outputs": [],
   "source": [
    "# Code to find the x-intercept\n",
    "\n",
    "\n",
    "# Classy print statement"
   ]
  },
  {
   "cell_type": "markdown",
   "metadata": {},
   "source": [
    "Next up:  calculate $s_{y}$ and $s_{x}$.\n",
    "\n",
    "The standard error in the x-intercept ($s_{x}$) is very similar to the standard error in x that you get when plugging other y-values into a linear regression and solving for x, but with two changes to the equation.  As discussed at the start of lab today, since for the x-intercept y = 0 by definition (without having to measure it), there is no associated error with setting y = 0, and so the term which accounts for the number of replicate measurements of the unknown (to get a value for y) is removed.  Second, since y = 0, the term $(y - ybar)^{2}$ becomes simply $ybar^{2}$.   \n",
    "\n",
    "The revised equation is shown here: \n",
    "\n",
    "$$ s_{x}= \\frac{s_{y}}{\\mid{m}\\mid}{\\sqrt {\\frac {1}{n} + \\frac {\\bar{y}^{2}}{m^{2}\\sum (x-\\bar{x})^{2}}}} $$\n",
    "\n",
    "You should be able to make some slight modifications to the code you already have for your linear regressions to make this calculation.\n",
    "\n",
    "\n",
    "We would also like to determine the least amount of copper that we could reliably detect in an ASV experiment under the conditions we used -- the detection limit (DL).  For a standards addition experiment, the detection limit can best be calculated using the equation \n",
    "$$ DL = \\frac{3s_{y}}{m} $$"
   ]
  },
  {
   "cell_type": "code",
   "execution_count": 1,
   "metadata": {},
   "outputs": [],
   "source": [
    "# In this block, which will be a large one, calculate Sy, the concentration of copper in the tap water sample, \n",
    "# the standard error in this value (Sx), and the detection limit for copper.  Add comments to explain what the \n",
    "# code is doing and classy print statements to output the important results\n",
    "\n",
    "# Sy calculation\n",
    "\n",
    "\n",
    "# Concentration of copper in tap water sample mixture\n",
    "\n",
    "\n",
    "# standard error in x-intercept (Sx)\n",
    "\n",
    "\n",
    "# detection limit for copper"
   ]
  },
  {
   "cell_type": "markdown",
   "metadata": {},
   "source": [
    "Now let's make a graph that includes the best fit line, by pasting in code from PythonLab 2.  Set y error bars equal to $s_{y}$.  Be sure to include appropriate axis labels."
   ]
  },
  {
   "cell_type": "code",
   "execution_count": null,
   "metadata": {},
   "outputs": [],
   "source": [
    "# Add code here for plotting data and best fit line.  \n",
    "\n",
    "\n",
    "\n",
    "\n",
    "\n",
    "# plt.errorbar(concentration, current_tap, yerr=s_y)\n",
    "\n",
    "\n"
   ]
  },
  {
   "cell_type": "markdown",
   "metadata": {},
   "source": [
    "If things went well, the error bars should be just big enough to touch the least squares fit, more or less.\n",
    "\n",
    "Finally, let's correct your results to account for the slight dilution that took place when you added KCl and HNO3 to the water sample, using $C_{1}V_{1} = C_{2}V_{2}$.  Propagate the $s_x$ error term through this calculation, too, so that it is also corrected for dilution."
   ]
  },
  {
   "cell_type": "code",
   "execution_count": null,
   "metadata": {},
   "outputs": [],
   "source": [
    "# Correction and error propagation for the slight dilution, getting back to [Cu] in the original undiluted tap \n",
    "# water sample.\n",
    "\n"
   ]
  },
  {
   "cell_type": "markdown",
   "metadata": {},
   "source": [
    "OK, you've finished the analysis of the tap water sample.  **Nice work!**  Record these values in your ELN and upload the summary graph.\n",
    "\n",
    "## Deionized water\n",
    "Finally, repeat the analysis for the DI water sample by adding in more code blocks below, and cut/paste code from above.  The concentration data (x-values) was the same for both experiments, so that simplifies things!"
   ]
  },
  {
   "cell_type": "code",
   "execution_count": null,
   "metadata": {},
   "outputs": [],
   "source": []
  }
 ],
 "metadata": {
  "kernelspec": {
   "display_name": "Python 3",
   "language": "python",
   "name": "python3"
  },
  "language_info": {
   "codemirror_mode": {
    "name": "ipython",
    "version": 3
   },
   "file_extension": ".py",
   "mimetype": "text/x-python",
   "name": "python",
   "nbconvert_exporter": "python",
   "pygments_lexer": "ipython3",
   "version": "3.7.0"
  }
 },
 "nbformat": 4,
 "nbformat_minor": 2
}
