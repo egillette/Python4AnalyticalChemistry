{
 "cells": [
  {
   "cell_type": "markdown",
   "metadata": {},
   "source": [
    "# Acid Base Titration\n",
    "\n",
    "Here we're going to consider calculating the pH during the titration of a weak acid with a strong base. We'll start with values from problem 11-B in the textbook: \n",
    "We'll do calculations for titrating a 50 mL solution of 0.05 M formic acid with 0.05 M KOH, and we'll make Python calculate the pH for a LOT of different volumes of added base.\n",
    "\n",
    "### Use your work on Exercise 11-B as a guide (and note the answers to 11-B are in the back of the book!)\n",
    "\n",
    "\n",
    "## Outlining your strategy\n",
    "<b>Brainstorm a strategy for your calculation in your ELN</b> if you haven't already done so.  You should be able to break this calculation down into four distinct regions where you solve for pH using different strategies. Write out in words what those regions are, and try to formulate an if-then statement that will help you decide which region you are in and what pH calculation to make in that region:\n",
    "\n",
    "    Region 1:\n",
    "    \n",
    "    Region 2:\n",
    "    \n",
    "    Region 3:\n",
    "    \n",
    "    Region 4:\n",
    "\n",
    "\n",
    "Once you have shared your plan for all four regions with Dr. D, start transforming your strategy into Python code.  As you develop your code, it is best to test it out one IF statement section at a time. You can do this by cutting and pasting code into the empty code block below for testing. Once all four IF statements are working, then try running the entire thing!  Alternatively, you could complete all the if statements, then comment out the pH.append statements of the sections you haven't yet completed.\n",
    "\n"
   ]
  },
  {
   "cell_type": "code",
   "execution_count": null,
   "metadata": {},
   "outputs": [],
   "source": [
    "# Start with importing the packages you'll need, and fill in some constants that you'll want to use in your calcs:\n",
    "import math\n",
    "\n",
    "pKa = \n",
    "\n",
    "# Initial concentration of formic acid in M\n",
    "HA_initialC = \n",
    "\n",
    "# Concentratin of OH being added in M\n",
    "OH_initialC = \n",
    "\n",
    "# Add any other variables here you think you might need in multiple places in your calcuation.  State the units:\n",
    "\n",
    "# Weak acid volume, in mL\n",
    "HA_vol = 50\n",
    "\n",
    "# The array 'V-b' will have all of the volumes of base for which you need to calculate pH (units still mL).\n",
    "# We'll start out with the same list as in Exercise 11-B, but you will expand this list later!\n",
    "V_b = [0,10,20,25,30,40,45,48,49,49.5,50,50.5,51,52,55,60]\n",
    "\n",
    "# then we will make an empty array where Python will put the pH values it calculates. DONT CHANGE THIS LINE OF CODE!\n",
    "pH = []\n",
    "\n",
    "# Have Python calculate the mL of base at the equivalence point to set up your if-then conditions:\n",
    "# It is best if you do it with the variables you've already defined (rather than just typing in a number).\n",
    "eq_vol = \n",
    "\n",
    "\n",
    "# We need to step through each volume in the V_b array to make a calculation, so we will use a FOR loop, set up to\n",
    "# repeat once for each element in the V_b array.  Then, we will nest IF statements inside the FOR loop to pick\n",
    "# the correct calculation to do at each point, depending on which of the 4 regions of the titration we are in. \n",
    "\n",
    "# \"Run the indented code below the FOR statement a number of times equal to the length of the V_b array.\"  \n",
    "# Fhe variable 'i' is the index, which counts how many times the loop has run.  The first time through, i = 0. \n",
    "# The second time through the FOR loop, i = 1, and so on.\n",
    "for i in range(len(V_b)):\n",
    "    \n",
    "# Here is the first of your possible IF conditions, where no base has been added. Read this carefully and make sure \n",
    "# you understand how it works (both for calculating the pH and for adding the calculated pH to your empty pH array). \n",
    "# Add comments to explain what you see here\n",
    "\n",
    "    if V_b[i] == 0:\n",
    "        # first, convert pKa to Ka. What does ** represent in this calculation?\n",
    "        Ka = 10**-pKa\n",
    "        # Recall that the quadratic equation we get from an ICE table always takes the same format: x2+Kax-KaC. \n",
    "        # First we'll define variables for a, b and c in our quadratic equation\n",
    "        # Since the computer is doing the work, we'll always use the quadratic equation to solve weak acid problems.\n",
    "        a = 1.0\n",
    "        b= Ka\n",
    "        c=-Ka*HA_initialC\n",
    "        #then, solve the quadratic equation\n",
    "        H3O_initial = (-b + math.sqrt((b**2)-(4*a*c)))/(2*a)\n",
    "        #calculate the pH. Use a pH_temp variable here so you don't overwrite any previous work saved in the pH array\n",
    "        pH_temp = -math.log10(H3O_initial)\n",
    "    \n",
    "        # then we'll add your calculated pH_temp to the end of the pH array, \n",
    "        pH.append (pH_temp)\n",
    "         \n",
    "    #now, add the next three conditions to finish all of the pH calculations\n",
    "    if V_b[i] > 0 and V_b[i]  : #finish this expression!  Note that IF statements must end with the colon.\n",
    "        #now write out the math to solve for pH_temp under this condition\n",
    "        \n",
    "\n",
    "        #then we'll finish this condition by adding your pH value to the array 'pH'\n",
    "        pH.append (pH_temp)\n",
    "        \n",
    "    if V_b[i] ==  : #finish this expression\n",
    "        # now write out code to find the concentration of the conjugate weak base present\n",
    "        \n",
    "        \n",
    "        # Then, write (or paste in) code to calculate pH_temp by the proper method.  \n",
    "        \n",
    "        \n",
    "        # Last, append your calculated pH value to the pH array\n",
    " \n",
    "\n",
    "    if V_b[i] > eq_vol: #finish this expression\n",
    "        # now write out the math to solve for concentration and pH_temp under this condition\n",
    "\n",
    "        # and append your calculated pH value to the pH array\n",
    "        \n",
    "# Check you work by outputting the answers! Note that all the IF statements are inside the FOR loop, \n",
    "# but this print statement is not indented, so it is not part of the FOR loop.  The print statement will only \n",
    "# run once, after the whole loop runs the specified number of times.\n",
    "print (pH)"
   ]
  },
  {
   "cell_type": "markdown",
   "metadata": {},
   "source": [
    "Extra code block for testing out IF statement sections one at a time:"
   ]
  },
  {
   "cell_type": "code",
   "execution_count": 3,
   "metadata": {},
   "outputs": [
    {
     "name": "stdout",
     "output_type": "stream",
     "text": [
      "[2.5384630659757]\n"
     ]
    }
   ],
   "source": [
    "# Start with importing the packages you'll need, and fill in some constants that you'll want to use in your calcs:\n",
    "import math\n",
    "\n",
    "pKa = \n",
    "\n",
    "# Initial concentration of formic acid in M\n",
    "HA_initialC = \n",
    "# Concentratin of OH being added in M\n",
    "OH_initialC = \n",
    "\n",
    "# Add any other variables here you think you might need in multiple places in your calcuation.  State the units:\n",
    "\n",
    "# Weak acid volume, in mL\n",
    "HA_vol = \n",
    "\n",
    "# The array 'V-b' will have all of the volumes of base for which you need to calculate pH (units still mL).\n",
    "# We'll start out with the same list as in Exercise 11-B, but you will expand this list later!\n",
    "V_b = [0,10,20,25,30,40,45,48,49,49.5,50,50.5,51,52,55,60]\n",
    "\n",
    "# then we will make an empty array where Python will put the pH values it calculates. DONT CHANGE THIS LINE OF CODE!\n",
    "pH = []\n",
    "\n",
    "# Have Python calculate the mL of base at the equivalence point to set up your if-then conditions:\n",
    "# It is best if you do it with the variables you've already defined (rather than just typing in a number).\n",
    "eq_vol = \n",
    "\n",
    "\n",
    "for i in range(len(V_b)):\n",
    "    if    :"
   ]
  },
  {
   "cell_type": "markdown",
   "metadata": {},
   "source": [
    "Your output should be 16 pH values printed out, and these pH's should be the same is in the pre-lab assignment (and the back of the book), but with more sig figs!  If this is not the case, you will need to do some troubleshooting / debugging of your code.  One convenient way to do this is by comparing your code with that written by other students in your group!\n",
    "\n",
    "Once your coding is successful and you have a correct array of pH values that corresponds to the array of base volumes added, it would be nice to plot the curve and make sure it looks like a normal acid-base titration curve!  Run the following code -- you will likely have to hit run 2x before you see the graph."
   ]
  },
  {
   "cell_type": "code",
   "execution_count": null,
   "metadata": {},
   "outputs": [],
   "source": [
    "# importing the plotting package as plt just gives us a shorter name to use when we call the plotting functions\n",
    "import matplotlib.pyplot as plt\n",
    "\n",
    "# x values go first, then y values, then optional color and symbol instructions.  r = red, - = line\n",
    "plt.plot(V_b,pH, 'cs')\n",
    "\n",
    "# add axis labels (edit to include any missing information)\n",
    "plt.xlabel (\"volume KOH added\")\n",
    "plt.ylabel (\"pH\")\n",
    "\n",
    "# Save the resulting plot to the Chem 220 folder\n",
    "plt.savefig(\"TitrationCalcsGraph.png\")"
   ]
  },
  {
   "cell_type": "markdown",
   "metadata": {},
   "source": [
    "You should now have a correct titration curve here that matches your data from 11-B.  <b>Customize your graph</b> by changing the color from red to some other color (b, g, c, m, or k) and then change from a line to a symbol (+ o * . s ^ < or >).  Then, upload your customized graph to your ELN.\n",
    "\n",
    "At this point, it is easy to make Python do a bunch of extra calculations.  <b>Change the V_b array</b> so that pH will get calculated at least every 1 mL, and re-run.  (You may want to add even more volumes near the endpoint.)  Change the output name of the graph that you make, and upload it to your ELN for comparison.  Do the additional calculations (done at more points during the titration) improve the look of your output graph?  \n",
    "\n",
    "Are they any places where the output graph got worse when you added the extra calculations?  If so, why do you think this happened?\n",
    "\n",
    "\n",
    "\n",
    "\n",
    "\n",
    "Now, duplicate the above code blocks below, but change the input to <b>simulate one of your titrations</b> from the first week of module 2.  Note via comments in the code which weak acid you are using, and the concentrations of the two solutions involved.  Change the graph output file name and upload it to your ELN.\n",
    "\n",
    "Compare your output graphs for the two different weak acids you have worked on, and make some observations in the ELN about <i>what changed and what did not change</i> when you changed the pKa, the volume of the solution titrated, and the concentrations.  (If you want, you can try changing only one of these inputs at a time in order to determine the effects of each one on the output graph.)\n",
    "\n",
    "\n",
    "\n",
    "\n",
    "\n",
    "\n",
    "\n"
   ]
  },
  {
   "cell_type": "code",
   "execution_count": null,
   "metadata": {},
   "outputs": [],
   "source": [
    "# Code block for a titrating a different weak acid:\n"
   ]
  },
  {
   "cell_type": "code",
   "execution_count": null,
   "metadata": {},
   "outputs": [],
   "source": [
    "# Code block for graphing the titration data for a different weak acid:\n"
   ]
  },
  {
   "cell_type": "markdown",
   "metadata": {},
   "source": [
    "Once you've completed all the steps, run all the code blocks, and answered all the questions, then save this file, copy it, add your name to the title, and upload it to the ELN. \n",
    "\n",
    "Nice work!"
   ]
  },
  {
   "cell_type": "code",
   "execution_count": null,
   "metadata": {},
   "outputs": [],
   "source": []
  }
 ],
 "metadata": {
  "kernelspec": {
   "display_name": "Python 3",
   "language": "python",
   "name": "python3"
  },
  "language_info": {
   "codemirror_mode": {
    "name": "ipython",
    "version": 3
   },
   "file_extension": ".py",
   "mimetype": "text/x-python",
   "name": "python",
   "nbconvert_exporter": "python",
   "pygments_lexer": "ipython3",
   "version": "3.7.0"
  }
 },
 "nbformat": 4,
 "nbformat_minor": 2
}
