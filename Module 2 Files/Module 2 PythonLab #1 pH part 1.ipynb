{
 "cells": [
  {
   "cell_type": "markdown",
   "metadata": {},
   "source": [
    "# Acid Base Titration\n",
    "\n",
    "Here we're going to consider calculating the pH during the titration of a weak acid with a strong base. We'll start with values from problem 11-B in the textbook: \n",
    "We'll do calculations for titrating a 50 mL solution of 0.05 M formic acid with 0.05 M KOH, and we'll make Python calculate the pH for a LOT of different volumes of added base.\n",
    "\n",
    "### Use your work on Exercise 11-B as a guide (and note the answers to 11-B are in the back of the book!)\n",
    "\n",
    "\n",
    "## Outlining your strategy\n",
    "<b>Brainstorm a strategy for your calculation here.</b> You should be able to break this calculation down into four distinct regions where you solve for pH using different strategies. Write out in words what those regions are, and try to formulate an if-then statement that will help you decide which region you are in and what pH calculation to make in that region:\n",
    "\n",
    "    Region 1:\n",
    "    \n",
    "    Region 2:\n",
    "    \n",
    "    Region 3:\n",
    "    \n",
    "    Region 4:\n",
    "\n",
    "\n",
    "Only once you have a plan for all four regions, start working on the code:\n"
   ]
  },
  {
   "cell_type": "code",
   "execution_count": 2,
   "metadata": {},
   "outputs": [
    {
     "ename": "SyntaxError",
     "evalue": "invalid syntax (118958021.py, line 37)",
     "output_type": "error",
     "traceback": [
      "\u001b[1;36m  Input \u001b[1;32mIn [2]\u001b[1;36m\u001b[0m\n\u001b[1;33m    for count in range(len(V_b):\u001b[0m\n\u001b[1;37m                               ^\u001b[0m\n\u001b[1;31mSyntaxError\u001b[0m\u001b[1;31m:\u001b[0m invalid syntax\n"
     ]
    }
   ],
   "source": [
    "# Start with the import functions you know you need, and fill in some constants that you know you need\n",
    "import math\n",
    "\n",
    "pKa =\n",
    "\n",
    "# Initial concentration of formic acid in M\n",
    "HA_initialC = \n",
    "\n",
    "# Concentratin of OH being added in M\n",
    "OH_initialC = \n",
    "\n",
    "# volume of formic acid being titrated\n",
    "V_HA = \n",
    "\n",
    "# the array 'V-b' will have all of the volumes of base for which you need to calculate pH (units still mL)\n",
    "# we'll start out with the same list as in Exercise 11-B, but you will expand this list later!\n",
    "V_b = [0,10,20,25,30,40,45,48,49,49.5,50,50.5,51,52,55,60]\n",
    "\n",
    "# then we will make an empty array where Python will put the pH values it calculates. DONT CHANGE THIS LINE OF CODE!\n",
    "pH = []\n",
    "\n",
    "# Have Python calculate the volume of base at the equivalence point to set up your if-then conditions:\n",
    "# It is best if you do it with the variables you've already defined (rather than just typing in a number).\n",
    "eq_vol = \n",
    "\n",
    "\n",
    "# Add any other variables here you think you might need in multiple places in your calcuation:\n",
    "\n",
    "\n",
    "\n",
    "# Just like in our standard deviation calculation, we need to step through each point in an array to make a calculation, so we\n",
    "# use a WHILE loop. This is the only while loop you need in this problem: it will contain all of your possible if-then statements!\n",
    "\n",
    "\n",
    "\n",
    "\n",
    "for count in range(len(V_b)):\n",
    "    \n",
    "# Here is the first of your possible if-then conditions, where no base has been added. Read this carefully and make sure \n",
    "# you understand how it works (both for calculating the pH and for adding the calculated pH to your empty array) \n",
    "# Add comments to explain what you see here\n",
    "\n",
    "    if V_b[count] == 0:\n",
    "        # first, convert pKa to Ka. What does ** represent in this calculation?\n",
    "        Ka = 10**-pKa\n",
    "        # Recall that the quadratic equation we get from an ICE table always takes the same format: x2+Kax-KaC. \n",
    "        # First we'll define variables for a, b and c in our quadratic equation\n",
    "        # Do you always use the quadratic equation when you solve these problems? Why might we choose to do it this way now?\n",
    "        a = 1.0\n",
    "        b= Ka\n",
    "        c=-Ka*HA_initialC\n",
    "        #then, solve the quadratic equation\n",
    "        H3O_initial = (-b + math.sqrt((b**2)-(4*a*c)))/(2*a)\n",
    "        #calculate the pH. Use a pH_temp variable here so you don't overwrite any previous work saved in the pH array\n",
    "        pH_temp = -math.log10(H3O_initial)\n",
    "    \n",
    "    # then we'll add your calculated pH_temp to the end of the pH array, and advance the while loop counter\n",
    "    # so that the program will move on to the next number in the V_b array.\n",
    "        pH.append (pH_temp)\n",
    "        \n",
    "        \n",
    "    #now, add the next three conditions to finish all of the pH calculations\n",
    "    if V_b[count] > 0 and V_b[count]:#finish this expression!  Note that the if statement must end with the colon.\n",
    "        \n",
    "        #now write out the math to solve for pH_temp under this condition\n",
    "        \n",
    "        #then we'll finish this condition by adding your pH value to the array, and increasing the counter\n",
    "        pH.append (pH_temp)\n",
    "        \n",
    "        \n",
    "    if V_b[count] == :#finish this expression\n",
    "        #now write out the math to solve for pH_temp under this condition\n",
    "        \n",
    "        #then we'll finish this condition by adding your pH value to the array, and increasing the counter\n",
    "        pH.append (pH_temp)\n",
    "        \n",
    "    if V_b[count] > :#finish this expression\n",
    "        #now write out the math to solve for pH_temp under this condition\n",
    "        \n",
    "        #then we'll finish this condition by adding your pH value to the array and increasing the counter\n",
    "        pH.append (pH_temp)\n",
    "        \n",
    "        \n",
    "# Check you work by printing out the answers! Note that the this whole block is inside the while loop, so it will only run\n",
    "# once the whole thing is finished!\n",
    "print (pH)"
   ]
  },
  {
   "cell_type": "markdown",
   "metadata": {},
   "source": [
    "As you build the code block above, it is best to test it out one if statement at a time. You can do this by cutting and pasting code into the code block below for testing. Once all four if statements are working, then try running the entire thing! Alternatively, you could complete all the if statements, then comment out the pH.append statements of the sections you haven't yet completed.\n"
   ]
  },
  {
   "cell_type": "code",
   "execution_count": null,
   "metadata": {},
   "outputs": [],
   "source": []
  },
  {
   "cell_type": "markdown",
   "metadata": {},
   "source": [
    "Once your coding is successful and you have an array of pH and an array of base volumes added, it would be nice to plot the curve and make sure it looks like a normal acid base titration curve!  Run the following code -- you may have to hit run 2x before you see the graph."
   ]
  },
  {
   "cell_type": "code",
   "execution_count": null,
   "metadata": {},
   "outputs": [],
   "source": [
    "# importing the plotting package as plt just gives us a shorter name to use when we call the plotting functions\n",
    "import matplotlib.pyplot as plt\n",
    "\n",
    "# x values go first, then y values\n",
    "plt.plot(V_b,pH)\n",
    "\n",
    "# add axis labels (edit to include any missing information)\n",
    "plt.xlabel (\"volume KOH added\")\n",
    "plt.ylabel (\"pH\")\n"
   ]
  },
  {
   "cell_type": "markdown",
   "metadata": {},
   "source": [
    "Once you are finished, you should have a correct titration curve here that matches your data from 11-B.  At this point, it is easy to make Python do extra calculations.  Change the V_b array so that pH will get calculated at least every 1 mL, and re-run.  Does this improve the look of your output graph?  \n",
    "\n",
    "Are they any places where the output graph got worse?  If so, why do you think this is the case?\n",
    "\n",
    "\n",
    "\n",
    "\n",
    "\n",
    "Now, duplicate the above code blocks below, look up a different weak acid, and change the pKa. Note in the comments which weak acid you are using!\n",
    "\n",
    "Compare your output graphs for the two different wead acids you have worked on, and make some observations here about what changed and what did not change when you changed the pKa:\n",
    "\n",
    "\n",
    "\n",
    "\n",
    "\n",
    "\n",
    "\n"
   ]
  },
  {
   "cell_type": "code",
   "execution_count": null,
   "metadata": {},
   "outputs": [],
   "source": [
    "# Code block for a titrating a different weak acid:\n"
   ]
  },
  {
   "cell_type": "code",
   "execution_count": null,
   "metadata": {},
   "outputs": [],
   "source": [
    "# Code block for graphing the titration data for a different weak acid:\n"
   ]
  },
  {
   "cell_type": "markdown",
   "metadata": {},
   "source": [
    "Once you've completed all the steps, run all the code blocks, and answered all the questions, save this file with your name in the title and upload it to the ELN. \n",
    "\n",
    "While you are there, download the next Jupyter notebook file \"PythonLab #1 part 2 manipulating titration data\" and the raw datafile \"sample_titration.csv\", and move them both (without opening them) to your Chem 220 file.  Then, open up the Jupyter notebook file within Anaconda, give yourself a 10 min break, and then we'll get back to coding!\n"
   ]
  },
  {
   "cell_type": "code",
   "execution_count": null,
   "metadata": {},
   "outputs": [],
   "source": []
  }
 ],
 "metadata": {
  "kernelspec": {
   "display_name": "Python 3 (ipykernel)",
   "language": "python",
   "name": "python3"
  },
  "language_info": {
   "codemirror_mode": {
    "name": "ipython",
    "version": 3
   },
   "file_extension": ".py",
   "mimetype": "text/x-python",
   "name": "python",
   "nbconvert_exporter": "python",
   "pygments_lexer": "ipython3",
   "version": "3.9.12"
  }
 },
 "nbformat": 4,
 "nbformat_minor": 4
}
