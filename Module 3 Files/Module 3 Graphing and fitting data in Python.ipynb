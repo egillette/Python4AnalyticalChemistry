{
 "cells": [
  {
   "cell_type": "markdown",
   "metadata": {},
   "source": [
    "# Graphing and Fitting Data\n",
    "\n",
    "\n",
    "In order to determine the concentration of glucose in the soda and juice samples, we need to graph our data for the glucose standards.  (We will also determine whether the glucose oxidation enzyme reaction is 1st or 2nd order with respect to glucose.)  Rather than running to Excel, it's time to learn how to develop the code to do these tasks in Python!\n",
    "\n",
    "\n",
    "## Making a graph:\n",
    "In the following code block, since the number of data points is small, enter your own data manually into the concentration and density arrays.  Be sure to include at least the correct number of sig. figs. for both density and concentration.  Add code to calculate conc_squared, and to plot conc_squared vs density.  Then run the code:"
   ]
  },
  {
   "cell_type": "code",
   "execution_count": 5,
   "metadata": {
    "scrolled": true
   },
   "outputs": [
    {
     "data": {
      "text/plain": [
       "Text(0, 0.5, 'other numbers (unit mcunitface)')"
      ]
     },
     "execution_count": 5,
     "metadata": {},
     "output_type": "execute_result"
    },
    {
     "data": {
      "image/png": "[encoded data removed]",
      "text/plain": [
       "<Figure size 432x288 with 1 Axes>"
      ]
     },
     "metadata": {
      "needs_background": "light"
     },
     "output_type": "display_data"
    }
   ],
   "source": [
    "import math\n",
    "import matplotlib.pyplot as plt\n",
    "import numpy as np\n",
    "\n",
    "# sample data, replace with your own data please!\n",
    "\n",
    "concentration = [0, 1, 2, 3, 4]\n",
    "rate = [1.1,1.9,2.8,4.3,5]\n",
    "\n",
    "# Convert concentration array to a numpy array, so that you can do calculations on it\n",
    "npconc = np.array(concentration)\n",
    "\n",
    "# add a line to calculate a third array called conc_squared\n",
    "conc_squared = \n",
    "\n",
    "\n",
    "# put together a graph using the plot command\n",
    "# in 'plot', first comes the x axis, then the y, then 'ro' plots our points as red circles. \n",
    "fig, plot1 = plt.subplots()\n",
    "plot1.plot(concentration, rate, 'ro')\n",
    "\n",
    "# Add labels on the x and y axis, always including units.\n",
    "plot1.set_xlabel(\"some numbers (unity units)\")\n",
    "plot1.set_ylabel(\"other numbers (unit mcunitface)\")\n",
    "\n",
    "# Add code to do the 2nd order plot (conc_squared vs density)\n",
    "fig, plot2 =\n",
    "\n",
    "\n",
    "\n",
    "#This command shows the figure in the script here. Later we will discuss how to export this plot as an image file,\n",
    "#which can be imported into your ELN.  For now, though, lets just take a look!\n",
    "#plot1.show()\n"
   ]
  },
  {
   "cell_type": "markdown",
   "metadata": {},
   "source": [
    "Now you should see a figure -- two, actually -- with red dots making the data points, along with some very unhelpful axis labels. \n",
    "\n",
    "1. In the code block, update the axis labels to something that is actually properly descriptive for your data\n",
    "\n",
    "2. In one of your plots, change 'ro' to some other color and symbol.  This will help you tell them apart!\n",
    "\n",
    "3. Hit RUN again to rerun this code now that you have updated it.\n",
    "\n",
    "You should now have two plots of your real data, with useful axis labels letting you know that reacton rate is on the y axis, and concentration (or concentration squared) is on the x axis. Hopefully, one of your graphs looks fairly linear! If the graphs look bad, check that the data was entered into the two arrays correctly (and in matching order).\n",
    "\n",
    "The next thing you need to do is to export the linear plot so you can put it in your lab notebook! You have a few choices; you can take a screenshot and paste the image into Lab Archives, or you use Python's built in export tool. Copy the following line of code into the block above, and re-run the block\n",
    "\n",
    "fig.savefig(\"Glucosepythonfigure.png\")\n",
    "\n",
    "\n",
    "A figure called \"Glucospythonfigure\" should now be in the same folder you saved this Jupyter notebook in! You can upload it to your lab notebook as an attachment, as usual."
   ]
  },
  {
   "cell_type": "markdown",
   "metadata": {},
   "source": [
    "## Finding the equation of the line:\n",
    "\n",
    "Now we'll do linear regressions (we'll get into more detail on this in class on Thursday) to figure out the slope and intercept of a straight line that seems to fit your data in each graph.  (You did this once before as part of your Gran plot analysis.)  Be sure to put the correct concentration variable (concentation or conc_squared) in the function, and record the equations and R2 values in your ELN. "
   ]
  },
  {
   "cell_type": "code",
   "execution_count": 7,
   "metadata": {},
   "outputs": [
    {
     "name": "stdout",
     "output_type": "stream",
     "text": [
      "the equation of the line is y = 1.02x + 0.98 and its R-squared value is 0.9931506043228762\n"
     ]
    }
   ],
   "source": [
    "import scipy.stats as stats\n",
    "\n",
    "# The linear regression function in the scipy stats module returns 5 values: slope, intercept, R-squared and then two uncertainty values p and s_m\n",
    "# We'll ignore the last two for the moment, since all we really need right now is the equation of the line.\n",
    "\n",
    "m, b, R2, p, s_m = stats.linregress(concentration, rate)\n",
    "\n",
    "print ('the equation of the line is y = ' + str(m) + 'x + ' + str(b) + ' and its R-squared value is '+ str(R2))\n",
    "\n",
    "# Now add in code to analyze and print out the second linear fit and R2 value:\n"
   ]
  },
  {
   "cell_type": "markdown",
   "metadata": {},
   "source": [
    "## Calculating glucose concentrations in the diluted samples\n",
    "\n",
    "Using the equation just output by the code block above, calculate the concentration of one of your unknowns by hand first. Then complete the code below to calculate the unknown concentration. Make sure your hand-written calculation and your python code are producing the same result!  \n",
    "\n",
    "Next, duplicate the code to calculate the concentration of each unknown sample (and the spiked sample) that you analyzed.  \n"
   ]
  },
  {
   "cell_type": "code",
   "execution_count": 61,
   "metadata": {},
   "outputs": [
    {
     "name": "stdout",
     "output_type": "stream",
     "text": [
      "the concentration of the unknown is 0.41176470588235287 M\n"
     ]
    }
   ],
   "source": [
    "# Enter the reaction rate measured for one of your unknowns, and fill in the blank in the comment line:\n",
    "rate_1 = \n",
    "# Sample 1 was ________________.\n",
    "\n",
    "# now using m, b and rate_1, solve for unknown_concentration (\"x\") and complete the code:\n",
    "sample1_concentration = \n",
    "\n",
    "print ('The concentration of glucose in the diluted unknown is ' + str(sample1_concentration) + ' M')\n",
    "\n",
    "#do your values match? If not, check your math!"
   ]
  },
  {
   "cell_type": "code",
   "execution_count": null,
   "metadata": {},
   "outputs": [],
   "source": [
    "# Calculation of glucose concentration in the other diluted samples:\n"
   ]
  },
  {
   "cell_type": "markdown",
   "metadata": {},
   "source": [
    "Keep in mind that all of these results from the calibration curve are for the diluted samples!  Your last Python task is to multiply these results by the dilution factor to get glucose concentrations in the original juice and soda samples.  Have Python print out these results in a way that makes clear which number goes with which sample."
   ]
  },
  {
   "cell_type": "code",
   "execution_count": null,
   "metadata": {},
   "outputs": [],
   "source": [
    "# Calculation of glucose concentration in original samples -- accounting for dilution:\n"
   ]
  },
  {
   "cell_type": "markdown",
   "metadata": {},
   "source": [
    "Later this week, you'll learn how to determine the uncertainty in these results.  For now, record these concentration values in your ELN to at least 4 sig figs.   Don't forget to add a conclusion to your ELN R&A page!\n",
    "\n",
    "Now you have a fully operational python program for using an external calibration curve to determine the concentration of an unknown.\n",
    "\n",
    "Save this Jupyter spreadsheet with your last name in the title, then upload it to your ELN R&A page.\n"
   ]
  }
 ],
 "metadata": {
  "kernelspec": {
   "display_name": "Python 3",
   "language": "python",
   "name": "python3"
  },
  "language_info": {
   "codemirror_mode": {
    "name": "ipython",
    "version": 3
   },
   "file_extension": ".py",
   "mimetype": "text/x-python",
   "name": "python",
   "nbconvert_exporter": "python",
   "pygments_lexer": "ipython3",
   "version": "3.8.3"
  }
 },
 "nbformat": 4,
 "nbformat_minor": 2
}
