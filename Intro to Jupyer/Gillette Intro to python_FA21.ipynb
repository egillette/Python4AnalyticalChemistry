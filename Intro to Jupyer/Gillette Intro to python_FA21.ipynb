{
 "cells": [
  {
   "cell_type": "markdown",
   "metadata": {
    "id": "8lxnynuZk6Tt"
   },
   "source": [
    "# Introduction to Python\n",
    "\n",
    "## Learning objectives for today:\n",
    "    \n",
    "    \n",
    "1. Learn some basic programming terminology:\n",
    "\n",
    "    * variables (and three variable types - float, integer and string)\n",
    "    \n",
    "    * simple functions\n",
    "    \n",
    "    * comments\n",
    "    \n",
    "    \n",
    "2. Learn how to use simple progamming tools to automate simple calculations\n",
    "\n",
    "    * Indexes and lists\n",
    "    \n",
    "    * For loops\n",
    "    \n",
    "    * If-then statements\n",
    "    \n",
    "    \n",
    "3. Practice simple statistics for describing data:\n",
    "\n",
    "   * Calculate and properly report average, standard deviation and confidence interval for a data set\n",
    "    \n",
    "   * Use a Grubbs test to determine if a data point is an outlier\n",
    "    \n",
    "\n",
    "### Part 1 - Basics of Programming\n",
    "\n",
    "Python can be used just like a calculator. Type \" 5 + 5\" in the box below and hit run. What happens?\n",
    "\n",
    "What other mathematical opperations can you do? Try a few more!\n",
    "\n"
   ]
  },
  {
   "cell_type": "code",
   "execution_count": null,
   "metadata": {
    "colab": {
     "base_uri": "https://localhost:8080/"
    },
    "executionInfo": {
     "elapsed": 146,
     "status": "ok",
     "timestamp": 1626829252102,
     "user": {
      "displayName": "Eleanor Gillette",
      "photoUrl": "https://lh3.googleusercontent.com/a-/AOh14GiZEspyaTthycww-jlUqHhvmPXpr9WvbR1BCm1M=s64",
      "userId": "15008446255861299844"
     },
     "user_tz": 420
    },
    "id": "2DCyhEQqk6Tv",
    "outputId": "cefd51c3-cc46-4afc-ca04-742ee26a372c"
   },
   "outputs": [
    {
     "data": {
      "text/plain": [
       "10"
      ]
     },
     "execution_count": 4,
     "metadata": {
      "tags": []
     },
     "output_type": "execute_result"
    }
   ],
   "source": [
    "#type your math below this comment\n",
    "5+5\n",
    "\n",
    "#Press RUN above to see the output "
   ]
  },
  {
   "cell_type": "markdown",
   "metadata": {
    "id": "fhhgZxdrk6Tw"
   },
   "source": [
    "#### Variables\n",
    "This seems like lot of trouble for a sort of a clumsy calculator.... what else can we do?\n",
    "Variables make it possible for us to save data and use it later! So instead of just seeing the answer for the math we wrote on a single line, we can do more complicated things. For example, let's figure out how many centimeters tall you are, from your height given in feet and inches. We know that there are 2.54 cm in 1 inch, but you all have different heights! So we want to write some code that will give us the right answer every time."
   ]
  },
  {
   "cell_type": "code",
   "execution_count": null,
   "metadata": {
    "colab": {
     "base_uri": "https://localhost:8080/"
    },
    "executionInfo": {
     "elapsed": 150,
     "status": "ok",
     "timestamp": 1626829257493,
     "user": {
      "displayName": "Eleanor Gillette",
      "photoUrl": "https://lh3.googleusercontent.com/a-/AOh14GiZEspyaTthycww-jlUqHhvmPXpr9WvbR1BCm1M=s64",
      "userId": "15008446255861299844"
     },
     "user_tz": 420
    },
    "id": "UsL6S8wMk6Tw",
    "outputId": "90303579-558b-4f3a-efd9-b04ad26b1330"
   },
   "outputs": [
    {
     "name": "stdout",
     "output_type": "stream",
     "text": [
      "I am 162.56 cm tall\n"
     ]
    }
   ],
   "source": [
    "# enter your height here, in feet and inches. \n",
    "feet = 5\n",
    "inches = 4\n",
    "\n",
    "#break this measurement down\n",
    "inches_total = (12*feet) + inches  #convert feet to inches to get the total number of inches\n",
    "centimeters = inches_total * 2.54  #convert from inches to centimeters\n",
    "\n",
    "# let's make a classy looking output for this calculation which includes units and an explanation of what's going on here!\n",
    "\n",
    "statement = \"I am \" + str(centimeters) + \" cm tall\"\n",
    "\n",
    "print(statement)"
   ]
  },
  {
   "cell_type": "markdown",
   "metadata": {
    "id": "Oou10JNbk6Tx"
   },
   "source": [
    "#### Variable Types\n",
    "\n",
    "In the example above, we have demonstrated a number of variable types\n",
    "* Integers: Whole number values, abbreviated 'int'\n",
    "* Floats: Numbers with decimal places, abbreviated 'float'\n",
    "* Strings: Words, abbreviated 'str'\n",
    "\n",
    "We can use the command \"type\" to ask Python to let us know what kind of variable something is. So, which variables in our calculator do you think match these three types? Let's double check!"
   ]
  },
  {
   "cell_type": "code",
   "execution_count": null,
   "metadata": {
    "colab": {
     "base_uri": "https://localhost:8080/"
    },
    "executionInfo": {
     "elapsed": 127,
     "status": "ok",
     "timestamp": 1626829311965,
     "user": {
      "displayName": "Eleanor Gillette",
      "photoUrl": "https://lh3.googleusercontent.com/a-/AOh14GiZEspyaTthycww-jlUqHhvmPXpr9WvbR1BCm1M=s64",
      "userId": "15008446255861299844"
     },
     "user_tz": 420
    },
    "id": "dnlln_tkk6Ty",
    "outputId": "fa401bc1-9b25-43ed-acf8-398970ba6a03"
   },
   "outputs": [
    {
     "data": {
      "text/plain": [
       "str"
      ]
     },
     "execution_count": 10,
     "metadata": {
      "tags": []
     },
     "output_type": "execute_result"
    }
   ],
   "source": [
    "type (statement)"
   ]
  },
  {
   "cell_type": "markdown",
   "metadata": {
    "id": "h4n40NvZk6Ty"
   },
   "source": [
    "## Part 2 - Lists\n",
    "Lists allow us to take a bunch of data of the same type and store it together in a single variable.\n",
    "Here is a simple data set for us to work some example problems with, storred in an list called \"data1\""
   ]
  },
  {
   "cell_type": "code",
   "execution_count": null,
   "metadata": {
    "colab": {
     "base_uri": "https://localhost:8080/"
    },
    "executionInfo": {
     "elapsed": 150,
     "status": "ok",
     "timestamp": 1626829337412,
     "user": {
      "displayName": "Eleanor Gillette",
      "photoUrl": "https://lh3.googleusercontent.com/a-/AOh14GiZEspyaTthycww-jlUqHhvmPXpr9WvbR1BCm1M=s64",
      "userId": "15008446255861299844"
     },
     "user_tz": 420
    },
    "id": "Yd9-DewFk6Ty",
    "outputId": "990ca5a1-6c00-47f5-fd24-56d37b0bcf82",
    "scrolled": true
   },
   "outputs": [
    {
     "name": "stdout",
     "output_type": "stream",
     "text": [
      "[1.1, 1.12, 1.08, 1.09, 1.16]\n",
      "<class 'list'>\n"
     ]
    }
   ],
   "source": [
    "# here is a set of endpoint volumes from a titration, stored in a list. the variable \"data\" contains all of the values you see below\n",
    "\n",
    "data1 = [1.10, 1.12, 1.08, 1.09, 1.16] # mL\n",
    "\n",
    "# we can display the data outside of the coding windown using the print command:\n",
    "\n",
    "print (data1)\n",
    "\n",
    "print(type(data1))"
   ]
  },
  {
   "cell_type": "markdown",
   "metadata": {
    "id": "OVRZjZnUk6Ty"
   },
   "source": [
    "If we want to call an individual data point out of the list, we use an index number which corresponds to it's place in the list. \n",
    "All computer programing languages starting counting at zero, so calling each data point in the list and printing them out looks like this:"
   ]
  },
  {
   "cell_type": "code",
   "execution_count": null,
   "metadata": {
    "colab": {
     "base_uri": "https://localhost:8080/"
    },
    "executionInfo": {
     "elapsed": 182,
     "status": "ok",
     "timestamp": 1626829341478,
     "user": {
      "displayName": "Eleanor Gillette",
      "photoUrl": "https://lh3.googleusercontent.com/a-/AOh14GiZEspyaTthycww-jlUqHhvmPXpr9WvbR1BCm1M=s64",
      "userId": "15008446255861299844"
     },
     "user_tz": 420
    },
    "id": "GlLaelrrk6Tz",
    "outputId": "610e2632-3637-4c83-dff0-ca9e7358c44f"
   },
   "outputs": [
    {
     "name": "stdout",
     "output_type": "stream",
     "text": [
      "the first number in 'data1' is:\n",
      "1.1\n",
      "the second number in 'data1' is: \n",
      "1.12\n",
      "the third number in 'data1' is: \n",
      "1.08\n",
      "the fourth number in 'data1' is: \n",
      "1.09\n",
      "the fifth number in 'data1' is: \n",
      "1.16\n"
     ]
    }
   ],
   "source": [
    "# this will print the first number in the list data 1:\n",
    "print (\"the first number in 'data1' is:\")\n",
    "print (data1[0])\n",
    "\n",
    "# this will print the second number in data 1:\n",
    "print (\"the second number in 'data1' is: \")\n",
    "print (data1[1])\n",
    "\n",
    "# this will print the third number in data 1:\n",
    "print (\"the third number in 'data1' is: \")\n",
    "print (data1[2])\n",
    "\n",
    "# print thet 4th number\n",
    "print (\"the fourth number in 'data1' is: \")\n",
    "print (data1[3])\n",
    "\n",
    "#and the fifth number\n",
    "print (\"the fifth number in 'data1' is: \")\n",
    "print (data1[4])\n",
    "#press RUN to see the output"
   ]
  },
  {
   "cell_type": "markdown",
   "metadata": {
    "id": "oyYabq4Ik6Tz"
   },
   "source": [
    "<b>Now you try!</b> In the coding window below there is a new data set, data set 2. Write one line of code to print out just the 3rd number in that list."
   ]
  },
  {
   "cell_type": "code",
   "execution_count": null,
   "metadata": {
    "colab": {
     "base_uri": "https://localhost:8080/"
    },
    "executionInfo": {
     "elapsed": 138,
     "status": "ok",
     "timestamp": 1626829348078,
     "user": {
      "displayName": "Eleanor Gillette",
      "photoUrl": "https://lh3.googleusercontent.com/a-/AOh14GiZEspyaTthycww-jlUqHhvmPXpr9WvbR1BCm1M=s64",
      "userId": "15008446255861299844"
     },
     "user_tz": 420
    },
    "id": "9Rc2SF8Wk6Tz",
    "outputId": "4981db6e-1b22-4108-b3cf-f34d4606c6d2"
   },
   "outputs": [
    {
     "name": "stdout",
     "output_type": "stream",
     "text": [
      "the third number in 'data2' is: \n",
      "13.8\n"
     ]
    }
   ],
   "source": [
    "#this is the data from our lead case study\n",
    "data2 = [14.1, 11.0, 13.8, 13.6, 14.8] #ppb\n",
    "\n",
    "#write your code here:\n",
    "\n",
    "print (\"the third number in 'data2' is: \")\n"
   ]
  },
  {
   "cell_type": "markdown",
   "metadata": {
    "id": "gQRSlythk6Tz"
   },
   "source": [
    "If you printed out the number 13.8, great!! If not, go back to the example with data1. Remember that computers start counting at 0. Can you fix your code?\n"
   ]
  },
  {
   "cell_type": "markdown",
   "metadata": {
    "id": "NliAvW_Bk6T0"
   },
   "source": [
    "## Part 3 - For Loops\n",
    "This isn't very helpful if we have hundreds or thousands of data points; would you want to type a line of code for every single data point when you needed it?\n",
    "\n",
    "Luckily, we can always automate repative functions!\n",
    "\n",
    "One way to do this is called a \"for loop\":\n",
    "We will ask the computer to continue doing a certain process for each value in a list. The for loop below is set up to print every word stored in the list fruits."
   ]
  },
  {
   "cell_type": "code",
   "execution_count": null,
   "metadata": {
    "colab": {
     "base_uri": "https://localhost:8080/"
    },
    "executionInfo": {
     "elapsed": 149,
     "status": "ok",
     "timestamp": 1626829371255,
     "user": {
      "displayName": "Eleanor Gillette",
      "photoUrl": "https://lh3.googleusercontent.com/a-/AOh14GiZEspyaTthycww-jlUqHhvmPXpr9WvbR1BCm1M=s64",
      "userId": "15008446255861299844"
     },
     "user_tz": 420
    },
    "id": "P9pKwJaFk6T0",
    "outputId": "95173742-b829-4f6e-e909-ca6c6e72a38f",
    "scrolled": true
   },
   "outputs": [
    {
     "name": "stdout",
     "output_type": "stream",
     "text": [
      "apple\n",
      "banana\n",
      "cherry\n",
      "apricot\n",
      "blackberry\n"
     ]
    }
   ],
   "source": [
    "\n",
    "# List of fruits\n",
    "\n",
    "fruits = [\"apple\", \"banana\", \"cherry\",\"apricot\",\"blackberry\"]\n",
    "for x in fruits:\n",
    "  print(x)\n",
    "    \n",
    "    "
   ]
  },
  {
   "cell_type": "markdown",
   "metadata": {
    "id": "GAVxcZVFk6T0"
   },
   "source": [
    "<b>Answer the following questions before you continue: </b> (double click in this box to type in it!)\n",
    "1. Add another fruit to the list, and rerun the block. Did you have the change anything in the for loop to see all of the names?\n",
    "\n",
    "No! Adding another fruit didn't cause any problems with the code.\n",
    "\n",
    "\n",
    "\n"
   ]
  },
  {
   "cell_type": "markdown",
   "metadata": {
    "id": "cKxhQObIk6T1"
   },
   "source": [
    "## Part 4 - Apply lists and for loops to simple mathematical functions\n",
    "\n",
    "A data set that has more than one number will often be stored in a list, and we use for loops to manipulate those lists, and carry out complicated mathematical functions. Today we'll write the code for two simple examples: averages and standard deviations!\n",
    "\n",
    "### Using Python to calculate an average:\n",
    "\n",
    "<b> Answer the following question before you continue </b>\n",
    "1. Think about how you would normally calculate an average. Break it down into two steps, and write them out here in words:\n",
    "\n",
    "\n",
    "\n",
    "2. Take a look at the code block below. Read it carefully and add comments to that code to describe which part is doing Step 1 and Step 2 in your plan.\n",
    "\n",
    "\n",
    "3. Take out a piece of paper or your calculator, and figure out the average for all of the numbers in data1. Then run the code below. Are you numbers the same? Different?\n",
    "\n",
    "\n",
    "\n"
   ]
  },
  {
   "cell_type": "code",
   "execution_count": null,
   "metadata": {
    "colab": {
     "base_uri": "https://localhost:8080/"
    },
    "executionInfo": {
     "elapsed": 127,
     "status": "ok",
     "timestamp": 1626829433320,
     "user": {
      "displayName": "Eleanor Gillette",
      "photoUrl": "https://lh3.googleusercontent.com/a-/AOh14GiZEspyaTthycww-jlUqHhvmPXpr9WvbR1BCm1M=s64",
      "userId": "15008446255861299844"
     },
     "user_tz": 420
    },
    "id": "Wa_r6Utbk6T1",
    "outputId": "7429fe09-d6da-4592-db32-1a0fe6445476"
   },
   "outputs": [
    {
     "name": "stdout",
     "output_type": "stream",
     "text": [
      "13.460000000000003\n"
     ]
    }
   ],
   "source": [
    "#average\n",
    "\n",
    "average2 = 0\n",
    "for x in data2:\n",
    "    average2 = average2 + x\n",
    "    #print(average2)\n",
    "    \n",
    "average2 = average2/len(data2) #len just asks for the length of the list\n",
    "\n",
    "print (average2)\n"
   ]
  },
  {
   "cell_type": "markdown",
   "metadata": {
    "id": "aPox-HYMk6T1"
   },
   "source": [
    "### Using Python to calculate a standard deviation\n",
    "\n",
    "The equation for standard deviation is  $ s={\\sqrt {\\frac {\\sum _{i=1}^{N}(x_{i}-{\\overline {x}})^{2}}{N-1}}} $ where n is the number of data points you have, $ {\\overline {x}} $ is the average and $ x_{i} $ is any one of your data points.\n",
    "\n",
    "If you don't remember the  $ \\sum $ symbol; note that it's called a summation, and it means that you do the operation inside the summation ( in this case $ (x_{i}-{\\overline {x}})^{2} $ for each data point, and then add them all together.\n",
    "\n"
   ]
  },
  {
   "cell_type": "markdown",
   "metadata": {
    "id": "I-XnykRUk6T1"
   },
   "source": [
    "For your practice (and to make sure you really understand the math!), take a minute here and calculate the standard deviation by hand. <b> Answer the following questions before you proceed </b>\n",
    "1. What value did you get for the standard deviation when you calculated it by hand?\n",
    "\n",
    "2. Break the process you did down into steps. Which step do you think a for loop might help you do faster? \n",
    "\n",
    "3. Again, carefully read through the code block below. Add comments to show where each step you described in 2. is being carried out\n",
    "\n",
    "Now, run the code block below and see if the value matched your hand-calculated standard deviation!"
   ]
  },
  {
   "cell_type": "code",
   "execution_count": null,
   "metadata": {
    "colab": {
     "base_uri": "https://localhost:8080/"
    },
    "executionInfo": {
     "elapsed": 122,
     "status": "ok",
     "timestamp": 1626829562464,
     "user": {
      "displayName": "Eleanor Gillette",
      "photoUrl": "https://lh3.googleusercontent.com/a-/AOh14GiZEspyaTthycww-jlUqHhvmPXpr9WvbR1BCm1M=s64",
      "userId": "15008446255861299844"
     },
     "user_tz": 420
    },
    "id": "0QcKnwLJk6T1",
    "outputId": "d6028881-7231-4735-f733-fafaf7b7e79c"
   },
   "outputs": [
    {
     "name": "stdout",
     "output_type": "stream",
     "text": [
      "the average concentration 13.460000000000003 +/- 1.4484474446799926 ppb\n"
     ]
    }
   ],
   "source": [
    "# standard devation\n",
    "\n",
    "#note that we must sometimes 'import' additional commands to suppliment python's basic library. \n",
    "# The \"math\" library gives us access to extended mathemtical functions, like square roots and logarithms.\n",
    "import math\n",
    "# add your comments here; what are we doing?\n",
    "\n",
    "sigma_x = 0\n",
    "n = len(data2)\n",
    "\n",
    "#print(n)\n",
    "# add your own comments here\n",
    "for x in data2:\n",
    "    #print(x)\n",
    "    sigma_x = sigma_x + ((x-average2)**2)\n",
    "    #print(sigma_x)\n",
    "    \n",
    "\n",
    "std2 = math.sqrt(sigma_x/(n-1))\n",
    "\n",
    "# Now we print out the average and standard deviation together, with the correct format\n",
    "\n",
    "# Note that text needs to be in quotation marks, and we're converting numbers to text (aka strings)\n",
    "\n",
    "# using the str() command.\n",
    "\n",
    "print (\"the average concentration \" + str(average2) + \" +/- \" + str(std2) + \" ppb\")"
   ]
  },
  {
   "cell_type": "markdown",
   "metadata": {
    "id": "AcnSvd10k6T2"
   },
   "source": [
    "<b> Whoa, thats a lot of digits! </b> That can't possibly be the right number of significant digits, right? Remember that the computer only knows how to do what you tell it to do! So if you don't tell it to round to a certain number of digits, it will just give you everything it has stored. So lets figure out how to round those numbers to something a little more reasonable.\n",
    "\n"
   ]
  },
  {
   "cell_type": "code",
   "execution_count": null,
   "metadata": {
    "colab": {
     "base_uri": "https://localhost:8080/"
    },
    "executionInfo": {
     "elapsed": 125,
     "status": "ok",
     "timestamp": 1626829577055,
     "user": {
      "displayName": "Eleanor Gillette",
      "photoUrl": "https://lh3.googleusercontent.com/a-/AOh14GiZEspyaTthycww-jlUqHhvmPXpr9WvbR1BCm1M=s64",
      "userId": "15008446255861299844"
     },
     "user_tz": 420
    },
    "id": "T4kJQTMCk6T2",
    "outputId": "83e5d71d-e044-468a-b5d3-56032ce063d2"
   },
   "outputs": [
    {
     "name": "stdout",
     "output_type": "stream",
     "text": [
      "the average concentration is 13.46 +/- 1.4484474 ppb\n"
     ]
    }
   ],
   "source": [
    "#Rounding numbers\n",
    "std2_out = round(std2,7)\n",
    "average2_out = round(average2,7)\n",
    "\n",
    "print (\"the average concentration is \" + str(average2_out) + \" +/- \" + str(std2_out) + \" ppb\")\n"
   ]
  },
  {
   "cell_type": "markdown",
   "metadata": {
    "id": "grCSDMI5k6T2"
   },
   "source": [
    "## How to calculate a confidence interval\n",
    "\n",
    "The equation for confidence interval is  $ CI= {\\frac {ts}{\\sqrt {n}}} $ We already know how to get n (from the length of the list!) and you already calculated s! So now we just need t. Luckily, Python has those t-tables from your text book, we just have to tell it which one we need! See the code below:\n",
    "\n",
    "* Do these values match your calculated standard deviation? What seems to be the problem? (HINT: uncomment that print(t) statement and see what's happening there!)\n",
    "\n",
    "* Update this code to fix the sig. figs in the output"
   ]
  },
  {
   "cell_type": "code",
   "execution_count": null,
   "metadata": {
    "colab": {
     "base_uri": "https://localhost:8080/"
    },
    "executionInfo": {
     "elapsed": 796,
     "status": "ok",
     "timestamp": 1626829608011,
     "user": {
      "displayName": "Eleanor Gillette",
      "photoUrl": "https://lh3.googleusercontent.com/a-/AOh14GiZEspyaTthycww-jlUqHhvmPXpr9WvbR1BCm1M=s64",
      "userId": "15008446255861299844"
     },
     "user_tz": 420
    },
    "id": "uXg0A8Pkk6T2",
    "outputId": "c4e28472-691d-4b35-faf9-1c362db58d67"
   },
   "outputs": [
    {
     "name": "stdout",
     "output_type": "stream",
     "text": [
      "2.7764451051977987\n",
      "the average concentration is 13.460000000000003 +/- 1.7984850453493884ppb\n"
     ]
    }
   ],
   "source": [
    "import scipy.stats as stats\n",
    "#the first input is confidence %, the second is degrees of freedom (n-1)\n",
    "\n",
    "# we will always use \"two tailed t values\", so the confidence interval format is slightly different than expected\n",
    "\n",
    "#confidence level\n",
    "\n",
    "alpha = 0.05 # 1- alpha should equal your confidence interval. Here, we use 0.05, for a 95% confidence interval\n",
    "dof = len(data2) - 1 # degrees of freedom is the number of samples (i.e. the length of the list) minus one\n",
    "\n",
    "#two tailed t statistics require the following format:\n",
    "\n",
    "t = stats.t.ppf(1-alpha/2, dof) #inputs are alpha to set the confidence interval and degrees of freedom\n",
    "\n",
    "#check that this matches the value in the textbook!\n",
    "print(t)\n",
    "\n",
    "\n",
    "# calculate the actual confidence interval\n",
    "CI_data2 = std2*t/math.sqrt(len(data2))\n",
    "\n",
    "\n",
    "print (\"the average concentration is \" + str(average2) + \" +/- \" + str(CI_data2) + \" ppb\")"
   ]
  },
  {
   "cell_type": "markdown",
   "metadata": {
    "id": "ujLbxyLvk6T3"
   },
   "source": [
    "## Part 4: The Grubbs test or how to discard outliers\n",
    "Now you have the average and the standard deviation of your data. Do you think there might be any outliers? Any values which seem really far away from your mean, and which you think might be the result of a systemattic error (the empty flask was still wet) or a mistake, rather than just random variation?\n",
    "\n",
    "We can't just go throwing data points out  because we think they look funky. But we can try a statistic test to see how likely it is that the data point we're suspicious about came from our data set. This test is a called a <b> Grubb's test </b>\n",
    "\n",
    "First, we must calculate a G value for our data, using our average ($ {\\bar  {x}} $ ), our standard deviation (s) and our most likely ourlier ( $ x_{i} $ ). We will plug those values into the following equation: $ G={\\frac {\\left\\vert x_{i}-{\\bar  {x}}\\right\\vert }{s}} $\n",
    "\n",
    "We then must compare our G value to a 'G critical' value, which we must look up in a table. Our null hypothesis is that our calculated G value will be less than the 'G critical' value, and that our value is NOT an outlier. Only if our calculated G value is greater than a G critical value, can we discard that value as an outlier.\n",
    "\n",
    "<b> Before you continue, answer the following questions </b>\n",
    "1. Look at your water density data and pick a likely outlier. Explain why you think it is possibly an outlier.\n",
    "\n",
    "2. Calculate G for your suspected outlier. \n",
    "\n",
    "3. Look up G critical, and compare it to your calculated G. Is this value an outlier, or not?\n",
    "\n"
   ]
  },
  {
   "cell_type": "markdown",
   "metadata": {
    "id": "8LxKTStqk6T3"
   },
   "source": [
    "### Programming the Grubbs test with Python\n",
    "\n",
    "We can write programs which make decisions for us, if we can correctly communicate the criteria of the decision. This turns out to be great for statical tests like the Grubbs test. But, to do this, we typically have to structure the descision in the form of an \"if-then statement\". For example, \"if G calculated is greater than G critical, the data point is an outlier, and can be discarded\""
   ]
  },
  {
   "cell_type": "code",
   "execution_count": null,
   "metadata": {
    "colab": {
     "base_uri": "https://localhost:8080/"
    },
    "executionInfo": {
     "elapsed": 139,
     "status": "ok",
     "timestamp": 1626829900087,
     "user": {
      "displayName": "Eleanor Gillette",
      "photoUrl": "https://lh3.googleusercontent.com/a-/AOh14GiZEspyaTthycww-jlUqHhvmPXpr9WvbR1BCm1M=s64",
      "userId": "15008446255861299844"
     },
     "user_tz": 420
    },
    "id": "4znc7NAKk6T3",
    "outputId": "e822c5d9-b159-4907-d3ab-6f6c3a8bdbee"
   },
   "outputs": [
    {
     "name": "stdout",
     "output_type": "stream",
     "text": [
      "1.6983702163549976 is greater than 1.672\n",
      "11.0 is an outlier and should be removed from the data.\n"
     ]
    }
   ],
   "source": [
    "# Python doesn't happen to have an easy look-up for the Grubb's critical values, \n",
    "# so just enter the one you looked up in the textbook and complete the the next line:\n",
    "G_crit = \n",
    "# Note: This G_crit value is for ? observations and ? confidence level.\n",
    "\n",
    "# enter your suspect value here (where is it in your data2 array?)\n",
    "suspect = data2[n]\n",
    "\n",
    "# Note: The function abs() calculates the absolute value by changing negative numbers to positive.\n",
    "G_calc = abs(suspect - average2)/std2\n",
    "\n",
    "if G_calc < G_crit:\n",
    "    print (str(G_calc) + \" is less than \" + str(G_crit))\n",
    "    print (str(suspect) + \" is not an outlier.\")\n",
    "if G_calc > G_crit:\n",
    "    print (str(G_calc) + \" is greater than \" + str(G_crit))\n",
    "    print (str(suspect) + \" is an outlier and should be removed from the data.\")\n"
   ]
  },
  {
   "cell_type": "markdown",
   "metadata": {
    "id": "PJkDqvtEk6T3"
   },
   "source": [
    "## Save and Submit this Code\n",
    "\n",
    "1. Be sure you have answered all of the questions in this notebook. \n",
    "2. Rename the copy with your last name by double clicking on the \"Copy of 1 Intro to Python\" at the top of this page.\n",
    "3.Upload this file into your ELN to submit. "
   ]
  }
 ],
 "metadata": {
  "colab": {
   "name": "Gillette Intro to python_FA21.ipynb",
   "provenance": [
    {
     "file_id": "126WzRC-vIkkiAafINGmTjK2Oo3Tw3UFR",
     "timestamp": 1626829924519
    }
   ]
  },
  "kernelspec": {
   "display_name": "Python 3 (ipykernel)",
   "language": "python",
   "name": "python3"
  },
  "language_info": {
   "codemirror_mode": {
    "name": "ipython",
    "version": 3
   },
   "file_extension": ".py",
   "mimetype": "text/x-python",
   "name": "python",
   "nbconvert_exporter": "python",
   "pygments_lexer": "ipython3",
   "version": "3.9.12"
  }
 },
 "nbformat": 4,
 "nbformat_minor": 4
}
